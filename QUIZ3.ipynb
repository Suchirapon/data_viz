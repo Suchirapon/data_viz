{
  "nbformat": 4,
  "nbformat_minor": 0,
  "metadata": {
    "colab": {
      "name": "QUIZ3.ipynb",
      "provenance": [],
      "authorship_tag": "ABX9TyMNtWKkyUnURI8tcDrx5pI0",
      "include_colab_link": true
    },
    "kernelspec": {
      "name": "python3",
      "display_name": "Python 3"
    }
  },
  "cells": [
    {
      "cell_type": "markdown",
      "metadata": {
        "id": "view-in-github",
        "colab_type": "text"
      },
      "source": [
        "<a href=\"https://colab.research.google.com/github/Suchirapon/data_viz/blob/main/QUIZ3.ipynb\" target=\"_parent\"><img src=\"https://colab.research.google.com/assets/colab-badge.svg\" alt=\"Open In Colab\"/></a>"
      ]
    },
    {
      "cell_type": "code",
      "metadata": {
        "id": "5uxbVMIG17ot"
      },
      "source": [
        "import pandas as pd"
      ],
      "execution_count": 1,
      "outputs": []
    },
    {
      "cell_type": "code",
      "metadata": {
        "colab": {
          "base_uri": "https://localhost:8080/"
        },
        "id": "LKdE3eIP4x8z",
        "outputId": "1a07cc7f-f1ae-4282-972c-352fad28d49e"
      },
      "source": [
        "from google.colab import drive #เชื่อมต่อ google.colab กับ drive\r\n",
        "drive.mount('/content/drive')"
      ],
      "execution_count": 3,
      "outputs": [
        {
          "output_type": "stream",
          "text": [
            "Mounted at /content/drive\n"
          ],
          "name": "stdout"
        }
      ]
    },
    {
      "cell_type": "code",
      "metadata": {
        "id": "xlnjIREE64IM"
      },
      "source": [
        "import os #ทำงานเกี่ยวกับการจัดการไฟล์ \r\n",
        "path = '/content/drive/My Drive/dataviz_2021_data'"
      ],
      "execution_count": 4,
      "outputs": []
    },
    {
      "cell_type": "code",
      "metadata": {
        "id": "WgKbNc8d64FW"
      },
      "source": [
        "data_path = os.path.join(path,'จัดซื้อ.xls')"
      ],
      "execution_count": 7,
      "outputs": []
    },
    {
      "cell_type": "code",
      "metadata": {
        "colab": {
          "base_uri": "https://localhost:8080/",
          "height": 306
        },
        "id": "Lm4hJIFY8S09",
        "outputId": "a3b60552-cfa8-4dc2-d80d-4106be3ba016"
      },
      "source": [
        "data_1= pd.read_excel('/content/drive/My Drive/dataviz_2021_data/จัดซื้อ.xls',sheet_name='ตค.57',skiprows=1)\r\n",
        "data_1.head()"
      ],
      "execution_count": 19,
      "outputs": [
        {
          "output_type": "execute_result",
          "data": {
            "text/html": [
              "<div>\n",
              "<style scoped>\n",
              "    .dataframe tbody tr th:only-of-type {\n",
              "        vertical-align: middle;\n",
              "    }\n",
              "\n",
              "    .dataframe tbody tr th {\n",
              "        vertical-align: top;\n",
              "    }\n",
              "\n",
              "    .dataframe thead th {\n",
              "        text-align: right;\n",
              "    }\n",
              "</style>\n",
              "<table border=\"1\" class=\"dataframe\">\n",
              "  <thead>\n",
              "    <tr style=\"text-align: right;\">\n",
              "      <th></th>\n",
              "      <th>สรุปผลการดำเนินการจัดซื้อในรอบเดือน ตุลาคม 2557</th>\n",
              "      <th>Unnamed: 1</th>\n",
              "      <th>Unnamed: 2</th>\n",
              "      <th>Unnamed: 3</th>\n",
              "      <th>Unnamed: 4</th>\n",
              "      <th>Unnamed: 5</th>\n",
              "      <th>Unnamed: 6</th>\n",
              "      <th>Unnamed: 7</th>\n",
              "      <th>Unnamed: 8</th>\n",
              "    </tr>\n",
              "  </thead>\n",
              "  <tbody>\n",
              "    <tr>\n",
              "      <th>0</th>\n",
              "      <td>สำนักงานปลัดกระทรวงวิทยาศาสตร์และเทคโนโลยี</td>\n",
              "      <td>NaN</td>\n",
              "      <td>NaN</td>\n",
              "      <td>NaN</td>\n",
              "      <td>NaN</td>\n",
              "      <td>NaN</td>\n",
              "      <td>NaN</td>\n",
              "      <td>NaN</td>\n",
              "      <td>NaN</td>\n",
              "    </tr>\n",
              "    <tr>\n",
              "      <th>1</th>\n",
              "      <td>NaN</td>\n",
              "      <td>NaN</td>\n",
              "      <td>NaN</td>\n",
              "      <td>NaN</td>\n",
              "      <td>NaN</td>\n",
              "      <td>NaN</td>\n",
              "      <td>NaN</td>\n",
              "      <td>NaN</td>\n",
              "      <td>NaN</td>\n",
              "    </tr>\n",
              "    <tr>\n",
              "      <th>2</th>\n",
              "      <td>ลำดับ</td>\n",
              "      <td>งานจัดซื้อ</td>\n",
              "      <td>วงเงินงบประมาณ</td>\n",
              "      <td>วิธีซื้อ</td>\n",
              "      <td>ผู้เสนอราคาและราคาที่เสนอ</td>\n",
              "      <td>NaN</td>\n",
              "      <td>ผู้ได้รับการคัดเลือกและราคา</td>\n",
              "      <td>NaN</td>\n",
              "      <td>เหตุผลที่คัดเลือกโดยสรุป</td>\n",
              "    </tr>\n",
              "    <tr>\n",
              "      <th>3</th>\n",
              "      <td>ที่</td>\n",
              "      <td>NaN</td>\n",
              "      <td>(ราคากลาง)</td>\n",
              "      <td>NaN</td>\n",
              "      <td>NaN</td>\n",
              "      <td>NaN</td>\n",
              "      <td>NaN</td>\n",
              "      <td>NaN</td>\n",
              "      <td>NaN</td>\n",
              "    </tr>\n",
              "    <tr>\n",
              "      <th>4</th>\n",
              "      <td>1</td>\n",
              "      <td>จัดซื้อน้ำดิ่มบรรจุถังใส PC จำนวน 10 ถัง ประจำ...</td>\n",
              "      <td>350</td>\n",
              "      <td>ตกลงราคา</td>\n",
              "      <td>บริษัท ชลบุรี เลี่ยงเฮงไถ่ จำกัด</td>\n",
              "      <td>350.0</td>\n",
              "      <td>บริษัท ชลบุรี เลี่ยงเฮงไถ่ จำกัด</td>\n",
              "      <td>350.0</td>\n",
              "      <td>เป็นผู้ให้บริการจำหน่าย</td>\n",
              "    </tr>\n",
              "  </tbody>\n",
              "</table>\n",
              "</div>"
            ],
            "text/plain": [
              "  สรุปผลการดำเนินการจัดซื้อในรอบเดือน ตุลาคม 2557  ...                Unnamed: 8\n",
              "0      สำนักงานปลัดกระทรวงวิทยาศาสตร์และเทคโนโลยี  ...                       NaN\n",
              "1                                             NaN  ...                       NaN\n",
              "2                                           ลำดับ  ...  เหตุผลที่คัดเลือกโดยสรุป\n",
              "3                                             ที่  ...                       NaN\n",
              "4                                               1  ...   เป็นผู้ให้บริการจำหน่าย\n",
              "\n",
              "[5 rows x 9 columns]"
            ]
          },
          "metadata": {
            "tags": []
          },
          "execution_count": 19
        }
      ]
    },
    {
      "cell_type": "code",
      "metadata": {
        "colab": {
          "base_uri": "https://localhost:8080/",
          "height": 306
        },
        "id": "RaqfVJkP64Bq",
        "outputId": "1c3e1111-127f-4f2a-8b83-2f19976f7740"
      },
      "source": [
        "data_2= pd.read_excel('/content/drive/My Drive/dataviz_2021_data/จัดซื้อ.xls',sheet_name='พย.57',skiprows=1)\r\n",
        "data_2.head()"
      ],
      "execution_count": 15,
      "outputs": [
        {
          "output_type": "execute_result",
          "data": {
            "text/html": [
              "<div>\n",
              "<style scoped>\n",
              "    .dataframe tbody tr th:only-of-type {\n",
              "        vertical-align: middle;\n",
              "    }\n",
              "\n",
              "    .dataframe tbody tr th {\n",
              "        vertical-align: top;\n",
              "    }\n",
              "\n",
              "    .dataframe thead th {\n",
              "        text-align: right;\n",
              "    }\n",
              "</style>\n",
              "<table border=\"1\" class=\"dataframe\">\n",
              "  <thead>\n",
              "    <tr style=\"text-align: right;\">\n",
              "      <th></th>\n",
              "      <th>สรุปผลการดำเนินการจัดซื้อในรอบเดือน พฤษจิกายน 2557</th>\n",
              "      <th>Unnamed: 1</th>\n",
              "      <th>Unnamed: 2</th>\n",
              "      <th>Unnamed: 3</th>\n",
              "      <th>Unnamed: 4</th>\n",
              "      <th>Unnamed: 5</th>\n",
              "      <th>Unnamed: 6</th>\n",
              "      <th>Unnamed: 7</th>\n",
              "      <th>Unnamed: 8</th>\n",
              "    </tr>\n",
              "  </thead>\n",
              "  <tbody>\n",
              "    <tr>\n",
              "      <th>0</th>\n",
              "      <td>สำนักงานปลัดกระทรวงวิทยาศาสตร์และเทคโนโลยี</td>\n",
              "      <td>NaN</td>\n",
              "      <td>NaN</td>\n",
              "      <td>NaN</td>\n",
              "      <td>NaN</td>\n",
              "      <td>NaN</td>\n",
              "      <td>NaN</td>\n",
              "      <td>NaN</td>\n",
              "      <td>NaN</td>\n",
              "    </tr>\n",
              "    <tr>\n",
              "      <th>1</th>\n",
              "      <td>NaN</td>\n",
              "      <td>NaN</td>\n",
              "      <td>NaN</td>\n",
              "      <td>NaN</td>\n",
              "      <td>NaN</td>\n",
              "      <td>NaN</td>\n",
              "      <td>NaN</td>\n",
              "      <td>NaN</td>\n",
              "      <td>NaN</td>\n",
              "    </tr>\n",
              "    <tr>\n",
              "      <th>2</th>\n",
              "      <td>ลำดับ</td>\n",
              "      <td>งานจัดซื้อ</td>\n",
              "      <td>วงเงินงบประมาณ</td>\n",
              "      <td>วิธีซื้อ</td>\n",
              "      <td>ผู้เสนอราคาและราคาที่เสนอ</td>\n",
              "      <td>NaN</td>\n",
              "      <td>ผู้ได้รับการคัดเลือกและราคา</td>\n",
              "      <td>NaN</td>\n",
              "      <td>เหตุผลที่คัดเลือกโดยสรุป</td>\n",
              "    </tr>\n",
              "    <tr>\n",
              "      <th>3</th>\n",
              "      <td>ที่</td>\n",
              "      <td>NaN</td>\n",
              "      <td>(ราคากลาง)</td>\n",
              "      <td>NaN</td>\n",
              "      <td>NaN</td>\n",
              "      <td>NaN</td>\n",
              "      <td>NaN</td>\n",
              "      <td>NaN</td>\n",
              "      <td>NaN</td>\n",
              "    </tr>\n",
              "    <tr>\n",
              "      <th>4</th>\n",
              "      <td>1</td>\n",
              "      <td>จัดซื้อวัสดุสำนักงาน จำนวน 17 รายการ</td>\n",
              "      <td>13090.4</td>\n",
              "      <td>ตกลงราคา</td>\n",
              "      <td>หจก.ไมโคร ซัม เอ็นเตอร์ไพร์ส</td>\n",
              "      <td>13090.38</td>\n",
              "      <td>หจก.ไมโคร ซัม เอ็นเตอร์ไพร์ส</td>\n",
              "      <td>13090.38</td>\n",
              "      <td>เป็นผู้ให้บริการจำหน่าย</td>\n",
              "    </tr>\n",
              "  </tbody>\n",
              "</table>\n",
              "</div>"
            ],
            "text/plain": [
              "  สรุปผลการดำเนินการจัดซื้อในรอบเดือน พฤษจิกายน 2557  ...                Unnamed: 8\n",
              "0         สำนักงานปลัดกระทรวงวิทยาศาสตร์และเทคโนโลยี  ...                       NaN\n",
              "1                                                NaN  ...                       NaN\n",
              "2                                              ลำดับ  ...  เหตุผลที่คัดเลือกโดยสรุป\n",
              "3                                                ที่  ...                       NaN\n",
              "4                                                  1  ...   เป็นผู้ให้บริการจำหน่าย\n",
              "\n",
              "[5 rows x 9 columns]"
            ]
          },
          "metadata": {
            "tags": []
          },
          "execution_count": 15
        }
      ]
    }
  ]
}