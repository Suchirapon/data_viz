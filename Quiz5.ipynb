{
  "nbformat": 4,
  "nbformat_minor": 0,
  "metadata": {
    "colab": {
      "name": "Quiz5.ipynb",
      "provenance": [],
      "authorship_tag": "ABX9TyM0AdBwcjzfHCRzdIHyWN7R",
      "include_colab_link": true
    },
    "kernelspec": {
      "name": "python3",
      "display_name": "Python 3"
    },
    "language_info": {
      "name": "python"
    }
  },
  "cells": [
    {
      "cell_type": "markdown",
      "metadata": {
        "id": "view-in-github",
        "colab_type": "text"
      },
      "source": [
        "<a href=\"https://colab.research.google.com/github/Suchirapon/data_viz/blob/main/Quiz5.ipynb\" target=\"_parent\"><img src=\"https://colab.research.google.com/assets/colab-badge.svg\" alt=\"Open In Colab\"/></a>"
      ]
    },
    {
      "cell_type": "code",
      "metadata": {
        "id": "Mpkn2h6izUka",
        "colab": {
          "base_uri": "https://localhost:8080/"
        },
        "outputId": "95e9bb6a-6202-4b43-d3ad-2fa1bc7f66db"
      },
      "source": [
        "import pandas as pd\n",
        "from google.colab import drive #เชื่อมต่อ google.colab กับ drive\n",
        "drive.mount('/content/drive')"
      ],
      "execution_count": 1,
      "outputs": [
        {
          "output_type": "stream",
          "text": [
            "Mounted at /content/drive\n"
          ],
          "name": "stdout"
        }
      ]
    },
    {
      "cell_type": "code",
      "metadata": {
        "id": "U2N5E7kXz04R"
      },
      "source": [
        "import os #ทำงานเกี่ยวกับการจัดการไฟล์ \n",
        "path = '/content/drive/My Drive/dataviz_2021_data'"
      ],
      "execution_count": 4,
      "outputs": []
    },
    {
      "cell_type": "code",
      "metadata": {
        "id": "JCswvH9Cz4md"
      },
      "source": [
        "data = os.path.join(path,'example_timestamp.csv')"
      ],
      "execution_count": 6,
      "outputs": []
    },
    {
      "cell_type": "code",
      "metadata": {
        "colab": {
          "base_uri": "https://localhost:8080/",
          "height": 263
        },
        "id": "PVGCpRHVvehh",
        "outputId": "348bf2ba-c660-41b8-d25d-fcb3ff74a7dc"
      },
      "source": [
        "data = pd.read_csv(data) \n",
        "data"
      ],
      "execution_count": 7,
      "outputs": [
        {
          "output_type": "execute_result",
          "data": {
            "text/html": [
              "<div>\n",
              "<style scoped>\n",
              "    .dataframe tbody tr th:only-of-type {\n",
              "        vertical-align: middle;\n",
              "    }\n",
              "\n",
              "    .dataframe tbody tr th {\n",
              "        vertical-align: top;\n",
              "    }\n",
              "\n",
              "    .dataframe thead th {\n",
              "        text-align: right;\n",
              "    }\n",
              "</style>\n",
              "<table border=\"1\" class=\"dataframe\">\n",
              "  <thead>\n",
              "    <tr style=\"text-align: right;\">\n",
              "      <th></th>\n",
              "      <th>Unnamed: 0</th>\n",
              "      <th>alpha</th>\n",
              "      <th>beta</th>\n",
              "    </tr>\n",
              "  </thead>\n",
              "  <tbody>\n",
              "    <tr>\n",
              "      <th>0</th>\n",
              "      <td>2020-05-29</td>\n",
              "      <td>8.78</td>\n",
              "      <td>24</td>\n",
              "    </tr>\n",
              "    <tr>\n",
              "      <th>1</th>\n",
              "      <td>2020-05-30</td>\n",
              "      <td>13.00</td>\n",
              "      <td>25</td>\n",
              "    </tr>\n",
              "    <tr>\n",
              "      <th>2</th>\n",
              "      <td>2020-05-31</td>\n",
              "      <td>0.44</td>\n",
              "      <td>25</td>\n",
              "    </tr>\n",
              "    <tr>\n",
              "      <th>3</th>\n",
              "      <td>2020-06-01</td>\n",
              "      <td>1.94</td>\n",
              "      <td>28</td>\n",
              "    </tr>\n",
              "    <tr>\n",
              "      <th>4</th>\n",
              "      <td>2020-06-02</td>\n",
              "      <td>5.40</td>\n",
              "      <td>20</td>\n",
              "    </tr>\n",
              "    <tr>\n",
              "      <th>5</th>\n",
              "      <td>2020-06-03</td>\n",
              "      <td>5.68</td>\n",
              "      <td>21</td>\n",
              "    </tr>\n",
              "    <tr>\n",
              "      <th>6</th>\n",
              "      <td>2020-06-04</td>\n",
              "      <td>2.64</td>\n",
              "      <td>16</td>\n",
              "    </tr>\n",
              "  </tbody>\n",
              "</table>\n",
              "</div>"
            ],
            "text/plain": [
              "   Unnamed: 0  alpha  beta\n",
              "0  2020-05-29   8.78    24\n",
              "1  2020-05-30  13.00    25\n",
              "2  2020-05-31   0.44    25\n",
              "3  2020-06-01   1.94    28\n",
              "4  2020-06-02   5.40    20\n",
              "5  2020-06-03   5.68    21\n",
              "6  2020-06-04   2.64    16"
            ]
          },
          "metadata": {
            "tags": []
          },
          "execution_count": 7
        }
      ]
    },
    {
      "cell_type": "code",
      "metadata": {
        "id": "OTaS0pEFcebZ",
        "outputId": "512f9929-1948-49f5-fa1c-70d965a8c726",
        "colab": {
          "base_uri": "https://localhost:8080/",
          "height": 35
        }
      },
      "source": [
        "data.iloc[0,0]"
      ],
      "execution_count": 8,
      "outputs": [
        {
          "output_type": "execute_result",
          "data": {
            "application/vnd.google.colaboratory.intrinsic+json": {
              "type": "string"
            },
            "text/plain": [
              "'2020-05-29'"
            ]
          },
          "metadata": {
            "tags": []
          },
          "execution_count": 8
        }
      ]
    },
    {
      "cell_type": "code",
      "metadata": {
        "id": "hM-r4PrqcfXn"
      },
      "source": [
        "from datetime import datetime"
      ],
      "execution_count": 9,
      "outputs": []
    },
    {
      "cell_type": "code",
      "metadata": {
        "id": "9p_LfZIZciJu",
        "outputId": "e3f81237-0f0a-4993-df3e-941703e145c4",
        "colab": {
          "base_uri": "https://localhost:8080/",
          "height": 263
        }
      },
      "source": [
        "data['Unnamed: 0'] = pd.to_datetime(data['Unnamed: 0'], format='%Y-%m-%d')\n",
        "data"
      ],
      "execution_count": 10,
      "outputs": [
        {
          "output_type": "execute_result",
          "data": {
            "text/html": [
              "<div>\n",
              "<style scoped>\n",
              "    .dataframe tbody tr th:only-of-type {\n",
              "        vertical-align: middle;\n",
              "    }\n",
              "\n",
              "    .dataframe tbody tr th {\n",
              "        vertical-align: top;\n",
              "    }\n",
              "\n",
              "    .dataframe thead th {\n",
              "        text-align: right;\n",
              "    }\n",
              "</style>\n",
              "<table border=\"1\" class=\"dataframe\">\n",
              "  <thead>\n",
              "    <tr style=\"text-align: right;\">\n",
              "      <th></th>\n",
              "      <th>Unnamed: 0</th>\n",
              "      <th>alpha</th>\n",
              "      <th>beta</th>\n",
              "    </tr>\n",
              "  </thead>\n",
              "  <tbody>\n",
              "    <tr>\n",
              "      <th>0</th>\n",
              "      <td>2020-05-29</td>\n",
              "      <td>8.78</td>\n",
              "      <td>24</td>\n",
              "    </tr>\n",
              "    <tr>\n",
              "      <th>1</th>\n",
              "      <td>2020-05-30</td>\n",
              "      <td>13.00</td>\n",
              "      <td>25</td>\n",
              "    </tr>\n",
              "    <tr>\n",
              "      <th>2</th>\n",
              "      <td>2020-05-31</td>\n",
              "      <td>0.44</td>\n",
              "      <td>25</td>\n",
              "    </tr>\n",
              "    <tr>\n",
              "      <th>3</th>\n",
              "      <td>2020-06-01</td>\n",
              "      <td>1.94</td>\n",
              "      <td>28</td>\n",
              "    </tr>\n",
              "    <tr>\n",
              "      <th>4</th>\n",
              "      <td>2020-06-02</td>\n",
              "      <td>5.40</td>\n",
              "      <td>20</td>\n",
              "    </tr>\n",
              "    <tr>\n",
              "      <th>5</th>\n",
              "      <td>2020-06-03</td>\n",
              "      <td>5.68</td>\n",
              "      <td>21</td>\n",
              "    </tr>\n",
              "    <tr>\n",
              "      <th>6</th>\n",
              "      <td>2020-06-04</td>\n",
              "      <td>2.64</td>\n",
              "      <td>16</td>\n",
              "    </tr>\n",
              "  </tbody>\n",
              "</table>\n",
              "</div>"
            ],
            "text/plain": [
              "  Unnamed: 0  alpha  beta\n",
              "0 2020-05-29   8.78    24\n",
              "1 2020-05-30  13.00    25\n",
              "2 2020-05-31   0.44    25\n",
              "3 2020-06-01   1.94    28\n",
              "4 2020-06-02   5.40    20\n",
              "5 2020-06-03   5.68    21\n",
              "6 2020-06-04   2.64    16"
            ]
          },
          "metadata": {
            "tags": []
          },
          "execution_count": 10
        }
      ]
    },
    {
      "cell_type": "code",
      "metadata": {
        "id": "92i7CmKWclxQ",
        "outputId": "ca69b40d-7815-4695-c68a-f86642783b2e",
        "colab": {
          "base_uri": "https://localhost:8080/"
        }
      },
      "source": [
        "data.iloc[0,0]"
      ],
      "execution_count": 11,
      "outputs": [
        {
          "output_type": "execute_result",
          "data": {
            "text/plain": [
              "Timestamp('2020-05-29 00:00:00')"
            ]
          },
          "metadata": {
            "tags": []
          },
          "execution_count": 11
        }
      ]
    },
    {
      "cell_type": "code",
      "metadata": {
        "id": "v5mtBYOzcn4P",
        "outputId": "f1b11395-221c-4ce9-c2c0-45d5621e2d97",
        "colab": {
          "base_uri": "https://localhost:8080/"
        }
      },
      "source": [
        "A = data[data['Unnamed: 0']<datetime(day=2,month=6,year=2020)].sum()\n",
        "print(A)"
      ],
      "execution_count": 12,
      "outputs": [
        {
          "output_type": "stream",
          "text": [
            "alpha     24.16\n",
            "beta     102.00\n",
            "dtype: float64\n"
          ],
          "name": "stdout"
        }
      ]
    },
    {
      "cell_type": "code",
      "metadata": {
        "id": "Rjgtc1kFcqdg",
        "outputId": "63bdc85d-4135-44fe-a225-4e94aa52d4fb",
        "colab": {
          "base_uri": "https://localhost:8080/"
        }
      },
      "source": [
        "A['alpha']"
      ],
      "execution_count": 13,
      "outputs": [
        {
          "output_type": "execute_result",
          "data": {
            "text/plain": [
              "24.160000000000004"
            ]
          },
          "metadata": {
            "tags": []
          },
          "execution_count": 13
        }
      ]
    },
    {
      "cell_type": "code",
      "metadata": {
        "id": "jTeBVadMcr-X",
        "outputId": "febdf52d-6a91-488e-e4d8-c901c8adaee2",
        "colab": {
          "base_uri": "https://localhost:8080/"
        }
      },
      "source": [
        "data[data['Unnamed: 0']>=datetime(day=2,month=6,year=2020)].sum()"
      ],
      "execution_count": 14,
      "outputs": [
        {
          "output_type": "execute_result",
          "data": {
            "text/plain": [
              "alpha    13.72\n",
              "beta     57.00\n",
              "dtype: float64"
            ]
          },
          "metadata": {
            "tags": []
          },
          "execution_count": 14
        }
      ]
    },
    {
      "cell_type": "code",
      "metadata": {
        "id": "QkndqWwictfA",
        "outputId": "952b0dda-b104-4c73-c280-93cd4c0b71cd",
        "colab": {
          "base_uri": "https://localhost:8080/"
        }
      },
      "source": [
        "print(f\"ผลรวมของค่า alpha ก่อนวันที่ 2 มิ.ย. 2020 คือ {A['alpha']:.2f}\")"
      ],
      "execution_count": 15,
      "outputs": [
        {
          "output_type": "stream",
          "text": [
            "ผลรวมของค่า alpha ก่อนวันที่ 2 มิ.ย. 2020 คือ 24.16\n"
          ],
          "name": "stdout"
        }
      ]
    },
    {
      "cell_type": "markdown",
      "metadata": {
        "id": "Jm1J8afX6TJH"
      },
      "source": [
        "### เปรียบเทียบผลรวม alpha และ beta ของข้อมูล ก่อนและตั้งแต่วันที่ 2 มิถุนายน 2020"
      ]
    },
    {
      "cell_type": "code",
      "metadata": {
        "colab": {
          "base_uri": "https://localhost:8080/"
        },
        "id": "418t-pj57sq2",
        "outputId": "a130f5fe-d3e3-435b-ff17-c05f16528115"
      },
      "source": [
        "timestamp_ex_df_1 = timestamp_ex_df[timestamp_ex_df['Unnamed: 0'] <= '2020-05-31']\n",
        "data_before = timestamp_ex_df_1[['alpha','beta']].sum()\n",
        "data_before"
      ],
      "execution_count": null,
      "outputs": [
        {
          "output_type": "execute_result",
          "data": {
            "text/plain": [
              "alpha    15.66\n",
              "beta     85.00\n",
              "dtype: float64"
            ]
          },
          "metadata": {
            "tags": []
          },
          "execution_count": 9
        }
      ]
    },
    {
      "cell_type": "code",
      "metadata": {
        "colab": {
          "base_uri": "https://localhost:8080/"
        },
        "id": "ZT_Z21Ge7soU",
        "outputId": "1a65b832-e8bb-47cb-fbe0-a252d6428dd2"
      },
      "source": [
        "timestamp_ex_df_1 = timestamp_ex_df[timestamp_ex_df['Unnamed: 0'] >= '2020-06-02']\n",
        "data_after = timestamp_ex_df_1[['alpha','beta']].sum()\n",
        "data_after"
      ],
      "execution_count": null,
      "outputs": [
        {
          "output_type": "execute_result",
          "data": {
            "text/plain": [
              "alpha    22.22\n",
              "beta     74.00\n",
              "dtype: float64"
            ]
          },
          "metadata": {
            "tags": []
          },
          "execution_count": 10
        }
      ]
    },
    {
      "cell_type": "markdown",
      "metadata": {
        "id": "dfei24RadAp0"
      },
      "source": [
        "## Query how?"
      ]
    },
    {
      "cell_type": "code",
      "metadata": {
        "id": "paFEAkxWdEVe",
        "outputId": "61b7dceb-6f72-49fb-8bea-3284c9c15edb",
        "colab": {
          "base_uri": "https://localhost:8080/",
          "height": 79
        }
      },
      "source": [
        "data.query('alpha == 1.94')"
      ],
      "execution_count": 16,
      "outputs": [
        {
          "output_type": "execute_result",
          "data": {
            "text/html": [
              "<div>\n",
              "<style scoped>\n",
              "    .dataframe tbody tr th:only-of-type {\n",
              "        vertical-align: middle;\n",
              "    }\n",
              "\n",
              "    .dataframe tbody tr th {\n",
              "        vertical-align: top;\n",
              "    }\n",
              "\n",
              "    .dataframe thead th {\n",
              "        text-align: right;\n",
              "    }\n",
              "</style>\n",
              "<table border=\"1\" class=\"dataframe\">\n",
              "  <thead>\n",
              "    <tr style=\"text-align: right;\">\n",
              "      <th></th>\n",
              "      <th>Unnamed: 0</th>\n",
              "      <th>alpha</th>\n",
              "      <th>beta</th>\n",
              "    </tr>\n",
              "  </thead>\n",
              "  <tbody>\n",
              "    <tr>\n",
              "      <th>3</th>\n",
              "      <td>2020-06-01</td>\n",
              "      <td>1.94</td>\n",
              "      <td>28</td>\n",
              "    </tr>\n",
              "  </tbody>\n",
              "</table>\n",
              "</div>"
            ],
            "text/plain": [
              "  Unnamed: 0  alpha  beta\n",
              "3 2020-06-01   1.94    28"
            ]
          },
          "metadata": {
            "tags": []
          },
          "execution_count": 16
        }
      ]
    },
    {
      "cell_type": "code",
      "metadata": {
        "id": "gkaknOLDdGqK",
        "outputId": "25104952-b312-4722-c3bd-ef635b765f26",
        "colab": {
          "base_uri": "https://localhost:8080/",
          "height": 79
        }
      },
      "source": [
        "data[data['alpha']==1.94]"
      ],
      "execution_count": 17,
      "outputs": [
        {
          "output_type": "execute_result",
          "data": {
            "text/html": [
              "<div>\n",
              "<style scoped>\n",
              "    .dataframe tbody tr th:only-of-type {\n",
              "        vertical-align: middle;\n",
              "    }\n",
              "\n",
              "    .dataframe tbody tr th {\n",
              "        vertical-align: top;\n",
              "    }\n",
              "\n",
              "    .dataframe thead th {\n",
              "        text-align: right;\n",
              "    }\n",
              "</style>\n",
              "<table border=\"1\" class=\"dataframe\">\n",
              "  <thead>\n",
              "    <tr style=\"text-align: right;\">\n",
              "      <th></th>\n",
              "      <th>Unnamed: 0</th>\n",
              "      <th>alpha</th>\n",
              "      <th>beta</th>\n",
              "    </tr>\n",
              "  </thead>\n",
              "  <tbody>\n",
              "    <tr>\n",
              "      <th>3</th>\n",
              "      <td>2020-06-01</td>\n",
              "      <td>1.94</td>\n",
              "      <td>28</td>\n",
              "    </tr>\n",
              "  </tbody>\n",
              "</table>\n",
              "</div>"
            ],
            "text/plain": [
              "  Unnamed: 0  alpha  beta\n",
              "3 2020-06-01   1.94    28"
            ]
          },
          "metadata": {
            "tags": []
          },
          "execution_count": 17
        }
      ]
    },
    {
      "cell_type": "markdown",
      "metadata": {
        "id": "EwNdo2FmCVPA"
      },
      "source": [
        "# ไฟล์ใหม่"
      ]
    },
    {
      "cell_type": "code",
      "metadata": {
        "id": "oTpNT_WB7si1"
      },
      "source": [
        "timestamp_ex_02 = os.path.join(path,'example_timestamp_02.csv')"
      ],
      "execution_count": null,
      "outputs": []
    },
    {
      "cell_type": "code",
      "metadata": {
        "id": "BbkNkAIgCUrF",
        "colab": {
          "base_uri": "https://localhost:8080/",
          "height": 263
        },
        "outputId": "6b2fadd9-5e5c-4fa8-eb0b-8045e0bb5e1f"
      },
      "source": [
        "data = pd.read_csv(timestamp_ex_02) \n",
        "data"
      ],
      "execution_count": null,
      "outputs": [
        {
          "output_type": "execute_result",
          "data": {
            "text/html": [
              "<div>\n",
              "<style scoped>\n",
              "    .dataframe tbody tr th:only-of-type {\n",
              "        vertical-align: middle;\n",
              "    }\n",
              "\n",
              "    .dataframe tbody tr th {\n",
              "        vertical-align: top;\n",
              "    }\n",
              "\n",
              "    .dataframe thead th {\n",
              "        text-align: right;\n",
              "    }\n",
              "</style>\n",
              "<table border=\"1\" class=\"dataframe\">\n",
              "  <thead>\n",
              "    <tr style=\"text-align: right;\">\n",
              "      <th></th>\n",
              "      <th>Unnamed: 0</th>\n",
              "      <th>alpha</th>\n",
              "      <th>beta</th>\n",
              "    </tr>\n",
              "  </thead>\n",
              "  <tbody>\n",
              "    <tr>\n",
              "      <th>0</th>\n",
              "      <td>29-05-2020</td>\n",
              "      <td>8.78</td>\n",
              "      <td>24</td>\n",
              "    </tr>\n",
              "    <tr>\n",
              "      <th>1</th>\n",
              "      <td>30-05-2020</td>\n",
              "      <td>13.00</td>\n",
              "      <td>25</td>\n",
              "    </tr>\n",
              "    <tr>\n",
              "      <th>2</th>\n",
              "      <td>31-05-2020</td>\n",
              "      <td>0.44</td>\n",
              "      <td>25</td>\n",
              "    </tr>\n",
              "    <tr>\n",
              "      <th>3</th>\n",
              "      <td>01-06-2020</td>\n",
              "      <td>1.94</td>\n",
              "      <td>28</td>\n",
              "    </tr>\n",
              "    <tr>\n",
              "      <th>4</th>\n",
              "      <td>02-06-2020</td>\n",
              "      <td>5.40</td>\n",
              "      <td>20</td>\n",
              "    </tr>\n",
              "    <tr>\n",
              "      <th>5</th>\n",
              "      <td>03-06-2020</td>\n",
              "      <td>5.68</td>\n",
              "      <td>21</td>\n",
              "    </tr>\n",
              "    <tr>\n",
              "      <th>6</th>\n",
              "      <td>03-06-2020</td>\n",
              "      <td>2.64</td>\n",
              "      <td>16</td>\n",
              "    </tr>\n",
              "  </tbody>\n",
              "</table>\n",
              "</div>"
            ],
            "text/plain": [
              "   Unnamed: 0  alpha  beta\n",
              "0  29-05-2020   8.78    24\n",
              "1  30-05-2020  13.00    25\n",
              "2  31-05-2020   0.44    25\n",
              "3  01-06-2020   1.94    28\n",
              "4  02-06-2020   5.40    20\n",
              "5  03-06-2020   5.68    21\n",
              "6  03-06-2020   2.64    16"
            ]
          },
          "metadata": {
            "tags": []
          },
          "execution_count": 12
        }
      ]
    },
    {
      "cell_type": "code",
      "metadata": {
        "id": "rNtcww48c-YS"
      },
      "source": [
        ""
      ],
      "execution_count": null,
      "outputs": []
    },
    {
      "cell_type": "markdown",
      "metadata": {
        "id": "FfXNdxcrzMJ1"
      },
      "source": [
        "### เปรียบเทียบเวลาเฉลี่ยที่ใช้ในการกดเลือกร้าน time_diff_naos ระหว่างช่วงเวลา 10.00-10.59 กับ 23.00-23.59 ว่าช่วงเวลาไหนมี time_diff_naos น้อยกว่ากัน"
      ]
    },
    {
      "cell_type": "code",
      "metadata": {
        "id": "9i0pjUFp5baj"
      },
      "source": [
        ""
      ],
      "execution_count": null,
      "outputs": []
    }
  ]
}