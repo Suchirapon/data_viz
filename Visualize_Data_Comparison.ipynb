{
  "nbformat": 4,
  "nbformat_minor": 0,
  "metadata": {
    "colab": {
      "name": "Visualize_Data_Comparison.ipynb",
      "provenance": [],
      "authorship_tag": "ABX9TyPqsRjxTycttoyfqaOpWgqS",
      "include_colab_link": true
    },
    "kernelspec": {
      "name": "python3",
      "display_name": "Python 3"
    },
    "language_info": {
      "name": "python"
    }
  },
  "cells": [
    {
      "cell_type": "markdown",
      "metadata": {
        "id": "view-in-github",
        "colab_type": "text"
      },
      "source": [
        "<a href=\"https://colab.research.google.com/github/Suchirapon/data_viz/blob/main/Visualize_Data_Comparison.ipynb\" target=\"_parent\"><img src=\"https://colab.research.google.com/assets/colab-badge.svg\" alt=\"Open In Colab\"/></a>"
      ]
    },
    {
      "cell_type": "code",
      "metadata": {
        "id": "aMGJvP88I4H2",
        "colab": {
          "base_uri": "https://localhost:8080/"
        },
        "outputId": "8fabf4ae-a042-4969-d6be-2ad95909cf7f"
      },
      "source": [
        "import pandas as pd\n",
        "from google.colab import drive #เชื่อมต่อ google.colab กับ drive\n",
        "drive.mount('/content/drive')"
      ],
      "execution_count": 1,
      "outputs": [
        {
          "output_type": "stream",
          "text": [
            "Mounted at /content/drive\n"
          ],
          "name": "stdout"
        }
      ]
    },
    {
      "cell_type": "code",
      "metadata": {
        "id": "NSUKt5lcJUoe"
      },
      "source": [
        "import os #ทำงานเกี่ยวกับการจัดการไฟล์ \n",
        "path = '/content/drive/My Drive/dataviz_2021_data'"
      ],
      "execution_count": 2,
      "outputs": []
    },
    {
      "cell_type": "code",
      "metadata": {
        "id": "8ixUuAgNJXam"
      },
      "source": [
        "search_df = os.path.join(path,'search_request.csv')"
      ],
      "execution_count": 3,
      "outputs": []
    },
    {
      "cell_type": "code",
      "metadata": {
        "colab": {
          "base_uri": "https://localhost:8080/",
          "height": 251
        },
        "id": "H9Zg-BVjJZTI",
        "outputId": "f0afec37-5f77-45a0-cf49-42fb9b06ee9f"
      },
      "source": [
        "data = pd.read_csv(search_df) \n",
        "data.head(2)"
      ],
      "execution_count": 4,
      "outputs": [
        {
          "output_type": "stream",
          "text": [
            "/usr/local/lib/python3.7/dist-packages/IPython/core/interactiveshell.py:2718: DtypeWarning: Columns (7,8,9) have mixed types.Specify dtype option on import or set low_memory=False.\n",
            "  interactivity=interactivity, compiler=compiler, result=result)\n"
          ],
          "name": "stderr"
        },
        {
          "output_type": "execute_result",
          "data": {
            "text/html": [
              "<div>\n",
              "<style scoped>\n",
              "    .dataframe tbody tr th:only-of-type {\n",
              "        vertical-align: middle;\n",
              "    }\n",
              "\n",
              "    .dataframe tbody tr th {\n",
              "        vertical-align: top;\n",
              "    }\n",
              "\n",
              "    .dataframe thead th {\n",
              "        text-align: right;\n",
              "    }\n",
              "</style>\n",
              "<table border=\"1\" class=\"dataframe\">\n",
              "  <thead>\n",
              "    <tr style=\"text-align: right;\">\n",
              "      <th></th>\n",
              "      <th>Unnamed: 0</th>\n",
              "      <th>search_id</th>\n",
              "      <th>search_timestamp</th>\n",
              "      <th>user_agent</th>\n",
              "      <th>q</th>\n",
              "      <th>user_id</th>\n",
              "      <th>session_id</th>\n",
              "      <th>number_of_result</th>\n",
              "      <th>lat</th>\n",
              "      <th>long</th>\n",
              "    </tr>\n",
              "  </thead>\n",
              "  <tbody>\n",
              "    <tr>\n",
              "      <th>0</th>\n",
              "      <td>0</td>\n",
              "      <td>683de889-f923-494e-9d46-44a3d67b7259</td>\n",
              "      <td>2018-06-14 12:34:35.449</td>\n",
              "      <td>Wongnai/8.17.3 rv:8.17.3.3921 (iPhone5,4; iOS;...</td>\n",
              "      <td>NaN</td>\n",
              "      <td>NaN</td>\n",
              "      <td>5lqjjikta19d296mo7g2h1k86p</td>\n",
              "      <td>18</td>\n",
              "      <td>12.6347</td>\n",
              "      <td>101.463</td>\n",
              "    </tr>\n",
              "    <tr>\n",
              "      <th>1</th>\n",
              "      <td>1</td>\n",
              "      <td>4a811230-ffa4-4631-a4c8-5d0394137d02</td>\n",
              "      <td>2018-06-14 17:11:19.469</td>\n",
              "      <td>Mozilla/5.0 (iPhone; CPU iPhone OS 11_4 like M...</td>\n",
              "      <td>NaN</td>\n",
              "      <td>NaN</td>\n",
              "      <td>1r3iotmp0o9slom91stdt9vivc</td>\n",
              "      <td>10</td>\n",
              "      <td>14.8009</td>\n",
              "      <td>102.534</td>\n",
              "    </tr>\n",
              "  </tbody>\n",
              "</table>\n",
              "</div>"
            ],
            "text/plain": [
              "   Unnamed: 0                             search_id  ...      lat     long\n",
              "0           0  683de889-f923-494e-9d46-44a3d67b7259  ...  12.6347  101.463\n",
              "1           1  4a811230-ffa4-4631-a4c8-5d0394137d02  ...  14.8009  102.534\n",
              "\n",
              "[2 rows x 10 columns]"
            ]
          },
          "metadata": {
            "tags": []
          },
          "execution_count": 4
        }
      ]
    },
    {
      "cell_type": "markdown",
      "metadata": {
        "id": "0XWSQVs6KmaE"
      },
      "source": [
        "# เตรียมข้อมูล"
      ]
    },
    {
      "cell_type": "markdown",
      "metadata": {
        "id": "_QfNO5YQKpyy"
      },
      "source": [
        "### แปลงข้อมูลบอกเวลาให้เป็นตัวแปรชนิด datetime"
      ]
    },
    {
      "cell_type": "code",
      "metadata": {
        "id": "0lAbLrx3Kl8x"
      },
      "source": [
        "from datetime import datetime,time as dt"
      ],
      "execution_count": 5,
      "outputs": []
    },
    {
      "cell_type": "code",
      "metadata": {
        "id": "JDkMeTxZKx8j"
      },
      "source": [
        "data['search_timestamp']  = pd.to_datetime(data['search_timestamp'],format='%Y-%m-%d %H:%M:%S',errors='coerce')"
      ],
      "execution_count": 6,
      "outputs": []
    },
    {
      "cell_type": "markdown",
      "metadata": {
        "id": "9xY6JJTAJ0Mo"
      },
      "source": [
        "# Bar Chart (กราฟแท่ง)"
      ]
    },
    {
      "cell_type": "markdown",
      "metadata": {
        "id": "ZhZiBXPoK4kw"
      },
      "source": [
        "### สร้างกราฟแท่งเปรียบเทียบปริมาณ คนเข้าใช้ web Wongnai.com เพื่อคนหาร้านอาหาร ในแต่ละวัน "
      ]
    },
    {
      "cell_type": "markdown",
      "metadata": {
        "id": "9bdMmVJCM1Ux"
      },
      "source": [
        "quiz 6"
      ]
    },
    {
      "cell_type": "code",
      "metadata": {
        "id": "n2vGfTTSMsqG"
      },
      "source": [
        " from matplotlib import pyplot as plt"
      ],
      "execution_count": 7,
      "outputs": []
    },
    {
      "cell_type": "markdown",
      "metadata": {
        "id": "1_Q8YlxaUAGa"
      },
      "source": [
        "### ส่วนประกอบกราฟแท่ง\n",
        "\n",
        "- ตัวกราฟแท่ง (height)\n",
        "- ตำแหน่งกราฟแท่ง (X)\n",
        "- ชื่อแท่ง (tick_label)\n",
        "- ชื่อกราฟ (plt.title)\n",
        "- ชื่อแกน x (plt.xlabel)\n",
        "- ชื่อแกน y (plt.ylabel)"
      ]
    },
    {
      "cell_type": "markdown",
      "metadata": {
        "id": "j0SDppieWjig"
      },
      "source": [
        "### การแสดงภาษาไทยในกราฟ \n",
        "- https://medium.com/@kanyawee.work/%E0%B9%81%E0%B8%AA%E0%B8%94%E0%B8%87%E0%B8%9C%E0%B8%A5%E0%B8%A0%E0%B8%B2%E0%B8%A9%E0%B8%B2%E0%B9%84%E0%B8%97%E0%B8%A2%E0%B9%83%E0%B8%99%E0%B8%81%E0%B8%A3%E0%B8%B2%E0%B8%9F%E0%B8%82%E0%B8%AD%E0%B8%87-matplotlib-%E0%B8%9A%E0%B8%99-google-colab-37210d9a9f31"
      ]
    },
    {
      "cell_type": "code",
      "metadata": {
        "id": "89fmTntEWzlN"
      },
      "source": [
        "!wget -q https://github.com/Phonbopit/sarabun-webfont/raw/master/fonts/thsarabunnew-webfont.ttf"
      ],
      "execution_count": 8,
      "outputs": []
    },
    {
      "cell_type": "code",
      "metadata": {
        "id": "1jsVAcPXX10V"
      },
      "source": [
        "import matplotlib as mpl \n",
        "mpl.font_manager.fontManager.addfont('thsarabunnew-webfont.ttf')\n",
        "mpl.rc('font', family='TH Sarabun New')"
      ],
      "execution_count": 9,
      "outputs": []
    },
    {
      "cell_type": "code",
      "metadata": {
        "colab": {
          "base_uri": "https://localhost:8080/",
          "height": 298
        },
        "id": "Q33bKrv-JzYH",
        "outputId": "6bde2300-e7ad-4f41-c83d-ee8a1f7607a0"
      },
      "source": [
        "plt.bar([1,2,3,4,5,6,7],[data[data['search_timestamp'].dt.dayofweek == 0].shape[0],\n",
        "                                data[data['search_timestamp'].dt.dayofweek == 1].shape[0],\n",
        "                                data[data['search_timestamp'].dt.dayofweek == 2].shape[0],\n",
        "                                data[data['search_timestamp'].dt.dayofweek == 3].shape[0],\n",
        "                                data[data['search_timestamp'].dt.dayofweek == 4].shape[0],\n",
        "                                data[data['search_timestamp'].dt.dayofweek == 5].shape[0],\n",
        "                                data[data['search_timestamp'].dt.dayofweek == 6].shape[0],\n",
        "                                ],tick_label=['Mon','Tue','Wed','Thu','Fri','Sat','Sun'])\n",
        "plt.xlabel('Days')\n",
        "plt.ylabel('Number of Requests')\n",
        "plt.title('ปริมาณคนเข้าใช้ web Wongnai.comในแต่ละวัน ');"
      ],
      "execution_count": 10,
      "outputs": [
        {
          "output_type": "display_data",
          "data": {
            "image/png": "[encoded data removed]",
            "text/plain": [
              "<Figure size 432x288 with 1 Axes>"
            ]
          },
          "metadata": {
            "tags": [],
            "needs_background": "light"
          }
        }
      ]
    },
    {
      "cell_type": "markdown",
      "metadata": {
        "id": "iZiigl8pYYdq"
      },
      "source": [
        "# Grouped bar chart"
      ]
    },
    {
      "cell_type": "markdown",
      "metadata": {
        "id": "p83ylzcrYd3L"
      },
      "source": [
        "### แสดงปริมาณคนเข้า web ในแต่ละวัน โดยเปรียบเทียบช่วงเวลา 11.00 - 12.00 กับ 23.00 - 24.00 "
      ]
    },
    {
      "cell_type": "code",
      "metadata": {
        "id": "3zJm6qPj-cWA"
      },
      "source": [
        "from datetime import datetime as dt\n",
        "from datetime import time"
      ],
      "execution_count": 12,
      "outputs": []
    },
    {
      "cell_type": "code",
      "metadata": {
        "colab": {
          "base_uri": "https://localhost:8080/"
        },
        "id": "3UZ6WiuIZqHf",
        "outputId": "f5d1f794-2b76-40df-b050-c6ae393c5b8e"
      },
      "source": [
        "data[(data['search_timestamp'].dt.dayofweek == 0) \n",
        "& (data['search_timestamp'].dt.time < time(hour=12)) \n",
        "& (data['search_timestamp'].dt.time >= time(hour=11))].shape[0]  # monday 11:00-12:00"
      ],
      "execution_count": 13,
      "outputs": [
        {
          "output_type": "execute_result",
          "data": {
            "text/plain": [
              "73249"
            ]
          },
          "metadata": {
            "tags": []
          },
          "execution_count": 13
        }
      ]
    },
    {
      "cell_type": "code",
      "metadata": {
        "id": "4hsFL1NZPG5f"
      },
      "source": [
        "b4lunch = [data[(data['search_timestamp'].dt.dayofweek == 0)&(data['search_timestamp'].dt.time < time(hour=12))&(data['search_timestamp'].dt.time >= time(hour=11))].shape[0],\n",
        "           data[(data['search_timestamp'].dt.dayofweek == 1)&(data['search_timestamp'].dt.time < time(hour=12))&(data['search_timestamp'].dt.time >= time(hour=11))].shape[0],\n",
        "           data[(data['search_timestamp'].dt.dayofweek == 2)&(data['search_timestamp'].dt.time < time(hour=12))&(data['search_timestamp'].dt.time >= time(hour=11))].shape[0],\n",
        "           data[(data['search_timestamp'].dt.dayofweek == 3)&(data['search_timestamp'].dt.time < time(hour=12))&(data['search_timestamp'].dt.time >= time(hour=11))].shape[0],\n",
        "           data[(data['search_timestamp'].dt.dayofweek == 4)&(data['search_timestamp'].dt.time < time(hour=12))&(data['search_timestamp'].dt.time >= time(hour=11))].shape[0],\n",
        "           data[(data['search_timestamp'].dt.dayofweek == 5)&(data['search_timestamp'].dt.time < time(hour=12))&(data['search_timestamp'].dt.time >= time(hour=11))].shape[0],\n",
        "           data[(data['search_timestamp'].dt.dayofweek == 6)&(data['search_timestamp'].dt.time < time(hour=12))&(data['search_timestamp'].dt.time >= time(hour=11))].shape[0]\n",
        "                         ]"
      ],
      "execution_count": 14,
      "outputs": []
    },
    {
      "cell_type": "code",
      "metadata": {
        "colab": {
          "base_uri": "https://localhost:8080/"
        },
        "id": "yEQ3gRgu-pEv",
        "outputId": "53f927bf-953d-49c3-8286-9d8b4d54c8ce"
      },
      "source": [
        "b4lunch"
      ],
      "execution_count": 15,
      "outputs": [
        {
          "output_type": "execute_result",
          "data": {
            "text/plain": [
              "[73249, 73083, 75429, 78024, 99007, 174165, 165440]"
            ]
          },
          "metadata": {
            "tags": []
          },
          "execution_count": 15
        }
      ]
    },
    {
      "cell_type": "code",
      "metadata": {
        "colab": {
          "base_uri": "https://localhost:8080/"
        },
        "id": "XYA3qm38-rII",
        "outputId": "d4a6a0ba-b508-41aa-ccd6-695741667df8"
      },
      "source": [
        "data[(data['search_timestamp'].dt.dayofweek == 0)&(data['search_timestamp'].dt.time >= time(hour=23))].shape[0]"
      ],
      "execution_count": 16,
      "outputs": [
        {
          "output_type": "execute_result",
          "data": {
            "text/plain": [
              "31874"
            ]
          },
          "metadata": {
            "tags": []
          },
          "execution_count": 16
        }
      ]
    },
    {
      "cell_type": "code",
      "metadata": {
        "colab": {
          "base_uri": "https://localhost:8080/"
        },
        "id": "2ZwXdrVz-s9R",
        "outputId": "3430b672-5bc5-43e6-972b-603d9837c48a"
      },
      "source": [
        "b4midnight = [data[(data['search_timestamp'].dt.dayofweek == 0)&(data['search_timestamp'].dt.time >= time(hour=23))].shape[0],\n",
        "           data[(data['search_timestamp'].dt.dayofweek == 1)&(data['search_timestamp'].dt.time >= time(hour=23))].shape[0],\n",
        "           data[(data['search_timestamp'].dt.dayofweek == 2)&(data['search_timestamp'].dt.time >= time(hour=23))].shape[0],\n",
        "           data[(data['search_timestamp'].dt.dayofweek == 3)&(data['search_timestamp'].dt.time >= time(hour=23))].shape[0],\n",
        "           data[(data['search_timestamp'].dt.dayofweek == 4)&(data['search_timestamp'].dt.time >= time(hour=23))].shape[0],\n",
        "           data[(data['search_timestamp'].dt.dayofweek == 5)&(data['search_timestamp'].dt.time >= time(hour=23))].shape[0],\n",
        "           data[(data['search_timestamp'].dt.dayofweek == 6)&(data['search_timestamp'].dt.time >= time(hour=23))].shape[0]\n",
        "                         ]\n",
        "b4midnight"
      ],
      "execution_count": 17,
      "outputs": [
        {
          "output_type": "execute_result",
          "data": {
            "text/plain": [
              "[31874, 32258, 31153, 35944, 53174, 58306, 35801]"
            ]
          },
          "metadata": {
            "tags": []
          },
          "execution_count": 17
        }
      ]
    },
    {
      "cell_type": "code",
      "metadata": {
        "id": "BIcZQtmt-u8O"
      },
      "source": [
        "labels = ['Mon','Tue','Wed','Thu','Fri','Sat','Sun']"
      ],
      "execution_count": 18,
      "outputs": []
    },
    {
      "cell_type": "code",
      "metadata": {
        "id": "wLO-ancy-xso"
      },
      "source": [
        "import numpy as np"
      ],
      "execution_count": 19,
      "outputs": []
    },
    {
      "cell_type": "code",
      "metadata": {
        "colab": {
          "base_uri": "https://localhost:8080/",
          "height": 285
        },
        "id": "UgiJfONS-1K-",
        "outputId": "c2936852-8d43-4144-aa2b-7d1944d4d544"
      },
      "source": [
        "x = np.arange(len(labels))  # the label locations\n",
        "width = 0.35  # the width of the bars\n",
        "\n",
        "fig, ax = plt.subplots()\n",
        "rects1 = ax.bar(x - width/2, b4lunch, width, label='lunch time',color = '#fc9700') #SCML Color\n",
        "rects2 = ax.bar(x + width/2, b4midnight, width, label='midnight',color = '#19038a')\n",
        "\n",
        "# Add some text for labels, title and custom x-axis tick labels, etc.\n",
        "ax.set_ylabel('Number of requests')\n",
        "ax.set_title('ปริมาณคนเข้าใช้ Wongnai.com ในแต่ละวัน เปรียบเทียบ 2 ช่วงเวลา')\n",
        "ax.set_xticks(x)\n",
        "ax.set_xticklabels(labels)\n",
        "ax.legend();"
      ],
      "execution_count": 20,
      "outputs": [
        {
          "output_type": "display_data",
          "data": {
            "image/png": "[encoded data removed]",
            "text/plain": [
              "<Figure size 432x288 with 1 Axes>"
            ]
          },
          "metadata": {
            "tags": [],
            "needs_background": "light"
          }
        }
      ]
    },
    {
      "cell_type": "markdown",
      "metadata": {
        "id": "2B2VNATdAXBB"
      },
      "source": [
        "# Stacked bar chart"
      ]
    },
    {
      "cell_type": "code",
      "metadata": {
        "colab": {
          "base_uri": "https://localhost:8080/",
          "height": 285
        },
        "id": "f_K0MzHd_mtd",
        "outputId": "4bf7b9e2-a911-4da4-c234-d04114e6d638"
      },
      "source": [
        "import matplotlib.pyplot as plt\n",
        "\n",
        "width = 0.35       # the width of the bars: can also be len(x) sequence\n",
        "\n",
        "fig, ax = plt.subplots()\n",
        "\n",
        "ax.bar(labels, b4lunch, width,  label='before lunch',color = '#fc9700')\n",
        "ax.bar(labels, b4midnight, width,  bottom = b4lunch, label='before midnight',color = '#19038a')\n",
        "# bottom = b4lunch คือ ให้เริ่มที่ b4lunch\n",
        "ax.set_ylabel('Number of requests')\n",
        "ax.set_title('ปริมาณคนเข้าใช้ Wongnai.com ในแต่ละวัน เปรียบเทียบ 2 ช่วงเวลา')\n",
        "ax.legend()\n",
        "\n",
        "plt.show()"
      ],
      "execution_count": 25,
      "outputs": [
        {
          "output_type": "display_data",
          "data": {
            "image/png": "[encoded data removed]",
            "text/plain": [
              "<Figure size 432x288 with 1 Axes>"
            ]
          },
          "metadata": {
            "tags": [],
            "needs_background": "light"
          }
        }
      ]
    },
    {
      "cell_type": "code",
      "metadata": {
        "colab": {
          "base_uri": "https://localhost:8080/",
          "height": 299
        },
        "id": "aSKt__qLCHYn",
        "outputId": "89dcd610-5a66-4611-cac9-7787ceee7fb0"
      },
      "source": [
        "width = 0.35       # the width of the bars: can also be len(x) sequence\n",
        "\n",
        "fig, ax = plt.subplots()\n",
        "\n",
        "ax.barh(labels,  b4lunch,width,  label='before lunch',color = '#fc9700')\n",
        "ax.barh(labels, b4midnight, width,  left = b4lunch, label='before midnight',color = '#19038a')\n",
        "# bottom = b4lunch คือ ให้เริ่มที่ b4lunch\n",
        "ax.set_xlabel('Number of requests')\n",
        "ax.set_title('ปริมาณคนเข้าใช้ Wongnai.com ในแต่ละวัน เปรียบเทียบ 2 ช่วงเวลา')\n",
        "ax.legend()\n",
        "\n",
        "plt.show()"
      ],
      "execution_count": 33,
      "outputs": [
        {
          "output_type": "display_data",
          "data": {
            "image/png": "[encoded data removed]",
            "text/plain": [
              "<Figure size 432x288 with 1 Axes>"
            ]
          },
          "metadata": {
            "tags": [],
            "needs_background": "light"
          }
        }
      ]
    },
    {
      "cell_type": "markdown",
      "metadata": {
        "id": "JVYZZOPkDbzI"
      },
      "source": [
        "## เช็คชื่อ โดยให้วาด Bar Chart ที่เปรียบเทียบปริมาณคนใช้งาน Wongnai . com สองช่วงเวลา โดยให้กราฟแสดงสัดส่วนของปริมาณคนใช้งานแต่ละวันด้วย"
      ]
    },
    {
      "cell_type": "code",
      "metadata": {
        "id": "ONQjyoy9G_Qe"
      },
      "source": [
        ""
      ],
      "execution_count": null,
      "outputs": []
    },
    {
      "cell_type": "code",
      "metadata": {
        "colab": {
          "base_uri": "https://localhost:8080/",
          "height": 299
        },
        "id": "iGivBBoADaYB",
        "outputId": "45cbde2f-9830-4905-c4e0-79fd266269b2"
      },
      "source": [
        "width = 0.35       # the width of the bars: can also be len(x) sequence\n",
        "\n",
        "fig, ax = plt.subplots()\n",
        "\n",
        "ax.barh(labels, b4lunch, width,  label='before lunch',color = '#fc9700')\n",
        "ax.barh(labels, b4midnight, width,  left = b4lunch, label='before midnight',color = '#19038a')\n",
        "# bottom = b4lunch คือ ให้เริ่มที่ b4lunch\n",
        "ax.set_xlabel('Number of requests')\n",
        "ax.set_title('ปริมาณคนเข้าใช้ Wongnai.com ในแต่ละวัน เปรียบเทียบ 2 ช่วงเวลา')\n",
        "ax.legend()\n",
        "\n",
        "plt.show()"
      ],
      "execution_count": 31,
      "outputs": [
        {
          "output_type": "display_data",
          "data": {
            "image/png": "[encoded data removed]",
            "text/plain": [
              "<Figure size 432x288 with 1 Axes>"
            ]
          },
          "metadata": {
            "tags": [],
            "needs_background": "light"
          }
        }
      ]
    },
    {
      "cell_type": "markdown",
      "metadata": {
        "id": "JtDly6opI5gE"
      },
      "source": [
        "# Histogram\n",
        "\n",
        "นับความถี่ข้อมูลแล้วเอามา plot"
      ]
    },
    {
      "cell_type": "code",
      "metadata": {
        "id": "wpwfLkPrErRf"
      },
      "source": [
        "np.random.seed(2021)\n",
        "#seed จะ random ได้เลขเดียวกับกับทุกคน"
      ],
      "execution_count": 34,
      "outputs": []
    },
    {
      "cell_type": "code",
      "metadata": {
        "colab": {
          "base_uri": "https://localhost:8080/"
        },
        "id": "KA5DUF2EKrgj",
        "outputId": "301297bd-2ade-44bd-b307-f2c1ed1a59d3"
      },
      "source": [
        "np.random.randint(100)"
      ],
      "execution_count": 35,
      "outputs": [
        {
          "output_type": "execute_result",
          "data": {
            "text/plain": [
              "85"
            ]
          },
          "metadata": {
            "tags": []
          },
          "execution_count": 35
        }
      ]
    },
    {
      "cell_type": "code",
      "metadata": {
        "colab": {
          "base_uri": "https://localhost:8080/"
        },
        "id": "VvW2MFGtK9mf",
        "outputId": "8d3ed76d-cd31-47a6-af01-8e922f793b69"
      },
      "source": [
        "np.random.randn(100) # จะแรนด้อม ที่ mu = 0 std = 1\n",
        "# randn(100) random 100 จุด"
      ],
      "execution_count": 36,
      "outputs": [
        {
          "output_type": "execute_result",
          "data": {
            "text/plain": [
              "array([-0.65278343,  0.42193173, -0.17383896, -0.20136597,  0.77039766,\n",
              "        1.20160669, -0.19009954,  0.13407709, -0.75051215,  0.21162099,\n",
              "        2.0448903 ,  1.07526774,  0.07902026,  0.49328237, -0.79136747,\n",
              "       -2.13059519,  0.31720629, -1.36461749,  0.35842752, -1.30562426,\n",
              "        2.02071843, -2.68680391,  0.55787157,  0.77617621,  0.20264991,\n",
              "       -0.50735635,  1.05898217,  0.46323535,  0.49699852, -1.25014539,\n",
              "       -1.51195802,  0.89457475,  0.24281041,  1.00678612, -0.04124402,\n",
              "        0.34396583,  0.02548591, -1.07844433,  0.81565795, -0.13376737,\n",
              "        0.61319221,  0.32808139,  1.7748439 ,  1.15295013,  1.02961911,\n",
              "       -0.50175762, -1.09042286, -1.10397942, -0.64776684, -0.82386881,\n",
              "       -0.97420544,  0.42570077,  1.59288883, -1.2010321 , -1.76059321,\n",
              "       -0.8979381 , -0.21097685,  1.78542198,  0.31632373,  0.42776574,\n",
              "        1.32762063,  0.42865209, -0.80177471, -1.40404436,  0.4366976 ,\n",
              "        0.86278299, -0.48927924,  1.50419932, -1.05216008, -1.47562916,\n",
              "        0.92864955, -1.1618635 ,  0.42540892,  0.07385093, -1.76357822,\n",
              "       -0.879058  ,  0.90910823, -0.54724523,  1.72568092,  0.44946822,\n",
              "       -0.01100451,  1.04788824,  2.19313228,  0.17844284,  1.18337904,\n",
              "       -1.51180736, -1.05399214, -0.09919097, -0.03725905,  0.37595927,\n",
              "        0.06532484, -0.07808317, -0.52573912, -0.63422064,  1.04483749,\n",
              "        0.98324457, -0.32112326, -1.06243465,  0.54146061,  0.52824563])"
            ]
          },
          "metadata": {
            "tags": []
          },
          "execution_count": 36
        }
      ]
    },
    {
      "cell_type": "code",
      "metadata": {
        "id": "JRt-9oJjLamF"
      },
      "source": [
        "mu, sigma = 100, 15\n",
        "X = mu + sigma * np.random.randn(10000)"
      ],
      "execution_count": 38,
      "outputs": []
    },
    {
      "cell_type": "code",
      "metadata": {
        "colab": {
          "base_uri": "https://localhost:8080/"
        },
        "id": "mDRTVPrfLmmr",
        "outputId": "4e688fd8-bfca-4a5f-b6f3-246a6273295e"
      },
      "source": [
        "X"
      ],
      "execution_count": 39,
      "outputs": [
        {
          "output_type": "execute_result",
          "data": {
            "text/plain": [
              "array([106.27297175, 105.18679309,  87.6298573 , ..., 104.93498539,\n",
              "        90.71739267,  98.11272785])"
            ]
          },
          "metadata": {
            "tags": []
          },
          "execution_count": 39
        }
      ]
    },
    {
      "cell_type": "code",
      "metadata": {
        "colab": {
          "base_uri": "https://localhost:8080/",
          "height": 264
        },
        "id": "B5W7bV3lLpYQ",
        "outputId": "1f113ca1-040a-4389-d856-8c15934ed9bf"
      },
      "source": [
        "output = plt.hist(X, 10,  facecolor='violet', alpha=0.75);"
      ],
      "execution_count": 45,
      "outputs": [
        {
          "output_type": "display_data",
          "data": {
            "image/png": "[encoded data removed]",
            "text/plain": [
              "<Figure size 432x288 with 1 Axes>"
            ]
          },
          "metadata": {
            "tags": [],
            "needs_background": "light"
          }
        }
      ]
    },
    {
      "cell_type": "code",
      "metadata": {
        "colab": {
          "base_uri": "https://localhost:8080/"
        },
        "id": "7wyP0FTBMCkw",
        "outputId": "10bcddbe-1b06-480c-ae63-e27eca16b5a3"
      },
      "source": [
        "output\n",
        "# นับจำนวนสมาชิก เริ่มตั้ง 40.88463603 - 52.13062451 มีสามชิกทั้งหมด 13 ตัว"
      ],
      "execution_count": 46,
      "outputs": [
        {
          "output_type": "execute_result",
          "data": {
            "text/plain": [
              "(array([  13.,   70.,  351., 1270., 2478., 2967., 1897.,  753.,  172.,\n",
              "          29.]), array([ 40.88463603,  52.13062451,  63.376613  ,  74.62260148,\n",
              "         85.86858997,  97.11457845, 108.36056694, 119.60655543,\n",
              "        130.85254391, 142.0985324 , 153.34452088]), <a list of 10 Patch objects>)"
            ]
          },
          "metadata": {
            "tags": []
          },
          "execution_count": 46
        }
      ]
    },
    {
      "cell_type": "markdown",
      "metadata": {
        "id": "J0c15z_uOXSQ"
      },
      "source": [
        "# Plot Histogram "
      ]
    },
    {
      "cell_type": "code",
      "metadata": {
        "colab": {
          "base_uri": "https://localhost:8080/"
        },
        "id": "L9_CDfF7OckG",
        "outputId": "2a62e95a-db40-43ed-96b8-dfaaa9893f45"
      },
      "source": [
        "data['number_of_result']"
      ],
      "execution_count": 52,
      "outputs": [
        {
          "output_type": "execute_result",
          "data": {
            "text/plain": [
              "0           18\n",
              "1           10\n",
              "2            8\n",
              "3           12\n",
              "4           14\n",
              "            ..\n",
              "10004352    22\n",
              "10004353    22\n",
              "10004354    22\n",
              "10004355    22\n",
              "10004356    22\n",
              "Name: number_of_result, Length: 10004357, dtype: object"
            ]
          },
          "metadata": {
            "tags": []
          },
          "execution_count": 52
        }
      ]
    },
    {
      "cell_type": "code",
      "metadata": {
        "id": "uIUwyy0JQAjS"
      },
      "source": [
        "data[data['number_of_result']=='number_of_result']\n"
      ],
      "execution_count": null,
      "outputs": []
    },
    {
      "cell_type": "code",
      "metadata": {
        "colab": {
          "base_uri": "https://localhost:8080/",
          "height": 601
        },
        "id": "iBOnFquXM5YL",
        "outputId": "e2a4f94a-26f8-436a-8c5f-5882ad336468"
      },
      "source": [
        "import matplotlib\n",
        "matplotlib.rcParams['figure.figsize']=[10,10]\n",
        "Y = plt.hist(list(data['number_of_result'].drop(1000016)),20)"
      ],
      "execution_count": 54,
      "outputs": [
        {
          "output_type": "display_data",
          "data": {
            "image/png": "[encoded data removed]",
            "text/plain": [
              "<Figure size 720x720 with 1 Axes>"
            ]
          },
          "metadata": {
            "tags": [],
            "needs_background": "light"
          }
        }
      ]
    }
  ]
}