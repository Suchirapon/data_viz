{
  "nbformat": 4,
  "nbformat_minor": 0,
  "metadata": {
    "colab": {
      "name": "Python101.ipynb",
      "provenance": [],
      "authorship_tag": "ABX9TyPSz0Os6mA4WLp3pGupnpS9",
      "include_colab_link": true
    },
    "kernelspec": {
      "name": "python3",
      "display_name": "Python 3"
    }
  },
  "cells": [
    {
      "cell_type": "markdown",
      "metadata": {
        "id": "view-in-github",
        "colab_type": "text"
      },
      "source": [
        "<a href=\"https://colab.research.google.com/github/Suchirapon/data_viz/blob/main/Python101.ipynb\" target=\"_parent\"><img src=\"https://colab.research.google.com/assets/colab-badge.svg\" alt=\"Open In Colab\"/></a>"
      ]
    },
    {
      "cell_type": "markdown",
      "metadata": {
        "id": "ZPV_8ExDMva_"
      },
      "source": [
        "# Variables\r\n",
        "\r\n",
        "ตัวแปร เก็บข้อมูล 1 ตัว เช่น ตัวเลข ตัวหนังสือ"
      ]
    },
    {
      "cell_type": "code",
      "metadata": {
        "colab": {
          "base_uri": "https://localhost:8080/"
        },
        "id": "ELFjLoC5NNmS",
        "outputId": "d36b6951-26c4-43e3-e8b1-c5fa7d68f8e8"
      },
      "source": [
        "3.14159265359"
      ],
      "execution_count": 5,
      "outputs": [
        {
          "output_type": "execute_result",
          "data": {
            "text/plain": [
              "3.14159265359"
            ]
          },
          "metadata": {
            "tags": []
          },
          "execution_count": 5
        }
      ]
    },
    {
      "cell_type": "markdown",
      "metadata": {
        "id": "304uDYM3NoE8"
      },
      "source": [
        "### หลักการตั้งชื่อตัวแปรเบื้องต้น\r\n",
        "\r\n",
        "\r\n",
        "1.   ตั้งให้สื่อ\r\n",
        "2.   ภาษาอังกฤษ\r\n",
        "3.   ใช้ตัวเลขได้ แต่ห้ามขึ้นต้นด้วยตัวเลข \r\n",
        "4.   หัวเว้นวรรค\r\n",
        "\r\n"
      ]
    },
    {
      "cell_type": "code",
      "metadata": {
        "id": "kzAUAFgcNff2"
      },
      "source": [
        "pi = 3.14159265359\r\n",
        "#ตั้งชื่อตัวแปรเพื่อมารับค่า  3.14159265359 โดยใช้ชื่อตัวแปร pi"
      ],
      "execution_count": 6,
      "outputs": []
    },
    {
      "cell_type": "code",
      "metadata": {
        "colab": {
          "base_uri": "https://localhost:8080/"
        },
        "id": "4_mX4TyOOgpi",
        "outputId": "02749c0b-2005-48ca-92f6-4f5c2a6bbc44"
      },
      "source": [
        "pi"
      ],
      "execution_count": 7,
      "outputs": [
        {
          "output_type": "execute_result",
          "data": {
            "text/plain": [
              "3.14159265359"
            ]
          },
          "metadata": {
            "tags": []
          },
          "execution_count": 7
        }
      ]
    },
    {
      "cell_type": "markdown",
      "metadata": {
        "id": "f-5diD4MOrY4"
      },
      "source": [
        "# ชนิดตัวแปร"
      ]
    },
    {
      "cell_type": "markdown",
      "metadata": {
        "id": "Z4PENkZ5M2Ie"
      },
      "source": [
        "## int : จำนวนเต็ม"
      ]
    },
    {
      "cell_type": "code",
      "metadata": {
        "id": "3JB7Bv-VMpkL"
      },
      "source": [
        "a = 10 "
      ],
      "execution_count": 8,
      "outputs": []
    },
    {
      "cell_type": "code",
      "metadata": {
        "colab": {
          "base_uri": "https://localhost:8080/"
        },
        "id": "W25tBhqsNCs_",
        "outputId": "b8728cef-ba37-4eb7-e71a-ef84abce1f79"
      },
      "source": [
        "print(a)"
      ],
      "execution_count": 9,
      "outputs": [
        {
          "output_type": "stream",
          "text": [
            "10\n"
          ],
          "name": "stdout"
        }
      ]
    },
    {
      "cell_type": "markdown",
      "metadata": {
        "id": "OIGFJ61fO4ux"
      },
      "source": [
        "## float : จำนวนจริงที่เป็นทศนิยม"
      ]
    },
    {
      "cell_type": "code",
      "metadata": {
        "colab": {
          "base_uri": "https://localhost:8080/"
        },
        "id": "Oa0M-P3hPAQ4",
        "outputId": "1991a9bc-6c39-4d55-afd4-c95a75a55c34"
      },
      "source": [
        "b = 10.\r\n",
        "print(b)"
      ],
      "execution_count": 11,
      "outputs": [
        {
          "output_type": "stream",
          "text": [
            "10.0\n"
          ],
          "name": "stdout"
        }
      ]
    },
    {
      "cell_type": "markdown",
      "metadata": {
        "id": "5qP9SfikPSQE"
      },
      "source": [
        "## char : ข้อความหรือตัวอักษร\r\n",
        "\r\n",
        "-> # hashtag, sharp ใช้สำหรับคอมเม้น"
      ]
    },
    {
      "cell_type": "code",
      "metadata": {
        "colab": {
          "base_uri": "https://localhost:8080/"
        },
        "id": "5aloIN9mPAKx",
        "outputId": "176c8cbc-b50e-44a1-d062-ccc9c900d6f3"
      },
      "source": [
        "c = 'PANG' #เราจะบอกว่าตัวแปรเป็นตัวอักษรหรือข้อความโดยการใช้ single quote '....' หรือ double quot \"...\" ล้อมรอบ\r\n",
        "print(c)"
      ],
      "execution_count": 12,
      "outputs": [
        {
          "output_type": "stream",
          "text": [
            "PANG\n"
          ],
          "name": "stdout"
        }
      ]
    },
    {
      "cell_type": "code",
      "metadata": {
        "colab": {
          "base_uri": "https://localhost:8080/"
        },
        "id": "sAr8JJh6Q8ao",
        "outputId": "d4c86f5a-536f-4ec0-fa8e-a748a0076f29"
      },
      "source": [
        "d = '10'\r\n",
        "print(d)"
      ],
      "execution_count": 13,
      "outputs": [
        {
          "output_type": "stream",
          "text": [
            "10\n"
          ],
          "name": "stdout"
        }
      ]
    },
    {
      "cell_type": "code",
      "metadata": {
        "colab": {
          "base_uri": "https://localhost:8080/",
          "height": 167
        },
        "id": "c-ABHeHKREma",
        "outputId": "245bc473-6fd7-46c4-c8d5-79a865943f37"
      },
      "source": [
        "d + 1 #error ตัวเลขที่เป็น string ไม่สามารถเอามา + - x / ได้"
      ],
      "execution_count": 14,
      "outputs": [
        {
          "output_type": "error",
          "ename": "TypeError",
          "evalue": "ignored",
          "traceback": [
            "\u001b[0;31m---------------------------------------------------------------------------\u001b[0m",
            "\u001b[0;31mTypeError\u001b[0m                                 Traceback (most recent call last)",
            "\u001b[0;32m<ipython-input-14-5130889708ba>\u001b[0m in \u001b[0;36m<module>\u001b[0;34m()\u001b[0m\n\u001b[0;32m----> 1\u001b[0;31m \u001b[0md\u001b[0m \u001b[0;34m+\u001b[0m \u001b[0;36m1\u001b[0m \u001b[0;31m#ตัวเลขที่เป็น string ไม่สามารถเอามา + - x / ได้\u001b[0m\u001b[0;34m\u001b[0m\u001b[0;34m\u001b[0m\u001b[0m\n\u001b[0m",
            "\u001b[0;31mTypeError\u001b[0m: must be str, not int"
          ]
        }
      ]
    },
    {
      "cell_type": "markdown",
      "metadata": {
        "id": "N0N8zxlkPiCh"
      },
      "source": [
        "## variable casting การเปลี่ยนชนิดตัวแปร\r\n",
        "\r\n",
        " การเปลี่ยน char เป็น int"
      ]
    },
    {
      "cell_type": "code",
      "metadata": {
        "colab": {
          "base_uri": "https://localhost:8080/"
        },
        "id": "ZglDp96kPACo",
        "outputId": "66c0e5e5-e7fb-49ce-883e-7e581d1db19f"
      },
      "source": [
        "ch = 10\r\n",
        "ch"
      ],
      "execution_count": 15,
      "outputs": [
        {
          "output_type": "execute_result",
          "data": {
            "text/plain": [
              "10"
            ]
          },
          "metadata": {
            "tags": []
          },
          "execution_count": 15
        }
      ]
    },
    {
      "cell_type": "code",
      "metadata": {
        "colab": {
          "base_uri": "https://localhost:8080/"
        },
        "id": "WFtxdRuORhu8",
        "outputId": "a50eee59-d2e7-4c37-cd17-845aed9e8023"
      },
      "source": [
        "int(ch)"
      ],
      "execution_count": 16,
      "outputs": [
        {
          "output_type": "execute_result",
          "data": {
            "text/plain": [
              "10"
            ]
          },
          "metadata": {
            "tags": []
          },
          "execution_count": 16
        }
      ]
    },
    {
      "cell_type": "code",
      "metadata": {
        "colab": {
          "base_uri": "https://localhost:8080/"
        },
        "id": "Pr_eLW2aR8Yo",
        "outputId": "5e9ac8b8-8c91-462a-805c-d4e4e8c8535d"
      },
      "source": [
        "int(d) + 1"
      ],
      "execution_count": 17,
      "outputs": [
        {
          "output_type": "execute_result",
          "data": {
            "text/plain": [
              "11"
            ]
          },
          "metadata": {
            "tags": []
          },
          "execution_count": 17
        }
      ]
    },
    {
      "cell_type": "markdown",
      "metadata": {
        "id": "ooMIjnGfSHRh"
      },
      "source": [
        "## เปลี่ยน int เป็น float"
      ]
    },
    {
      "cell_type": "code",
      "metadata": {
        "colab": {
          "base_uri": "https://localhost:8080/"
        },
        "id": "Yi3cdkZnSHE1",
        "outputId": "ded4535b-6747-44b8-f06a-7bc63bb1100b"
      },
      "source": [
        "print(a)\r\n",
        "print(float(a))\r\n",
        "print(str(a))"
      ],
      "execution_count": 18,
      "outputs": [
        {
          "output_type": "stream",
          "text": [
            "10\n",
            "10.0\n",
            "10\n"
          ],
          "name": "stdout"
        }
      ]
    },
    {
      "cell_type": "markdown",
      "metadata": {
        "id": "0_W5Gwu0Sah0"
      },
      "source": [
        "## Operation การเอาตัวแปรสองตัวมาบวก ลบ คูณ หาร\r\n",
        "## Operator +,-,*,/,%"
      ]
    },
    {
      "cell_type": "code",
      "metadata": {
        "colab": {
          "base_uri": "https://localhost:8080/"
        },
        "id": "0T2kP-vWSHAk",
        "outputId": "e1086e98-1c72-4a66-ddff-083a568e9a16"
      },
      "source": [
        "a+b"
      ],
      "execution_count": 19,
      "outputs": [
        {
          "output_type": "execute_result",
          "data": {
            "text/plain": [
              "20.0"
            ]
          },
          "metadata": {
            "tags": []
          },
          "execution_count": 19
        }
      ]
    },
    {
      "cell_type": "code",
      "metadata": {
        "colab": {
          "base_uri": "https://localhost:8080/"
        },
        "id": "KtAYnONiSG61",
        "outputId": "efb4aba5-daf7-4582-d459-307a8eb82d7e"
      },
      "source": [
        "ab = a+b\r\n",
        "print(ab)"
      ],
      "execution_count": 20,
      "outputs": [
        {
          "output_type": "stream",
          "text": [
            "20.0\n"
          ],
          "name": "stdout"
        }
      ]
    },
    {
      "cell_type": "markdown",
      "metadata": {
        "id": "hPE4wCgVS-3Z"
      },
      "source": [
        "### % คือ เครื่องหมาย modulo การหารเอาเศษ"
      ]
    },
    {
      "cell_type": "code",
      "metadata": {
        "colab": {
          "base_uri": "https://localhost:8080/"
        },
        "id": "0_Hl-vvfSG0Y",
        "outputId": "4819cc7a-de8a-424d-a9d5-8aed70cf4f06"
      },
      "source": [
        "5%3"
      ],
      "execution_count": 21,
      "outputs": [
        {
          "output_type": "execute_result",
          "data": {
            "text/plain": [
              "2"
            ]
          },
          "metadata": {
            "tags": []
          },
          "execution_count": 21
        }
      ]
    },
    {
      "cell_type": "code",
      "metadata": {
        "colab": {
          "base_uri": "https://localhost:8080/"
        },
        "id": "lJee3lGrTHSu",
        "outputId": "37682b4d-d525-41fe-c508-5242a2208279"
      },
      "source": [
        "7%3"
      ],
      "execution_count": 22,
      "outputs": [
        {
          "output_type": "execute_result",
          "data": {
            "text/plain": [
              "1"
            ]
          },
          "metadata": {
            "tags": []
          },
          "execution_count": 22
        }
      ]
    },
    {
      "cell_type": "markdown",
      "metadata": {
        "id": "ThTb9wstTaqj"
      },
      "source": [
        "## คำสั่ง print แบบพิเศษ (การ format string)"
      ]
    },
    {
      "cell_type": "code",
      "metadata": {
        "colab": {
          "base_uri": "https://localhost:8080/"
        },
        "id": "V3mBk9uITP4n",
        "outputId": "47b3dae4-3186-4cee-d9d1-552b3a9bedd9"
      },
      "source": [
        "print('ตัวแปร') # สิงที่อยู่ในวงเล็บคือ ตัวแปร และ string"
      ],
      "execution_count": 23,
      "outputs": [
        {
          "output_type": "stream",
          "text": [
            "ตัวแปร\n"
          ],
          "name": "stdout"
        }
      ]
    },
    {
      "cell_type": "code",
      "metadata": {
        "colab": {
          "base_uri": "https://localhost:8080/"
        },
        "id": "ORlgaPvqTkkD",
        "outputId": "f74568e7-7bc9-447a-965e-45fbd70019c4"
      },
      "source": [
        "print(f'% คือ การหารเอาเศษ เช่น 7%3 = {7%3}')\r\n",
        "# เพิ่ม f หน้า 'string' และใช้ {} เพื่อใส่ code"
      ],
      "execution_count": 25,
      "outputs": [
        {
          "output_type": "stream",
          "text": [
            "% คือ การหารเอาเศษ เช่น 7%3 = 1\n"
          ],
          "name": "stdout"
        }
      ]
    },
    {
      "cell_type": "code",
      "metadata": {
        "colab": {
          "base_uri": "https://localhost:8080/"
        },
        "id": "J6ZThfzkTkhL",
        "outputId": "e886af74-9af3-4f63-8be0-5b3b2a9bab1c"
      },
      "source": [
        "print(f'% คือ การหารเอาเศษ เช่น 7%3 = {7%3} \\n แต่ / คือ การหารปกติ เช่น 7/3 = {7/3}' ) # \\n คือ การขึ้นบรรทัดใหม่"
      ],
      "execution_count": 28,
      "outputs": [
        {
          "output_type": "stream",
          "text": [
            "% คือ การหารเอาเศษ เช่น 7%3 = 1 \n",
            " แต่ / คือ การหารปกติ เช่น 7/3 = 2.3333333333333335\n"
          ],
          "name": "stdout"
        }
      ]
    },
    {
      "cell_type": "code",
      "metadata": {
        "id": "xlufPxprTkVr"
      },
      "source": [
        "print(f'% คือ การหารเอาเศษ เช่น 7%3 = {7%3} \\n แต่ / คือ การหารปกติ เช่น 7/3 = {7/3}'  ) "
      ],
      "execution_count": null,
      "outputs": []
    },
    {
      "cell_type": "markdown",
      "metadata": {
        "id": "qBt7aWXQXLOO"
      },
      "source": [
        "## โจทย์ เพิ่มอีกบรรทัด แสดงวิธีการหารเอาส่วน"
      ]
    },
    {
      "cell_type": "code",
      "metadata": {
        "colab": {
          "base_uri": "https://localhost:8080/"
        },
        "id": "E7HR93VSTkSU",
        "outputId": "253e68cc-5e2d-43dc-e8eb-bc679ad74ba0"
      },
      "source": [
        "print(f'% คือ การหารเอาเศษ เช่น 7%3 = {7%3} \\\\\r\n",
        "    \\n แต่ / คือ การหารปกติ เช่น 7/3 = {7/3} \\\\\r\n",
        "    \\n และ การหารเอาส่วน คือ การใช้ // เช่น 7//3 = {7//3} \\\\\r\n",
        "    \\n หรือ ใช้ int() เพื่อหารเอาส่วน เช่น int(7//3) = {int(7//3)}'  ) \r\n",
        "# การเว้นวรรค \\\\ คือ  ใช้ในการตัด code แต่ คอมจะไม่เห็น"
      ],
      "execution_count": 40,
      "outputs": [
        {
          "output_type": "stream",
          "text": [
            "% คือ การหารเอาเศษ เช่น 7%3 = 1 \\    \n",
            " แต่ / คือ การหารปกติ เช่น 7/3 = 2.3333333333333335 \\    \n",
            " และ การหารเอาส่วน คือ การใช้ // เช่น 7//3 = 2 \\    \n",
            " หรือ ใช้ int() เพื่อหารเอาส่วน เช่น int(7//3) = 2\n"
          ],
          "name": "stdout"
        }
      ]
    },
    {
      "cell_type": "code",
      "metadata": {
        "colab": {
          "base_uri": "https://localhost:8080/"
        },
        "id": "dM3XVkhVTkOF",
        "outputId": "4e28a729-8d89-4c43-f5d3-8d622ff707c1"
      },
      "source": [
        "z = 7/3\r\n",
        "z"
      ],
      "execution_count": 34,
      "outputs": [
        {
          "output_type": "execute_result",
          "data": {
            "text/plain": [
              "2.3333333333333335"
            ]
          },
          "metadata": {
            "tags": []
          },
          "execution_count": 34
        }
      ]
    },
    {
      "cell_type": "code",
      "metadata": {
        "colab": {
          "base_uri": "https://localhost:8080/"
        },
        "id": "wlmphbWuZNMn",
        "outputId": "74fdf5dc-a506-4ca7-e3a2-96f6b49afb28"
      },
      "source": [
        "print(z)\r\n",
        "\r\n",
        "print(int(z))"
      ],
      "execution_count": 37,
      "outputs": [
        {
          "output_type": "stream",
          "text": [
            "2.3333333333333335\n",
            "2\n"
          ],
          "name": "stdout"
        }
      ]
    },
    {
      "cell_type": "markdown",
      "metadata": {
        "id": "c8rFT-2yTQUE"
      },
      "source": [
        "## List "
      ]
    },
    {
      "cell_type": "markdown",
      "metadata": {
        "id": "Ip3CuAwNbMVI"
      },
      "source": [
        "### แบบที่ 1 > square brackets"
      ]
    },
    {
      "cell_type": "code",
      "metadata": {
        "id": "Da0eH79DbW1y"
      },
      "source": [
        "list_a = [] "
      ],
      "execution_count": null,
      "outputs": []
    },
    {
      "cell_type": "code",
      "metadata": {
        "colab": {
          "base_uri": "https://localhost:8080/"
        },
        "id": "ZW-jPjbebXT9",
        "outputId": "52e9624b-3fac-497a-cf05-6c6d11144d2d"
      },
      "source": [
        "list_b = [1,5,'v']\r\n",
        "print(list_b)"
      ],
      "execution_count": 41,
      "outputs": [
        {
          "output_type": "stream",
          "text": [
            "[1, 5, 'v']\n"
          ],
          "name": "stdout"
        }
      ]
    },
    {
      "cell_type": "markdown",
      "metadata": {
        "id": "9FmmKUbqbkmI"
      },
      "source": [
        "### ลำดับที่อยู่ใน list มีความสำคัญ (ลำดับใน list เริ่มจาก 0,1,2)"
      ]
    },
    {
      "cell_type": "code",
      "metadata": {
        "colab": {
          "base_uri": "https://localhost:8080/"
        },
        "id": "PxnnRwAqbXQO",
        "outputId": "a1cc1cd8-4eba-4ade-8834-5ae377d06ffa"
      },
      "source": [
        "list_b[1]"
      ],
      "execution_count": 42,
      "outputs": [
        {
          "output_type": "execute_result",
          "data": {
            "text/plain": [
              "5"
            ]
          },
          "metadata": {
            "tags": []
          },
          "execution_count": 42
        }
      ]
    },
    {
      "cell_type": "markdown",
      "metadata": {
        "id": "OOH_4nehcE_Q"
      },
      "source": [
        "### แบบที่ 2 "
      ]
    },
    {
      "cell_type": "code",
      "metadata": {
        "id": "xfaLuSY_bXKe"
      },
      "source": [
        ""
      ],
      "execution_count": null,
      "outputs": []
    },
    {
      "cell_type": "markdown",
      "metadata": {
        "id": "LUjBhYO9cIlu"
      },
      "source": [
        "## append() เพิ่มสมาชิกใน list "
      ]
    },
    {
      "cell_type": "code",
      "metadata": {
        "colab": {
          "base_uri": "https://localhost:8080/"
        },
        "id": "AXNWDvX1cToT",
        "outputId": "1e6e0439-8c0e-4345-cc0a-0ef6b144ac0f"
      },
      "source": [
        "list_b.append('u')\r\n",
        "print(list_b)"
      ],
      "execution_count": 43,
      "outputs": [
        {
          "output_type": "stream",
          "text": [
            "[1, 5, 'v', 'u']\n"
          ],
          "name": "stdout"
        }
      ]
    },
    {
      "cell_type": "code",
      "metadata": {
        "colab": {
          "base_uri": "https://localhost:8080/",
          "height": 35
        },
        "id": "l6Q665McccsJ",
        "outputId": "5182e39b-e928-4ee2-fe4c-42254358892d"
      },
      "source": [
        "list_b.pop() ### ดึงสมาชิกสุดท้ายออกจาก list "
      ],
      "execution_count": 44,
      "outputs": [
        {
          "output_type": "execute_result",
          "data": {
            "application/vnd.google.colaboratory.intrinsic+json": {
              "type": "string"
            },
            "text/plain": [
              "'u'"
            ]
          },
          "metadata": {
            "tags": []
          },
          "execution_count": 44
        }
      ]
    },
    {
      "cell_type": "code",
      "metadata": {
        "colab": {
          "base_uri": "https://localhost:8080/"
        },
        "id": "TkJYrOI2ccSr",
        "outputId": "700ddd71-c340-4eb3-d2c4-db2c6aeb4650"
      },
      "source": [
        "list_b"
      ],
      "execution_count": 45,
      "outputs": [
        {
          "output_type": "execute_result",
          "data": {
            "text/plain": [
              "[1, 5, 'v']"
            ]
          },
          "metadata": {
            "tags": []
          },
          "execution_count": 45
        }
      ]
    },
    {
      "cell_type": "code",
      "metadata": {
        "colab": {
          "base_uri": "https://localhost:8080/"
        },
        "id": "TNP6YwLNcxrP",
        "outputId": "4eea06b8-6cf1-4bd0-95c5-297ac3460fb6"
      },
      "source": [
        "list_b.append(list_b) # การใส่ list เข้าไปใน list \r\n",
        "list_b"
      ],
      "execution_count": 48,
      "outputs": [
        {
          "output_type": "execute_result",
          "data": {
            "text/plain": [
              "[1, 5, 'v', [...]]"
            ]
          },
          "metadata": {
            "tags": []
          },
          "execution_count": 48
        }
      ]
    },
    {
      "cell_type": "markdown",
      "metadata": {
        "id": "XdpLqYVRdGNC"
      },
      "source": [
        "## String > list of characters"
      ]
    },
    {
      "cell_type": "code",
      "metadata": {
        "colab": {
          "base_uri": "https://localhost:8080/",
          "height": 35
        },
        "id": "tQFKx5OndU4X",
        "outputId": "e3b390a4-4661-4f64-ec94-98536cc21f3b"
      },
      "source": [
        "t = 'python is easy'\r\n",
        "t"
      ],
      "execution_count": 50,
      "outputs": [
        {
          "output_type": "execute_result",
          "data": {
            "application/vnd.google.colaboratory.intrinsic+json": {
              "type": "string"
            },
            "text/plain": [
              "'python is easy'"
            ]
          },
          "metadata": {
            "tags": []
          },
          "execution_count": 50
        }
      ]
    },
    {
      "cell_type": "code",
      "metadata": {
        "colab": {
          "base_uri": "https://localhost:8080/"
        },
        "id": "gYs5Sao4dOcE",
        "outputId": "33d1f369-a4bc-4d3c-cdeb-fb661527d42a"
      },
      "source": [
        "len(list_b) # len คือ คำสั่งตรวจสอบความยาวของ list (จำนวนสมาชิก)"
      ],
      "execution_count": 49,
      "outputs": [
        {
          "output_type": "execute_result",
          "data": {
            "text/plain": [
              "4"
            ]
          },
          "metadata": {
            "tags": []
          },
          "execution_count": 49
        }
      ]
    },
    {
      "cell_type": "code",
      "metadata": {
        "colab": {
          "base_uri": "https://localhost:8080/"
        },
        "id": "flvtmG2fdOv3",
        "outputId": "d5faa56a-c85b-416f-8d0a-5beafe1cf0ca"
      },
      "source": [
        "len(t)"
      ],
      "execution_count": 51,
      "outputs": [
        {
          "output_type": "execute_result",
          "data": {
            "text/plain": [
              "14"
            ]
          },
          "metadata": {
            "tags": []
          },
          "execution_count": 51
        }
      ]
    },
    {
      "cell_type": "code",
      "metadata": {
        "id": "JyU1M_XDdOp8"
      },
      "source": [
        ""
      ],
      "execution_count": null,
      "outputs": []
    },
    {
      "cell_type": "markdown",
      "metadata": {
        "id": "7voAfa3zeATM"
      },
      "source": [
        "## access a member of a list (list and string)\r\n",
        "## โดยการเริ่มนับ จะเริ่มนับจาก 0\r\n",
        "## 0 คือ สมาชิกตัวแรก , -1 คือ สมาชิกตัวสุดท้าย"
      ]
    },
    {
      "cell_type": "code",
      "metadata": {
        "colab": {
          "base_uri": "https://localhost:8080/",
          "height": 35
        },
        "id": "aJqRbZt6eTOm",
        "outputId": "ffd37ed9-5b18-4218-b655-f2bc6cdc8508"
      },
      "source": [
        "t[1]"
      ],
      "execution_count": 52,
      "outputs": [
        {
          "output_type": "execute_result",
          "data": {
            "application/vnd.google.colaboratory.intrinsic+json": {
              "type": "string"
            },
            "text/plain": [
              "'y'"
            ]
          },
          "metadata": {
            "tags": []
          },
          "execution_count": 52
        }
      ]
    },
    {
      "cell_type": "code",
      "metadata": {
        "colab": {
          "base_uri": "https://localhost:8080/",
          "height": 35
        },
        "id": "HixcpXCYeTtd",
        "outputId": "58e9a66d-c83c-4a0d-b4de-f050fddfe9c6"
      },
      "source": [
        "t[-1]"
      ],
      "execution_count": 53,
      "outputs": [
        {
          "output_type": "execute_result",
          "data": {
            "application/vnd.google.colaboratory.intrinsic+json": {
              "type": "string"
            },
            "text/plain": [
              "'y'"
            ]
          },
          "metadata": {
            "tags": []
          },
          "execution_count": 53
        }
      ]
    },
    {
      "cell_type": "code",
      "metadata": {
        "colab": {
          "base_uri": "https://localhost:8080/",
          "height": 35
        },
        "id": "MYk6Ih6feyIQ",
        "outputId": "564fc283-fb14-4764-cc65-f15848c280a2"
      },
      "source": [
        "t[-3]"
      ],
      "execution_count": 54,
      "outputs": [
        {
          "output_type": "execute_result",
          "data": {
            "application/vnd.google.colaboratory.intrinsic+json": {
              "type": "string"
            },
            "text/plain": [
              "'a'"
            ]
          },
          "metadata": {
            "tags": []
          },
          "execution_count": 54
        }
      ]
    },
    {
      "cell_type": "markdown",
      "metadata": {
        "id": "hxosTDQ4elvC"
      },
      "source": [
        "### ตัวที่อยู่ใน [..] เราเรียกว่า index (ตัวชี้)"
      ]
    },
    {
      "cell_type": "markdown",
      "metadata": {
        "id": "ecRNMRGufaNc"
      },
      "source": [
        "## List slicing คือ การตัด list \r\n",
        "### โดยใช้คำสั่ง [a:b] -> [a,b)"
      ]
    },
    {
      "cell_type": "code",
      "metadata": {
        "colab": {
          "base_uri": "https://localhost:8080/"
        },
        "id": "n5Y7StH9eTrE",
        "outputId": "9d391bff-1809-4026-a7d9-70a50851e5eb"
      },
      "source": [
        "print(t)\r\n",
        "print(t[7:9])\r\n",
        "# เอาตัวที่ 7 คือ i และไม่เอาตัวที่ 9 เพราะฉะนั้นจะได้ s "
      ],
      "execution_count": 56,
      "outputs": [
        {
          "output_type": "stream",
          "text": [
            "python is easy\n",
            "is\n"
          ],
          "name": "stdout"
        }
      ]
    },
    {
      "cell_type": "markdown",
      "metadata": {
        "id": "DDOwDA7lhFZ0"
      },
      "source": [
        "ถ้าเว้นว่างหน้า : หมายความว่า หน้า : คือ เลข 0 เริ่มตั้งแต่ตัวเลข\r\n",
        "\r\n",
        "ถ้าเว้นว่างหลัง : หมายความว่า ไปจนถึงตัวสุดท้าย"
      ]
    },
    {
      "cell_type": "code",
      "metadata": {
        "colab": {
          "base_uri": "https://localhost:8080/"
        },
        "id": "FsWsT5S8eTmN",
        "outputId": "900aab30-b2af-4900-e21d-6bc8ff870ad0"
      },
      "source": [
        "print(t)\r\n",
        "print(t[:6])\r\n",
        "print(t[10:])\r\n",
        "print(t[-4:])\r\n",
        "print(t[:])"
      ],
      "execution_count": 60,
      "outputs": [
        {
          "output_type": "stream",
          "text": [
            "python is easy\n",
            "python\n",
            "easy\n",
            "easy\n",
            "python is easy\n"
          ],
          "name": "stdout"
        }
      ]
    },
    {
      "cell_type": "markdown",
      "metadata": {
        "id": "9WiE7RYdh1rY"
      },
      "source": [
        "## การเอา list มาต่อกันได้ด้วย ตัว + "
      ]
    },
    {
      "cell_type": "code",
      "metadata": {
        "colab": {
          "base_uri": "https://localhost:8080/",
          "height": 35
        },
        "id": "FinWsVyniTTv",
        "outputId": "30734a06-aa66-4728-d09f-ba787353899d"
      },
      "source": [
        "t + '???'"
      ],
      "execution_count": 62,
      "outputs": [
        {
          "output_type": "execute_result",
          "data": {
            "application/vnd.google.colaboratory.intrinsic+json": {
              "type": "string"
            },
            "text/plain": [
              "'python is easy???'"
            ]
          },
          "metadata": {
            "tags": []
          },
          "execution_count": 62
        }
      ]
    },
    {
      "cell_type": "code",
      "metadata": {
        "id": "yVuRKbvJi0o6"
      },
      "source": [
        "t + list_b"
      ],
      "execution_count": null,
      "outputs": []
    },
    {
      "cell_type": "code",
      "metadata": {
        "colab": {
          "base_uri": "https://localhost:8080/"
        },
        "id": "HnHCvBcnijsv",
        "outputId": "ec66d65a-5e03-4d28-bee6-3b1bdc772f8a"
      },
      "source": [
        "list_b + list_b"
      ],
      "execution_count": 63,
      "outputs": [
        {
          "output_type": "execute_result",
          "data": {
            "text/plain": [
              "[1, 5, 'v', [1, 5, 'v', [...]], 1, 5, 'v', [1, 5, 'v', [...]]]"
            ]
          },
          "metadata": {
            "tags": []
          },
          "execution_count": 63
        }
      ]
    },
    {
      "cell_type": "markdown",
      "metadata": {
        "id": "OByo0PXJi7Pr"
      },
      "source": [
        "## การแบ่ง string ตามสัญญาลักษณ์ที่กำหนด -> split sring "
      ]
    },
    {
      "cell_type": "code",
      "metadata": {
        "colab": {
          "base_uri": "https://localhost:8080/"
        },
        "id": "H-wkYQN0jQIN",
        "outputId": "cafda96f-e6ae-48db-f152-e5b4641fbfb0"
      },
      "source": [
        "t.split(' ') #การแบ่งด้วยช่องว่าง "
      ],
      "execution_count": 64,
      "outputs": [
        {
          "output_type": "execute_result",
          "data": {
            "text/plain": [
              "['python', 'is', 'easy']"
            ]
          },
          "metadata": {
            "tags": []
          },
          "execution_count": 64
        }
      ]
    },
    {
      "cell_type": "code",
      "metadata": {
        "id": "Y1JPgGCcjQnw"
      },
      "source": [
        "time = '12:30:15'"
      ],
      "execution_count": 65,
      "outputs": []
    },
    {
      "cell_type": "code",
      "metadata": {
        "colab": {
          "base_uri": "https://localhost:8080/"
        },
        "id": "oQZ1li-zjQge",
        "outputId": "f446df54-941c-4be7-fa79-def05190c77c"
      },
      "source": [
        "time.split(':') #การแบ่งด้วยสัญลักษณ์ : "
      ],
      "execution_count": 66,
      "outputs": [
        {
          "output_type": "execute_result",
          "data": {
            "text/plain": [
              "['12', '30', '15']"
            ]
          },
          "metadata": {
            "tags": []
          },
          "execution_count": 66
        }
      ]
    },
    {
      "cell_type": "code",
      "metadata": {
        "id": "PKkVXMu8j5bo"
      },
      "source": [
        ""
      ],
      "execution_count": null,
      "outputs": []
    },
    {
      "cell_type": "markdown",
      "metadata": {
        "id": "eoWgkLAajvsW"
      },
      "source": [
        "# HW"
      ]
    },
    {
      "cell_type": "code",
      "metadata": {
        "id": "hiH87C1zjyET"
      },
      "source": [
        ""
      ],
      "execution_count": null,
      "outputs": []
    }
  ]
}