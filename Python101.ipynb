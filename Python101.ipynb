{
  "nbformat": 4,
  "nbformat_minor": 0,
  "metadata": {
    "colab": {
      "name": "Python101.ipynb",
      "provenance": [],
      "authorship_tag": "ABX9TyNKmOs3NeDkoA37NmvEmJKn",
      "include_colab_link": true
    },
    "kernelspec": {
      "name": "python3",
      "display_name": "Python 3"
    }
  },
  "cells": [
    {
      "cell_type": "markdown",
      "metadata": {
        "id": "view-in-github",
        "colab_type": "text"
      },
      "source": [
        "<a href=\"https://colab.research.google.com/github/Suchirapon/data_viz/blob/main/Python101.ipynb\" target=\"_parent\"><img src=\"https://colab.research.google.com/assets/colab-badge.svg\" alt=\"Open In Colab\"/></a>"
      ]
    },
    {
      "cell_type": "markdown",
      "metadata": {
        "id": "ZPV_8ExDMva_"
      },
      "source": [
        "# Variables\r\n",
        "\r\n",
        "ตัวแปร เก็บข้อมูล 1 ตัว เช่น ตัวเลข ตัวหนังสือ"
      ]
    },
    {
      "cell_type": "code",
      "metadata": {
        "colab": {
          "base_uri": "https://localhost:8080/"
        },
        "id": "ELFjLoC5NNmS",
        "outputId": "82b024d5-223c-4c52-c065-3b1d570d0b75"
      },
      "source": [
        "3.14159265359"
      ],
      "execution_count": null,
      "outputs": [
        {
          "output_type": "execute_result",
          "data": {
            "text/plain": [
              "3.14159265359"
            ]
          },
          "metadata": {
            "tags": []
          },
          "execution_count": 1
        }
      ]
    },
    {
      "cell_type": "markdown",
      "metadata": {
        "id": "304uDYM3NoE8"
      },
      "source": [
        "### หลักการตั้งชื่อตัวแปรเบื้องต้น\r\n",
        "\r\n",
        "\r\n",
        "1.   ตั้งให้สื่อ\r\n",
        "2.   ภาษาอังกฤษ\r\n",
        "3.   ใช้ตัวเลขได้ แต่ห้ามขึ้นต้นด้วยตัวเลข \r\n",
        "4.   หัวเว้นวรรค\r\n",
        "\r\n"
      ]
    },
    {
      "cell_type": "code",
      "metadata": {
        "id": "kzAUAFgcNff2"
      },
      "source": [
        "pi = 3.14159265359\r\n",
        "#ตั้งชื่อตัวแปรเพื่อมารับค่า  3.14159265359 โดยใช้ชื่อตัวแปร pi"
      ],
      "execution_count": null,
      "outputs": []
    },
    {
      "cell_type": "code",
      "metadata": {
        "colab": {
          "base_uri": "https://localhost:8080/"
        },
        "id": "4_mX4TyOOgpi",
        "outputId": "d0deff92-3887-439f-c04b-fdf2a9e54b70"
      },
      "source": [
        "pi"
      ],
      "execution_count": null,
      "outputs": [
        {
          "output_type": "execute_result",
          "data": {
            "text/plain": [
              "3.14159265359"
            ]
          },
          "metadata": {
            "tags": []
          },
          "execution_count": 3
        }
      ]
    },
    {
      "cell_type": "markdown",
      "metadata": {
        "id": "f-5diD4MOrY4"
      },
      "source": [
        "# ชนิดตัวแปร"
      ]
    },
    {
      "cell_type": "markdown",
      "metadata": {
        "id": "Z4PENkZ5M2Ie"
      },
      "source": [
        "## int : จำนวนเต็ม"
      ]
    },
    {
      "cell_type": "code",
      "metadata": {
        "id": "3JB7Bv-VMpkL"
      },
      "source": [
        "a = 10 "
      ],
      "execution_count": null,
      "outputs": []
    },
    {
      "cell_type": "code",
      "metadata": {
        "colab": {
          "base_uri": "https://localhost:8080/"
        },
        "id": "W25tBhqsNCs_",
        "outputId": "66bd16d3-1526-44d5-f8b9-af4d9289278f"
      },
      "source": [
        "print(a)"
      ],
      "execution_count": null,
      "outputs": [
        {
          "output_type": "stream",
          "text": [
            "10\n"
          ],
          "name": "stdout"
        }
      ]
    },
    {
      "cell_type": "markdown",
      "metadata": {
        "id": "OIGFJ61fO4ux"
      },
      "source": [
        "## float : จำนวนจริงที่เป็นทศนิยม"
      ]
    },
    {
      "cell_type": "code",
      "metadata": {
        "colab": {
          "base_uri": "https://localhost:8080/"
        },
        "id": "Oa0M-P3hPAQ4",
        "outputId": "aba0a0d7-c711-4c1f-fd97-7f0a15a8f095"
      },
      "source": [
        "b = 10.\r\n",
        "print(b)"
      ],
      "execution_count": null,
      "outputs": [
        {
          "output_type": "stream",
          "text": [
            "10.0\n"
          ],
          "name": "stdout"
        }
      ]
    },
    {
      "cell_type": "markdown",
      "metadata": {
        "id": "5qP9SfikPSQE"
      },
      "source": [
        "## char : ข้อความหรือตัวอักษร\r\n",
        "\r\n",
        "-> # hashtag, sharp ใช้สำหรับคอมเม้น"
      ]
    },
    {
      "cell_type": "code",
      "metadata": {
        "colab": {
          "base_uri": "https://localhost:8080/"
        },
        "id": "5aloIN9mPAKx",
        "outputId": "3b60bae7-d2b2-43cd-b6e2-3a169249c62d"
      },
      "source": [
        "c = 'PANG' #เราจะบอกว่าตัวแปรเป็นตัวอักษรหรือข้อความโดยการใช้ single quote '....' หรือ double quot \"...\" ล้อมรอบ\r\n",
        "print(c)"
      ],
      "execution_count": null,
      "outputs": [
        {
          "output_type": "stream",
          "text": [
            "PANG\n"
          ],
          "name": "stdout"
        }
      ]
    },
    {
      "cell_type": "code",
      "metadata": {
        "colab": {
          "base_uri": "https://localhost:8080/"
        },
        "id": "sAr8JJh6Q8ao",
        "outputId": "1fe9a2db-8ab8-4d57-e120-4b36989e63b9"
      },
      "source": [
        "d = '10'\r\n",
        "print(d)"
      ],
      "execution_count": null,
      "outputs": [
        {
          "output_type": "stream",
          "text": [
            "10\n"
          ],
          "name": "stdout"
        }
      ]
    },
    {
      "cell_type": "code",
      "metadata": {
        "colab": {
          "base_uri": "https://localhost:8080/",
          "height": 167
        },
        "id": "c-ABHeHKREma",
        "outputId": "2bed2cbc-ed73-45cd-f48c-a7f1a845f1a9"
      },
      "source": [
        "d + 1 #error ตัวเลขที่เป็น string ไม่สามารถเอามา + - x / ได้"
      ],
      "execution_count": null,
      "outputs": [
        {
          "output_type": "error",
          "ename": "TypeError",
          "evalue": "ignored",
          "traceback": [
            "\u001b[0;31m---------------------------------------------------------------------------\u001b[0m",
            "\u001b[0;31mTypeError\u001b[0m                                 Traceback (most recent call last)",
            "\u001b[0;32m<ipython-input-9-c67bb80a5f46>\u001b[0m in \u001b[0;36m<module>\u001b[0;34m()\u001b[0m\n\u001b[0;32m----> 1\u001b[0;31m \u001b[0md\u001b[0m \u001b[0;34m+\u001b[0m \u001b[0;36m1\u001b[0m \u001b[0;31m#error ตัวเลขที่เป็น string ไม่สามารถเอามา + - x / ได้\u001b[0m\u001b[0;34m\u001b[0m\u001b[0;34m\u001b[0m\u001b[0m\n\u001b[0m",
            "\u001b[0;31mTypeError\u001b[0m: must be str, not int"
          ]
        }
      ]
    },
    {
      "cell_type": "markdown",
      "metadata": {
        "id": "N0N8zxlkPiCh"
      },
      "source": [
        "## variable casting การเปลี่ยนชนิดตัวแปร\r\n",
        "\r\n",
        " การเปลี่ยน char เป็น int"
      ]
    },
    {
      "cell_type": "code",
      "metadata": {
        "colab": {
          "base_uri": "https://localhost:8080/"
        },
        "id": "ZglDp96kPACo",
        "outputId": "69592155-cde1-4084-ea41-62dc78179aaa"
      },
      "source": [
        "ch = 10\r\n",
        "ch"
      ],
      "execution_count": null,
      "outputs": [
        {
          "output_type": "execute_result",
          "data": {
            "text/plain": [
              "10"
            ]
          },
          "metadata": {
            "tags": []
          },
          "execution_count": 10
        }
      ]
    },
    {
      "cell_type": "code",
      "metadata": {
        "colab": {
          "base_uri": "https://localhost:8080/"
        },
        "id": "WFtxdRuORhu8",
        "outputId": "bd3af5c0-7799-431e-aa92-06d61ce1a90d"
      },
      "source": [
        "int(ch)"
      ],
      "execution_count": null,
      "outputs": [
        {
          "output_type": "execute_result",
          "data": {
            "text/plain": [
              "10"
            ]
          },
          "metadata": {
            "tags": []
          },
          "execution_count": 11
        }
      ]
    },
    {
      "cell_type": "code",
      "metadata": {
        "colab": {
          "base_uri": "https://localhost:8080/"
        },
        "id": "Pr_eLW2aR8Yo",
        "outputId": "d0848aff-94c7-49d8-df00-25eed57a7286"
      },
      "source": [
        "int(d) + 1"
      ],
      "execution_count": null,
      "outputs": [
        {
          "output_type": "execute_result",
          "data": {
            "text/plain": [
              "11"
            ]
          },
          "metadata": {
            "tags": []
          },
          "execution_count": 12
        }
      ]
    },
    {
      "cell_type": "markdown",
      "metadata": {
        "id": "ooMIjnGfSHRh"
      },
      "source": [
        "## เปลี่ยน int เป็น float"
      ]
    },
    {
      "cell_type": "code",
      "metadata": {
        "colab": {
          "base_uri": "https://localhost:8080/"
        },
        "id": "Yi3cdkZnSHE1",
        "outputId": "6c719ead-1a70-4e33-fc50-57089d06bbb9"
      },
      "source": [
        "print(a)\r\n",
        "print(float(a))\r\n",
        "print(str(a))"
      ],
      "execution_count": null,
      "outputs": [
        {
          "output_type": "stream",
          "text": [
            "10\n",
            "10.0\n",
            "10\n"
          ],
          "name": "stdout"
        }
      ]
    },
    {
      "cell_type": "markdown",
      "metadata": {
        "id": "0_W5Gwu0Sah0"
      },
      "source": [
        "## Operation การเอาตัวแปรสองตัวมาบวก ลบ คูณ หาร\r\n",
        "## Operator +,-,*,/,%"
      ]
    },
    {
      "cell_type": "code",
      "metadata": {
        "colab": {
          "base_uri": "https://localhost:8080/"
        },
        "id": "0T2kP-vWSHAk",
        "outputId": "9ea82b50-f889-4ba5-aa9c-2bee63587ddc"
      },
      "source": [
        "a+b"
      ],
      "execution_count": null,
      "outputs": [
        {
          "output_type": "execute_result",
          "data": {
            "text/plain": [
              "20.0"
            ]
          },
          "metadata": {
            "tags": []
          },
          "execution_count": 14
        }
      ]
    },
    {
      "cell_type": "code",
      "metadata": {
        "colab": {
          "base_uri": "https://localhost:8080/"
        },
        "id": "KtAYnONiSG61",
        "outputId": "89398c05-6f3d-4fc6-9a60-3207c5892265"
      },
      "source": [
        "ab = a+b\r\n",
        "print(ab)"
      ],
      "execution_count": null,
      "outputs": [
        {
          "output_type": "stream",
          "text": [
            "20.0\n"
          ],
          "name": "stdout"
        }
      ]
    },
    {
      "cell_type": "markdown",
      "metadata": {
        "id": "hPE4wCgVS-3Z"
      },
      "source": [
        "### % คือ เครื่องหมาย modulo การหารเอาเศษ"
      ]
    },
    {
      "cell_type": "code",
      "metadata": {
        "colab": {
          "base_uri": "https://localhost:8080/"
        },
        "id": "0_Hl-vvfSG0Y",
        "outputId": "646835b9-6643-430f-d30a-36f0aee214cc"
      },
      "source": [
        "5%3"
      ],
      "execution_count": null,
      "outputs": [
        {
          "output_type": "execute_result",
          "data": {
            "text/plain": [
              "2"
            ]
          },
          "metadata": {
            "tags": []
          },
          "execution_count": 16
        }
      ]
    },
    {
      "cell_type": "code",
      "metadata": {
        "colab": {
          "base_uri": "https://localhost:8080/"
        },
        "id": "lJee3lGrTHSu",
        "outputId": "1b9cfb4a-cdcf-4dc6-be5b-fd9cb737b41c"
      },
      "source": [
        "7%3"
      ],
      "execution_count": null,
      "outputs": [
        {
          "output_type": "execute_result",
          "data": {
            "text/plain": [
              "1"
            ]
          },
          "metadata": {
            "tags": []
          },
          "execution_count": 17
        }
      ]
    },
    {
      "cell_type": "markdown",
      "metadata": {
        "id": "ThTb9wstTaqj"
      },
      "source": [
        "## คำสั่ง print แบบพิเศษ (การ format string)"
      ]
    },
    {
      "cell_type": "code",
      "metadata": {
        "colab": {
          "base_uri": "https://localhost:8080/"
        },
        "id": "V3mBk9uITP4n",
        "outputId": "fd36f8ae-6b4c-4350-b6a9-463e4ba337a5"
      },
      "source": [
        "print('ตัวแปร') # สิงที่อยู่ในวงเล็บคือ ตัวแปร และ string"
      ],
      "execution_count": null,
      "outputs": [
        {
          "output_type": "stream",
          "text": [
            "ตัวแปร\n"
          ],
          "name": "stdout"
        }
      ]
    },
    {
      "cell_type": "code",
      "metadata": {
        "colab": {
          "base_uri": "https://localhost:8080/"
        },
        "id": "ORlgaPvqTkkD",
        "outputId": "195ce8c8-8328-4751-ff89-53117a72b83a"
      },
      "source": [
        "print(f'% คือ การหารเอาเศษ เช่น 7%3 = {7%3}')\r\n",
        "# เพิ่ม f หน้า 'string' และใช้ {} เพื่อใส่ code"
      ],
      "execution_count": null,
      "outputs": [
        {
          "output_type": "stream",
          "text": [
            "% คือ การหารเอาเศษ เช่น 7%3 = 1\n"
          ],
          "name": "stdout"
        }
      ]
    },
    {
      "cell_type": "code",
      "metadata": {
        "colab": {
          "base_uri": "https://localhost:8080/"
        },
        "id": "J6ZThfzkTkhL",
        "outputId": "83d2af66-bbdc-447c-a6b2-90afdd0a7e50"
      },
      "source": [
        "print(f'% คือ การหารเอาเศษ เช่น 7%3 = {7%3} \\n แต่ / คือ การหารปกติ เช่น 7/3 = {7/3}' ) # \\n คือ การขึ้นบรรทัดใหม่"
      ],
      "execution_count": null,
      "outputs": [
        {
          "output_type": "stream",
          "text": [
            "% คือ การหารเอาเศษ เช่น 7%3 = 1 \n",
            " แต่ / คือ การหารปกติ เช่น 7/3 = 2.3333333333333335\n"
          ],
          "name": "stdout"
        }
      ]
    },
    {
      "cell_type": "code",
      "metadata": {
        "id": "xlufPxprTkVr",
        "colab": {
          "base_uri": "https://localhost:8080/"
        },
        "outputId": "8948a4e6-0bcb-4ad6-ee60-3a26e7f80560"
      },
      "source": [
        "print(f'% คือ การหารเอาเศษ เช่น 7%3 = {7%3} \\n แต่ / คือ การหารปกติ เช่น 7/3 = {7/3}'  ) "
      ],
      "execution_count": null,
      "outputs": [
        {
          "output_type": "stream",
          "text": [
            "% คือ การหารเอาเศษ เช่น 7%3 = 1 \n",
            " แต่ / คือ การหารปกติ เช่น 7/3 = 2.3333333333333335\n"
          ],
          "name": "stdout"
        }
      ]
    },
    {
      "cell_type": "markdown",
      "metadata": {
        "id": "qBt7aWXQXLOO"
      },
      "source": [
        "## โจทย์ เพิ่มอีกบรรทัด แสดงวิธีการหารเอาส่วน"
      ]
    },
    {
      "cell_type": "code",
      "metadata": {
        "colab": {
          "base_uri": "https://localhost:8080/"
        },
        "id": "E7HR93VSTkSU",
        "outputId": "b1138b90-ddb1-4153-c7dd-e01c32e264e5"
      },
      "source": [
        "print(f'% คือ การหารเอาเศษ เช่น 7%3 = {7%3} \\\\\r\n",
        "    \\n แต่ / คือ การหารปกติ เช่น 7/3 = {7/3} \\\\\r\n",
        "    \\n และ การหารเอาส่วน คือ การใช้ // เช่น 7//3 = {7//3} \\\\\r\n",
        "    \\n หรือ ใช้ int() เพื่อหารเอาส่วน เช่น int(7//3) = {int(7//3)}'  ) \r\n",
        "# การเว้นวรรค \\\\ คือ  ใช้ในการตัด code แต่ คอมจะไม่เห็น"
      ],
      "execution_count": null,
      "outputs": [
        {
          "output_type": "stream",
          "text": [
            "% คือ การหารเอาเศษ เช่น 7%3 = 1 \\    \n",
            " แต่ / คือ การหารปกติ เช่น 7/3 = 2.3333333333333335 \\    \n",
            " และ การหารเอาส่วน คือ การใช้ // เช่น 7//3 = 2 \\    \n",
            " หรือ ใช้ int() เพื่อหารเอาส่วน เช่น int(7//3) = 2\n"
          ],
          "name": "stdout"
        }
      ]
    },
    {
      "cell_type": "code",
      "metadata": {
        "colab": {
          "base_uri": "https://localhost:8080/"
        },
        "id": "dM3XVkhVTkOF",
        "outputId": "ffa5f672-7ec3-4ce5-f762-8d7b3d22f4ba"
      },
      "source": [
        "z = 7/3\r\n",
        "z"
      ],
      "execution_count": null,
      "outputs": [
        {
          "output_type": "execute_result",
          "data": {
            "text/plain": [
              "2.3333333333333335"
            ]
          },
          "metadata": {
            "tags": []
          },
          "execution_count": 23
        }
      ]
    },
    {
      "cell_type": "code",
      "metadata": {
        "colab": {
          "base_uri": "https://localhost:8080/"
        },
        "id": "wlmphbWuZNMn",
        "outputId": "8bc5d38d-410b-44c6-8c4e-520eb2b27a74"
      },
      "source": [
        "print(z)\r\n",
        "\r\n",
        "print(int(z))"
      ],
      "execution_count": null,
      "outputs": [
        {
          "output_type": "stream",
          "text": [
            "2.3333333333333335\n",
            "2\n"
          ],
          "name": "stdout"
        }
      ]
    },
    {
      "cell_type": "markdown",
      "metadata": {
        "id": "oMjk-iB4jixN"
      },
      "source": [
        "# Data Structure (โครงสร้างข้อมูล)"
      ]
    },
    {
      "cell_type": "markdown",
      "metadata": {
        "id": "c8rFT-2yTQUE"
      },
      "source": [
        "## List คือ การเอาตัวแปรหลายๆตัวมาเรียงต่อกัน\r\n",
        "\r\n",
        "list สามารถสร้างได้ 2 แบบ ดังนี้"
      ]
    },
    {
      "cell_type": "markdown",
      "metadata": {
        "id": "Ip3CuAwNbMVI"
      },
      "source": [
        "### แบบที่ 1 > square brackets"
      ]
    },
    {
      "cell_type": "code",
      "metadata": {
        "id": "Da0eH79DbW1y",
        "colab": {
          "base_uri": "https://localhost:8080/"
        },
        "outputId": "22044fc8-3882-447d-a326-2352ebc08ebe"
      },
      "source": [
        "list_a = []\r\n",
        "print(list_a)\r\n",
        "# สร้าง list ว่าง โดยให้อยู่ในชื่อตัวแปร list_a"
      ],
      "execution_count": null,
      "outputs": [
        {
          "output_type": "stream",
          "text": [
            "[]\n"
          ],
          "name": "stdout"
        }
      ]
    },
    {
      "cell_type": "code",
      "metadata": {
        "colab": {
          "base_uri": "https://localhost:8080/"
        },
        "id": "ZW-jPjbebXT9",
        "outputId": "221288e3-3bae-4758-d2f0-a76ee0dd386d"
      },
      "source": [
        "list_b = [1,5,'v']\r\n",
        "print(list_b)\r\n",
        "# สร้าง list เก็บ 1 5 v โดยให้อยู่ในชื่อตัวแปร list_b"
      ],
      "execution_count": null,
      "outputs": [
        {
          "output_type": "stream",
          "text": [
            "[1, 5, 'v']\n"
          ],
          "name": "stdout"
        }
      ]
    },
    {
      "cell_type": "markdown",
      "metadata": {
        "id": "9FmmKUbqbkmI"
      },
      "source": [
        "### ลำดับที่อยู่ใน list มีความสำคัญ (ลำดับใน list เริ่มจาก 0,1,2)"
      ]
    },
    {
      "cell_type": "code",
      "metadata": {
        "colab": {
          "base_uri": "https://localhost:8080/"
        },
        "id": "PxnnRwAqbXQO",
        "outputId": "db73de94-ff29-4494-ea9f-20cdb6da9548"
      },
      "source": [
        "list_b[1]"
      ],
      "execution_count": null,
      "outputs": [
        {
          "output_type": "execute_result",
          "data": {
            "text/plain": [
              "5"
            ]
          },
          "metadata": {
            "tags": []
          },
          "execution_count": 27
        }
      ]
    },
    {
      "cell_type": "markdown",
      "metadata": {
        "id": "OOH_4nehcE_Q"
      },
      "source": [
        "### แบบที่ 2 "
      ]
    },
    {
      "cell_type": "code",
      "metadata": {
        "id": "xfaLuSY_bXKe",
        "colab": {
          "base_uri": "https://localhost:8080/"
        },
        "outputId": "6649e357-f763-4fb1-b506-fd33c90aebb8"
      },
      "source": [
        "list_c = list()\r\n",
        "print(list_c)"
      ],
      "execution_count": null,
      "outputs": [
        {
          "output_type": "stream",
          "text": [
            "[]\n"
          ],
          "name": "stdout"
        }
      ]
    },
    {
      "cell_type": "markdown",
      "metadata": {
        "id": "LUjBhYO9cIlu"
      },
      "source": [
        "## append() เพิ่มสมาชิกใน list "
      ]
    },
    {
      "cell_type": "code",
      "metadata": {
        "colab": {
          "base_uri": "https://localhost:8080/"
        },
        "id": "AXNWDvX1cToT",
        "outputId": "727e033e-d38c-4548-e647-f2f64e645425"
      },
      "source": [
        "list_b.append('u')\r\n",
        "print(list_b)\r\n",
        "#ทำการเพิ่มสมาชิก คือ u เข้าไปใน list_b โดยใช้คำสั่ง .append"
      ],
      "execution_count": null,
      "outputs": [
        {
          "output_type": "stream",
          "text": [
            "[1, 5, 'v', 'u']\n"
          ],
          "name": "stdout"
        }
      ]
    },
    {
      "cell_type": "code",
      "metadata": {
        "colab": {
          "base_uri": "https://localhost:8080/",
          "height": 35
        },
        "id": "l6Q665McccsJ",
        "outputId": "811f5438-18ce-44cb-d9f8-8e3eb340945c"
      },
      "source": [
        "list_b.pop() # ดึงสมาชิกสุดท้ายออกจาก list "
      ],
      "execution_count": null,
      "outputs": [
        {
          "output_type": "execute_result",
          "data": {
            "application/vnd.google.colaboratory.intrinsic+json": {
              "type": "string"
            },
            "text/plain": [
              "'u'"
            ]
          },
          "metadata": {
            "tags": []
          },
          "execution_count": 30
        }
      ]
    },
    {
      "cell_type": "code",
      "metadata": {
        "colab": {
          "base_uri": "https://localhost:8080/"
        },
        "id": "TkJYrOI2ccSr",
        "outputId": "586273cf-dc8c-4115-fd2b-83defd7eff54"
      },
      "source": [
        "list_b"
      ],
      "execution_count": null,
      "outputs": [
        {
          "output_type": "execute_result",
          "data": {
            "text/plain": [
              "[1, 5, 'v']"
            ]
          },
          "metadata": {
            "tags": []
          },
          "execution_count": 31
        }
      ]
    },
    {
      "cell_type": "code",
      "metadata": {
        "colab": {
          "base_uri": "https://localhost:8080/"
        },
        "id": "TNP6YwLNcxrP",
        "outputId": "cd8080e4-6846-4944-f147-f7e03e638272"
      },
      "source": [
        "list_b.append(list_b) # การใส่ list เข้าไปใน list \r\n",
        "list_b"
      ],
      "execution_count": null,
      "outputs": [
        {
          "output_type": "execute_result",
          "data": {
            "text/plain": [
              "[1, 5, 'v', [...]]"
            ]
          },
          "metadata": {
            "tags": []
          },
          "execution_count": 32
        }
      ]
    },
    {
      "cell_type": "markdown",
      "metadata": {
        "id": "XdpLqYVRdGNC"
      },
      "source": [
        "## String > list of characters"
      ]
    },
    {
      "cell_type": "code",
      "metadata": {
        "colab": {
          "base_uri": "https://localhost:8080/",
          "height": 35
        },
        "id": "tQFKx5OndU4X",
        "outputId": "678c3ab0-ea6a-47a6-ba7b-9951c1f572ec"
      },
      "source": [
        "t = 'python is easy'\r\n",
        "t"
      ],
      "execution_count": null,
      "outputs": [
        {
          "output_type": "execute_result",
          "data": {
            "application/vnd.google.colaboratory.intrinsic+json": {
              "type": "string"
            },
            "text/plain": [
              "'python is easy'"
            ]
          },
          "metadata": {
            "tags": []
          },
          "execution_count": 33
        }
      ]
    },
    {
      "cell_type": "code",
      "metadata": {
        "colab": {
          "base_uri": "https://localhost:8080/"
        },
        "id": "gYs5Sao4dOcE",
        "outputId": "10a30f5b-8f2f-4157-bb30-98c8d423b2f2"
      },
      "source": [
        "len(list_b) # len คือ คำสั่งตรวจสอบความยาวของ list (จำนวนสมาชิก)"
      ],
      "execution_count": null,
      "outputs": [
        {
          "output_type": "execute_result",
          "data": {
            "text/plain": [
              "4"
            ]
          },
          "metadata": {
            "tags": []
          },
          "execution_count": 34
        }
      ]
    },
    {
      "cell_type": "code",
      "metadata": {
        "colab": {
          "base_uri": "https://localhost:8080/"
        },
        "id": "flvtmG2fdOv3",
        "outputId": "681064ed-aec1-45c9-9905-641d55f88a78"
      },
      "source": [
        "len(t) # ตรวจสอบความยาวของตัวแปร t ที่เก็บคำว่า python is easy"
      ],
      "execution_count": null,
      "outputs": [
        {
          "output_type": "execute_result",
          "data": {
            "text/plain": [
              "14"
            ]
          },
          "metadata": {
            "tags": []
          },
          "execution_count": 35
        }
      ]
    },
    {
      "cell_type": "markdown",
      "metadata": {
        "id": "7voAfa3zeATM"
      },
      "source": [
        "## access a member of a list (list and string)\r\n",
        "## โดยการเริ่มนับ จะเริ่มนับจาก 0\r\n",
        "## 0 คือ สมาชิกตัวแรก , -1 คือ สมาชิกตัวสุดท้าย"
      ]
    },
    {
      "cell_type": "code",
      "metadata": {
        "colab": {
          "base_uri": "https://localhost:8080/",
          "height": 35
        },
        "id": "aJqRbZt6eTOm",
        "outputId": "bc263371-d7a8-486f-a1ed-205ae6f290dc"
      },
      "source": [
        "t[1]"
      ],
      "execution_count": null,
      "outputs": [
        {
          "output_type": "execute_result",
          "data": {
            "application/vnd.google.colaboratory.intrinsic+json": {
              "type": "string"
            },
            "text/plain": [
              "'y'"
            ]
          },
          "metadata": {
            "tags": []
          },
          "execution_count": 36
        }
      ]
    },
    {
      "cell_type": "code",
      "metadata": {
        "colab": {
          "base_uri": "https://localhost:8080/",
          "height": 35
        },
        "id": "HixcpXCYeTtd",
        "outputId": "b04ccc0a-ced9-42b9-e03b-a9bf5478adaa"
      },
      "source": [
        "t[-1]"
      ],
      "execution_count": null,
      "outputs": [
        {
          "output_type": "execute_result",
          "data": {
            "application/vnd.google.colaboratory.intrinsic+json": {
              "type": "string"
            },
            "text/plain": [
              "'y'"
            ]
          },
          "metadata": {
            "tags": []
          },
          "execution_count": 37
        }
      ]
    },
    {
      "cell_type": "code",
      "metadata": {
        "colab": {
          "base_uri": "https://localhost:8080/",
          "height": 35
        },
        "id": "MYk6Ih6feyIQ",
        "outputId": "1aace3e8-80f8-4c0a-c1c0-4361eae4f420"
      },
      "source": [
        "t[-3]"
      ],
      "execution_count": null,
      "outputs": [
        {
          "output_type": "execute_result",
          "data": {
            "application/vnd.google.colaboratory.intrinsic+json": {
              "type": "string"
            },
            "text/plain": [
              "'a'"
            ]
          },
          "metadata": {
            "tags": []
          },
          "execution_count": 38
        }
      ]
    },
    {
      "cell_type": "markdown",
      "metadata": {
        "id": "hxosTDQ4elvC"
      },
      "source": [
        "### ตัวที่อยู่ใน [..] เราเรียกว่า index (ตัวชี้)"
      ]
    },
    {
      "cell_type": "markdown",
      "metadata": {
        "id": "ecRNMRGufaNc"
      },
      "source": [
        "## List slicing คือ การตัด list \r\n",
        "### โดยใช้คำสั่ง [a:b] -> [a,b)"
      ]
    },
    {
      "cell_type": "code",
      "metadata": {
        "id": "iGdcIxNnZnaj"
      },
      "source": [
        "t = 'python is easy'"
      ],
      "execution_count": 1,
      "outputs": []
    },
    {
      "cell_type": "code",
      "metadata": {
        "colab": {
          "base_uri": "https://localhost:8080/"
        },
        "id": "n5Y7StH9eTrE",
        "outputId": "93d6c49d-df23-474c-d8d8-1cacfccfc647"
      },
      "source": [
        "print(t)\r\n",
        "print(t[7:9])\r\n",
        "# เอาตัวที่ 7 คือ i และไม่เอาตัวที่ 9 เพราะฉะนั้นจะได้ s "
      ],
      "execution_count": null,
      "outputs": [
        {
          "output_type": "stream",
          "text": [
            "python is easy\n",
            "is\n"
          ],
          "name": "stdout"
        }
      ]
    },
    {
      "cell_type": "markdown",
      "metadata": {
        "id": "DDOwDA7lhFZ0"
      },
      "source": [
        "ถ้าเว้นว่างหน้า : หมายความว่า หน้า : คือ เลข 0 เริ่มตั้งแต่ตัวเลข\r\n",
        "\r\n",
        "ถ้าเว้นว่างหลัง : หมายความว่า ไปจนถึงตัวสุดท้าย"
      ]
    },
    {
      "cell_type": "code",
      "metadata": {
        "colab": {
          "base_uri": "https://localhost:8080/"
        },
        "id": "FsWsT5S8eTmN",
        "outputId": "7e81a9c8-2d79-4d9d-91e0-51359d3d723b"
      },
      "source": [
        "print(t)\r\n",
        "print(t[:6])\r\n",
        "print(t[10:])\r\n",
        "print(t[-4:])\r\n",
        "print(t[:])"
      ],
      "execution_count": null,
      "outputs": [
        {
          "output_type": "stream",
          "text": [
            "python is easy\n",
            "python\n",
            "easy\n",
            "easy\n",
            "python is easy\n"
          ],
          "name": "stdout"
        }
      ]
    },
    {
      "cell_type": "code",
      "metadata": {
        "id": "xaw5P6Aqajr8",
        "outputId": "7b33ade3-7366-4756-aa67-fb936032f04f",
        "colab": {
          "base_uri": "https://localhost:8080/"
        }
      },
      "source": [
        "print(t[::2])"
      ],
      "execution_count": 2,
      "outputs": [
        {
          "output_type": "stream",
          "text": [
            "pto ses\n"
          ],
          "name": "stdout"
        }
      ]
    },
    {
      "cell_type": "code",
      "metadata": {
        "id": "uoJEGRlgbEsR",
        "outputId": "f92d0310-5656-4625-d213-4d1eb7ddf29e",
        "colab": {
          "base_uri": "https://localhost:8080/"
        }
      },
      "source": [
        "print(list(range(10)))\r\n",
        "print(list(range(10))[::2])"
      ],
      "execution_count": 4,
      "outputs": [
        {
          "output_type": "stream",
          "text": [
            "[0, 1, 2, 3, 4, 5, 6, 7, 8, 9]\n",
            "[0, 2, 4, 6, 8]\n"
          ],
          "name": "stdout"
        }
      ]
    },
    {
      "cell_type": "code",
      "metadata": {
        "id": "-tZHo0TLcBzC",
        "outputId": "1fc90b0d-02ef-44ef-e023-6f4fc4d740bb",
        "colab": {
          "base_uri": "https://localhost:8080/"
        }
      },
      "source": [
        "print(t[2::2])"
      ],
      "execution_count": 5,
      "outputs": [
        {
          "output_type": "stream",
          "text": [
            "to ses\n"
          ],
          "name": "stdout"
        }
      ]
    },
    {
      "cell_type": "markdown",
      "metadata": {
        "id": "9WiE7RYdh1rY"
      },
      "source": [
        "## การเอา list มาต่อกันได้ด้วย ตัว + "
      ]
    },
    {
      "cell_type": "code",
      "metadata": {
        "colab": {
          "base_uri": "https://localhost:8080/",
          "height": 35
        },
        "id": "FinWsVyniTTv",
        "outputId": "a4386dde-0caa-4354-fe12-ff7e6e1a3139"
      },
      "source": [
        "t + '???'"
      ],
      "execution_count": null,
      "outputs": [
        {
          "output_type": "execute_result",
          "data": {
            "application/vnd.google.colaboratory.intrinsic+json": {
              "type": "string"
            },
            "text/plain": [
              "'python is easy???'"
            ]
          },
          "metadata": {
            "tags": []
          },
          "execution_count": 41
        }
      ]
    },
    {
      "cell_type": "code",
      "metadata": {
        "id": "yVuRKbvJi0o6",
        "colab": {
          "base_uri": "https://localhost:8080/",
          "height": 167
        },
        "outputId": "8c665ee4-aa73-44da-8a22-8caae7489f4f"
      },
      "source": [
        "t + list_b # Error เพราะ ไม่สามารถเอา list ปกติมาต่อกับ string ได้"
      ],
      "execution_count": null,
      "outputs": [
        {
          "output_type": "error",
          "ename": "TypeError",
          "evalue": "ignored",
          "traceback": [
            "\u001b[0;31m---------------------------------------------------------------------------\u001b[0m",
            "\u001b[0;31mTypeError\u001b[0m                                 Traceback (most recent call last)",
            "\u001b[0;32m<ipython-input-42-aef5ffff975b>\u001b[0m in \u001b[0;36m<module>\u001b[0;34m()\u001b[0m\n\u001b[0;32m----> 1\u001b[0;31m \u001b[0mt\u001b[0m \u001b[0;34m+\u001b[0m \u001b[0mlist_b\u001b[0m \u001b[0;31m# Error เพราะ ไม่สามารถเอา list ปกติมาต่อกับ string ได้\u001b[0m\u001b[0;34m\u001b[0m\u001b[0;34m\u001b[0m\u001b[0m\n\u001b[0m",
            "\u001b[0;31mTypeError\u001b[0m: must be str, not list"
          ]
        }
      ]
    },
    {
      "cell_type": "code",
      "metadata": {
        "colab": {
          "base_uri": "https://localhost:8080/"
        },
        "id": "HnHCvBcnijsv",
        "outputId": "c60708b1-32ef-4758-f673-35ccc7a11995"
      },
      "source": [
        "list_b + list_b"
      ],
      "execution_count": null,
      "outputs": [
        {
          "output_type": "execute_result",
          "data": {
            "text/plain": [
              "[1, 5, 'v', [1, 5, 'v', [...]], 1, 5, 'v', [1, 5, 'v', [...]]]"
            ]
          },
          "metadata": {
            "tags": []
          },
          "execution_count": 43
        }
      ]
    },
    {
      "cell_type": "markdown",
      "metadata": {
        "id": "OByo0PXJi7Pr"
      },
      "source": [
        "## การแบ่ง string ตามสัญญาลักษณ์ที่กำหนด -> split sring "
      ]
    },
    {
      "cell_type": "code",
      "metadata": {
        "colab": {
          "base_uri": "https://localhost:8080/"
        },
        "id": "H-wkYQN0jQIN",
        "outputId": "c4ded043-e695-4af5-d7dc-e1cb9b4092af"
      },
      "source": [
        "t.split(' ') #การแบ่งด้วยช่องว่าง "
      ],
      "execution_count": null,
      "outputs": [
        {
          "output_type": "execute_result",
          "data": {
            "text/plain": [
              "['python', 'is', 'easy']"
            ]
          },
          "metadata": {
            "tags": []
          },
          "execution_count": 44
        }
      ]
    },
    {
      "cell_type": "code",
      "metadata": {
        "id": "Y1JPgGCcjQnw"
      },
      "source": [
        "time = '12:30:15'"
      ],
      "execution_count": null,
      "outputs": []
    },
    {
      "cell_type": "code",
      "metadata": {
        "colab": {
          "base_uri": "https://localhost:8080/"
        },
        "id": "oQZ1li-zjQge",
        "outputId": "d2862493-98ee-4105-dd25-3825e48046d9"
      },
      "source": [
        "time.split(':') #การแบ่งด้วยสัญลักษณ์ : "
      ],
      "execution_count": null,
      "outputs": [
        {
          "output_type": "execute_result",
          "data": {
            "text/plain": [
              "['12', '30', '15']"
            ]
          },
          "metadata": {
            "tags": []
          },
          "execution_count": 46
        }
      ]
    },
    {
      "cell_type": "code",
      "metadata": {
        "id": "PKkVXMu8j5bo",
        "colab": {
          "base_uri": "https://localhost:8080/"
        },
        "outputId": "b9b8e9e1-1e2d-4f28-f113-2d208a0cdc7b"
      },
      "source": [
        "t_sp = t.split(' ')\r\n",
        "print(t_sp)\r\n",
        "\r\n",
        "## วิธีรวมกลับ\r\n",
        "\r\n",
        "print(':'.join(t_sp))"
      ],
      "execution_count": null,
      "outputs": [
        {
          "output_type": "stream",
          "text": [
            "['python', 'is', 'easy']\n",
            "python:is:easy\n"
          ],
          "name": "stdout"
        }
      ]
    },
    {
      "cell_type": "markdown",
      "metadata": {
        "id": "eoWgkLAajvsW"
      },
      "source": [
        "## HW คำนวณเวลาเป็นวินาทีของเวลาต่อไปนี้โดยใช้คำสั่ง split() ช่วย (print ออกมาให้สวยงาม)\r\n",
        "\r\n",
        "12:30:15\r\n",
        "\r\n",
        "13:41:07\r\n",
        "\r\n",
        "12:53:15\r\n",
        "\r\n",
        "00:59:25\r\n",
        "\r\n",
        "11:11:11\r\n",
        "\r\n",
        "16:06:09"
      ]
    },
    {
      "cell_type": "code",
      "metadata": {
        "id": "hiH87C1zjyET"
      },
      "source": [
        "def sum_second(t) : #สร้างฟังก์ชัน sum_second ตามด้วย Input ของฟังก์ชัน คือ t\r\n",
        "      list_t = t.split(':') #ทำการแบ่งโดยให้ใช้สัญลักษณ์ : \r\n",
        "      hour = (int(list_t[0])*3600)  #ให้ t ที่ทำการแบ่งด้วย : มาอยู่ในรูปของ int แล้วเลือกให้ list แต่ละตัวมาคูณกับวินาที\r\n",
        "      minute = (int(list_t[1])*60)  #1 ชม. = 3600 วินาที , 1 นาที = 60 วินาที , list_t[2] เป็นวินาทีอยู่แล้ว\r\n",
        "      second = (int(list_t[2]))  \r\n",
        "      sum_second = f'{t} คำนวณเวลาได้เป็น {hour+minute+second} วินาที' # เพิ่ม f และใช้ {} เพื่อใส่ code ตามด้วย str 'วินาที'\r\n",
        "      print(sum_second)"
      ],
      "execution_count": null,
      "outputs": []
    },
    {
      "cell_type": "code",
      "metadata": {
        "id": "3RLaR8ZNm9Jp",
        "colab": {
          "base_uri": "https://localhost:8080/"
        },
        "outputId": "9e43727e-e80b-408d-d5b3-7ffdb1f411a2"
      },
      "source": [
        "sum_second('12:30:15')\r\n",
        "sum_second('13:41:07')\r\n",
        "sum_second('12:53:15')\r\n",
        "sum_second('00:59:25')\r\n",
        "sum_second('11:11:11')\r\n",
        "sum_second('16:06:09')"
      ],
      "execution_count": null,
      "outputs": [
        {
          "output_type": "stream",
          "text": [
            "12:30:15 คำนวณเวลาได้เป็น 45015 วินาที\n",
            "13:41:07 คำนวณเวลาได้เป็น 49267 วินาที\n",
            "12:53:15 คำนวณเวลาได้เป็น 46395 วินาที\n",
            "00:59:25 คำนวณเวลาได้เป็น 3565 วินาที\n",
            "11:11:11 คำนวณเวลาได้เป็น 40271 วินาที\n",
            "16:06:09 คำนวณเวลาได้เป็น 57969 วินาที\n"
          ],
          "name": "stdout"
        }
      ]
    },
    {
      "cell_type": "code",
      "metadata": {
        "id": "zRJ2vNPRq3ES"
      },
      "source": [
        "def sum_sec(t) :\r\n",
        "      list_t = t.split(':') #ทำการแบ่งโดยให้ใช้สัญลักษณ์ : \r\n",
        "      time = (int(list_t[0])*3600) + (int(list_t[1])*60) + (int(list_t[2]))  \r\n",
        "      sum_sec = f'{t} คำนวณเวลาได้เป็น {time} วินาที' # เพิ่ม f และใช้ {} เพื่อใส่ code ตามด้วย str 'วินาที'\r\n",
        "      print(sum_sec)"
      ],
      "execution_count": null,
      "outputs": []
    },
    {
      "cell_type": "code",
      "metadata": {
        "colab": {
          "base_uri": "https://localhost:8080/"
        },
        "id": "IWtj5kvewhc0",
        "outputId": "a41bdfd1-e482-4bee-b430-6ed7ef5a5c6e"
      },
      "source": [
        "sum_sec('12:30:15')\r\n",
        "sum_sec('13:41:07')\r\n",
        "sum_sec('12:53:15')\r\n",
        "sum_sec('00:59:25')\r\n",
        "sum_sec('11:11:11')\r\n",
        "sum_sec('16:06:09')"
      ],
      "execution_count": null,
      "outputs": [
        {
          "output_type": "stream",
          "text": [
            "12:30:15 คำนวณเวลาได้เป็น 45015 วินาที\n",
            "13:41:07 คำนวณเวลาได้เป็น 49267 วินาที\n",
            "12:53:15 คำนวณเวลาได้เป็น 46395 วินาที\n",
            "00:59:25 คำนวณเวลาได้เป็น 3565 วินาที\n",
            "11:11:11 คำนวณเวลาได้เป็น 40271 วินาที\n",
            "16:06:09 คำนวณเวลาได้เป็น 57969 วินาที\n"
          ],
          "name": "stdout"
        }
      ]
    },
    {
      "cell_type": "markdown",
      "metadata": {
        "id": "bU88rwHb25I4"
      },
      "source": [
        "# HW3\r\n",
        "\r\n",
        "ให้สร้าง list ของเวลา [12:30:15,13:41:07,12:53:15,00:59:25,11:11:11,16:06:09]\r\n",
        "\r\n",
        "แล้ววนลูปเรียกฟังก์ชันคำนวณเป็นวินาที \r\n",
        "\r\n",
        "*commit ว่า HW3\r\n",
        "\r\n",
        "หมดเขตเที่ยงคืนวันจันทร์"
      ]
    },
    {
      "cell_type": "code",
      "metadata": {
        "id": "TqXlEV6tAX_T"
      },
      "source": [
        "list_time= ['12:30:15','13:41:07','12:53:15','00:59:25','11:11:11','16:06:09']\r\n",
        "#สร้าง list ของเวลาขึ้นมา"
      ],
      "execution_count": null,
      "outputs": []
    },
    {
      "cell_type": "code",
      "metadata": {
        "id": "rvprTkGVEPfJ"
      },
      "source": [
        "def sum_sec(t) :\r\n",
        "    time_t = t.split(':')\r\n",
        "    sum_sec = (int(time_t[0])*3600) + (int(time_t[1])*60) + (int(time_t[2]))\r\n",
        "    return sum_sec"
      ],
      "execution_count": null,
      "outputs": []
    },
    {
      "cell_type": "code",
      "metadata": {
        "id": "zQlECswQEQzM",
        "colab": {
          "base_uri": "https://localhost:8080/"
        },
        "outputId": "2fe6a8ef-2e46-43cb-f544-113b86018296"
      },
      "source": [
        "for i in list_time : #วนลูป list_time จาก def sum_sec\r\n",
        "    print(f' {i} คำนวณเวลาได้เป็น {sum_sec(i)} วินาที')"
      ],
      "execution_count": null,
      "outputs": [
        {
          "output_type": "stream",
          "text": [
            " 12:30:15 คำนวณเวลาได้เป็น 45015 วินาที\n",
            " 13:41:07 คำนวณเวลาได้เป็น 49267 วินาที\n",
            " 12:53:15 คำนวณเวลาได้เป็น 46395 วินาที\n",
            " 00:59:25 คำนวณเวลาได้เป็น 3565 วินาที\n",
            " 11:11:11 คำนวณเวลาได้เป็น 40271 วินาที\n",
            " 16:06:09 คำนวณเวลาได้เป็น 57969 วินาที\n"
          ],
          "name": "stdout"
        }
      ]
    }
  ]
}