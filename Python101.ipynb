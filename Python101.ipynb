{
  "nbformat": 4,
  "nbformat_minor": 0,
  "metadata": {
    "colab": {
      "name": "Python101.ipynb",
      "provenance": [],
      "authorship_tag": "ABX9TyMO7DOxigcWR2gRnN0qqUh+",
      "include_colab_link": true
    },
    "kernelspec": {
      "name": "python3",
      "display_name": "Python 3"
    }
  },
  "cells": [
    {
      "cell_type": "markdown",
      "metadata": {
        "id": "view-in-github",
        "colab_type": "text"
      },
      "source": [
        "<a href=\"https://colab.research.google.com/github/Suchirapon/data_viz/blob/main/Python101.ipynb\" target=\"_parent\"><img src=\"https://colab.research.google.com/assets/colab-badge.svg\" alt=\"Open In Colab\"/></a>"
      ]
    },
    {
      "cell_type": "markdown",
      "metadata": {
        "id": "ZPV_8ExDMva_"
      },
      "source": [
        "# Variables\r\n",
        "\r\n",
        "ตัวแปร เก็บข้อมูล 1 ตัว เช่น ตัวเลข ตัวหนังสือ"
      ]
    },
    {
      "cell_type": "code",
      "metadata": {
        "colab": {
          "base_uri": "https://localhost:8080/"
        },
        "id": "ELFjLoC5NNmS",
        "outputId": "bf1de2a0-aa1a-4f6d-e3ba-7214c8af2462"
      },
      "source": [
        "3.14159265359"
      ],
      "execution_count": 10,
      "outputs": [
        {
          "output_type": "execute_result",
          "data": {
            "text/plain": [
              "3.14159265359"
            ]
          },
          "metadata": {
            "tags": []
          },
          "execution_count": 10
        }
      ]
    },
    {
      "cell_type": "markdown",
      "metadata": {
        "id": "304uDYM3NoE8"
      },
      "source": [
        "### หลักการตั้งชื่อตัวแปรเบื้องต้น\r\n",
        "\r\n",
        "\r\n",
        "1.   ตั้งให้สื่อ\r\n",
        "2.   ภาษาอังกฤษ\r\n",
        "3.   ใช้ตัวเลขได้ แต่ห้ามขึ้นต้นด้วยตัวเลข \r\n",
        "4.   หัวเว้นวรรค\r\n",
        "\r\n"
      ]
    },
    {
      "cell_type": "code",
      "metadata": {
        "id": "kzAUAFgcNff2"
      },
      "source": [
        "pi = 3.14159265359\r\n",
        "#ตั้งชื่อตัวแปรเพื่อมารับค่า  3.14159265359 โดยใช้ชื่อตัวแปร pi"
      ],
      "execution_count": 11,
      "outputs": []
    },
    {
      "cell_type": "code",
      "metadata": {
        "colab": {
          "base_uri": "https://localhost:8080/"
        },
        "id": "4_mX4TyOOgpi",
        "outputId": "ba84d4b3-7906-422c-9cd5-de831d8bfef0"
      },
      "source": [
        "pi"
      ],
      "execution_count": 12,
      "outputs": [
        {
          "output_type": "execute_result",
          "data": {
            "text/plain": [
              "3.14159265359"
            ]
          },
          "metadata": {
            "tags": []
          },
          "execution_count": 12
        }
      ]
    },
    {
      "cell_type": "markdown",
      "metadata": {
        "id": "f-5diD4MOrY4"
      },
      "source": [
        "# ชนิดตัวแปร"
      ]
    },
    {
      "cell_type": "markdown",
      "metadata": {
        "id": "Z4PENkZ5M2Ie"
      },
      "source": [
        "## int : จำนวนเต็ม"
      ]
    },
    {
      "cell_type": "code",
      "metadata": {
        "id": "3JB7Bv-VMpkL"
      },
      "source": [
        "a = 10 "
      ],
      "execution_count": 13,
      "outputs": []
    },
    {
      "cell_type": "code",
      "metadata": {
        "colab": {
          "base_uri": "https://localhost:8080/"
        },
        "id": "W25tBhqsNCs_",
        "outputId": "0ba0e1bb-5e1e-454c-dcf2-a131a6539086"
      },
      "source": [
        "print(a)"
      ],
      "execution_count": 14,
      "outputs": [
        {
          "output_type": "stream",
          "text": [
            "10\n"
          ],
          "name": "stdout"
        }
      ]
    },
    {
      "cell_type": "markdown",
      "metadata": {
        "id": "OIGFJ61fO4ux"
      },
      "source": [
        "## float : จำนวนจริงที่เป็นทศนิยม"
      ]
    },
    {
      "cell_type": "code",
      "metadata": {
        "colab": {
          "base_uri": "https://localhost:8080/"
        },
        "id": "Oa0M-P3hPAQ4",
        "outputId": "0fa8e1c8-5894-4c41-ad0c-92dc666a77fb"
      },
      "source": [
        "b = 10.\r\n",
        "print(b)"
      ],
      "execution_count": 15,
      "outputs": [
        {
          "output_type": "stream",
          "text": [
            "10.0\n"
          ],
          "name": "stdout"
        }
      ]
    },
    {
      "cell_type": "markdown",
      "metadata": {
        "id": "5qP9SfikPSQE"
      },
      "source": [
        "## char : ข้อความหรือตัวอักษร\r\n",
        "\r\n",
        "-> # hashtag, sharp ใช้สำหรับคอมเม้น"
      ]
    },
    {
      "cell_type": "code",
      "metadata": {
        "colab": {
          "base_uri": "https://localhost:8080/"
        },
        "id": "5aloIN9mPAKx",
        "outputId": "0e1acacc-c242-46dc-8031-93c1cb63d136"
      },
      "source": [
        "c = 'PANG' #เราจะบอกว่าตัวแปรเป็นตัวอักษรหรือข้อความโดยการใช้ single quote '....' หรือ double quot \"...\" ล้อมรอบ\r\n",
        "print(c)"
      ],
      "execution_count": 16,
      "outputs": [
        {
          "output_type": "stream",
          "text": [
            "PANG\n"
          ],
          "name": "stdout"
        }
      ]
    },
    {
      "cell_type": "code",
      "metadata": {
        "colab": {
          "base_uri": "https://localhost:8080/"
        },
        "id": "sAr8JJh6Q8ao",
        "outputId": "9c0b8043-3acc-40cf-d3e0-8d91ab1c22c5"
      },
      "source": [
        "d = '10'\r\n",
        "print(d)"
      ],
      "execution_count": 17,
      "outputs": [
        {
          "output_type": "stream",
          "text": [
            "10\n"
          ],
          "name": "stdout"
        }
      ]
    },
    {
      "cell_type": "code",
      "metadata": {
        "colab": {
          "base_uri": "https://localhost:8080/",
          "height": 167
        },
        "id": "c-ABHeHKREma",
        "outputId": "b2608d41-7afc-44d6-e201-7f983d2b26c7"
      },
      "source": [
        "d + 1 #error ตัวเลขที่เป็น string ไม่สามารถเอามา + - x / ได้"
      ],
      "execution_count": 18,
      "outputs": [
        {
          "output_type": "error",
          "ename": "TypeError",
          "evalue": "ignored",
          "traceback": [
            "\u001b[0;31m---------------------------------------------------------------------------\u001b[0m",
            "\u001b[0;31mTypeError\u001b[0m                                 Traceback (most recent call last)",
            "\u001b[0;32m<ipython-input-18-c67bb80a5f46>\u001b[0m in \u001b[0;36m<module>\u001b[0;34m()\u001b[0m\n\u001b[0;32m----> 1\u001b[0;31m \u001b[0md\u001b[0m \u001b[0;34m+\u001b[0m \u001b[0;36m1\u001b[0m \u001b[0;31m#error ตัวเลขที่เป็น string ไม่สามารถเอามา + - x / ได้\u001b[0m\u001b[0;34m\u001b[0m\u001b[0;34m\u001b[0m\u001b[0m\n\u001b[0m",
            "\u001b[0;31mTypeError\u001b[0m: must be str, not int"
          ]
        }
      ]
    },
    {
      "cell_type": "markdown",
      "metadata": {
        "id": "N0N8zxlkPiCh"
      },
      "source": [
        "## variable casting การเปลี่ยนชนิดตัวแปร\r\n",
        "\r\n",
        " การเปลี่ยน char เป็น int"
      ]
    },
    {
      "cell_type": "code",
      "metadata": {
        "colab": {
          "base_uri": "https://localhost:8080/"
        },
        "id": "ZglDp96kPACo",
        "outputId": "98899a41-5e8f-48b1-8072-26ee5abc431b"
      },
      "source": [
        "ch = 10\r\n",
        "ch"
      ],
      "execution_count": 19,
      "outputs": [
        {
          "output_type": "execute_result",
          "data": {
            "text/plain": [
              "10"
            ]
          },
          "metadata": {
            "tags": []
          },
          "execution_count": 19
        }
      ]
    },
    {
      "cell_type": "code",
      "metadata": {
        "colab": {
          "base_uri": "https://localhost:8080/"
        },
        "id": "WFtxdRuORhu8",
        "outputId": "e4577d8a-65e8-4d93-8508-c2bce4ac7f3d"
      },
      "source": [
        "int(ch)"
      ],
      "execution_count": 20,
      "outputs": [
        {
          "output_type": "execute_result",
          "data": {
            "text/plain": [
              "10"
            ]
          },
          "metadata": {
            "tags": []
          },
          "execution_count": 20
        }
      ]
    },
    {
      "cell_type": "code",
      "metadata": {
        "colab": {
          "base_uri": "https://localhost:8080/"
        },
        "id": "Pr_eLW2aR8Yo",
        "outputId": "39713157-248a-45bc-b2c1-9901da67f45b"
      },
      "source": [
        "int(d) + 1"
      ],
      "execution_count": 21,
      "outputs": [
        {
          "output_type": "execute_result",
          "data": {
            "text/plain": [
              "11"
            ]
          },
          "metadata": {
            "tags": []
          },
          "execution_count": 21
        }
      ]
    },
    {
      "cell_type": "markdown",
      "metadata": {
        "id": "ooMIjnGfSHRh"
      },
      "source": [
        "## เปลี่ยน int เป็น float"
      ]
    },
    {
      "cell_type": "code",
      "metadata": {
        "colab": {
          "base_uri": "https://localhost:8080/"
        },
        "id": "Yi3cdkZnSHE1",
        "outputId": "2de1fe9a-c296-493f-ffa4-6066129d6f24"
      },
      "source": [
        "print(a)\r\n",
        "print(float(a))\r\n",
        "print(str(a))"
      ],
      "execution_count": 22,
      "outputs": [
        {
          "output_type": "stream",
          "text": [
            "10\n",
            "10.0\n",
            "10\n"
          ],
          "name": "stdout"
        }
      ]
    },
    {
      "cell_type": "markdown",
      "metadata": {
        "id": "0_W5Gwu0Sah0"
      },
      "source": [
        "## Operation การเอาตัวแปรสองตัวมาบวก ลบ คูณ หาร\r\n",
        "## Operator +,-,*,/,%"
      ]
    },
    {
      "cell_type": "code",
      "metadata": {
        "colab": {
          "base_uri": "https://localhost:8080/"
        },
        "id": "0T2kP-vWSHAk",
        "outputId": "f8204f25-4e6d-4dd8-c572-2a1daf761eff"
      },
      "source": [
        "a+b"
      ],
      "execution_count": 23,
      "outputs": [
        {
          "output_type": "execute_result",
          "data": {
            "text/plain": [
              "20.0"
            ]
          },
          "metadata": {
            "tags": []
          },
          "execution_count": 23
        }
      ]
    },
    {
      "cell_type": "code",
      "metadata": {
        "colab": {
          "base_uri": "https://localhost:8080/"
        },
        "id": "KtAYnONiSG61",
        "outputId": "b56ddc02-f73c-4d15-aacd-79116fd42da0"
      },
      "source": [
        "ab = a+b\r\n",
        "print(ab)"
      ],
      "execution_count": 24,
      "outputs": [
        {
          "output_type": "stream",
          "text": [
            "20.0\n"
          ],
          "name": "stdout"
        }
      ]
    },
    {
      "cell_type": "markdown",
      "metadata": {
        "id": "hPE4wCgVS-3Z"
      },
      "source": [
        "### % คือ เครื่องหมาย modulo การหารเอาเศษ"
      ]
    },
    {
      "cell_type": "code",
      "metadata": {
        "colab": {
          "base_uri": "https://localhost:8080/"
        },
        "id": "0_Hl-vvfSG0Y",
        "outputId": "6f8cb914-5d61-4dc2-c9a7-dc3d1b0b7e06"
      },
      "source": [
        "5%3"
      ],
      "execution_count": 25,
      "outputs": [
        {
          "output_type": "execute_result",
          "data": {
            "text/plain": [
              "2"
            ]
          },
          "metadata": {
            "tags": []
          },
          "execution_count": 25
        }
      ]
    },
    {
      "cell_type": "code",
      "metadata": {
        "colab": {
          "base_uri": "https://localhost:8080/"
        },
        "id": "lJee3lGrTHSu",
        "outputId": "d634d0af-099c-4cee-88ee-0cef16abc9ac"
      },
      "source": [
        "7%3"
      ],
      "execution_count": 26,
      "outputs": [
        {
          "output_type": "execute_result",
          "data": {
            "text/plain": [
              "1"
            ]
          },
          "metadata": {
            "tags": []
          },
          "execution_count": 26
        }
      ]
    },
    {
      "cell_type": "markdown",
      "metadata": {
        "id": "ThTb9wstTaqj"
      },
      "source": [
        "## คำสั่ง print แบบพิเศษ (การ format string)"
      ]
    },
    {
      "cell_type": "code",
      "metadata": {
        "colab": {
          "base_uri": "https://localhost:8080/"
        },
        "id": "V3mBk9uITP4n",
        "outputId": "4e9dd4f8-0cf3-4ec3-dac2-ee4301d42286"
      },
      "source": [
        "print('ตัวแปร') # สิงที่อยู่ในวงเล็บคือ ตัวแปร และ string"
      ],
      "execution_count": 27,
      "outputs": [
        {
          "output_type": "stream",
          "text": [
            "ตัวแปร\n"
          ],
          "name": "stdout"
        }
      ]
    },
    {
      "cell_type": "code",
      "metadata": {
        "colab": {
          "base_uri": "https://localhost:8080/"
        },
        "id": "ORlgaPvqTkkD",
        "outputId": "76d241ef-028f-44b9-ffcc-8ee8bbbe9b7b"
      },
      "source": [
        "print(f'% คือ การหารเอาเศษ เช่น 7%3 = {7%3}')\r\n",
        "# เพิ่ม f หน้า 'string' และใช้ {} เพื่อใส่ code"
      ],
      "execution_count": 28,
      "outputs": [
        {
          "output_type": "stream",
          "text": [
            "% คือ การหารเอาเศษ เช่น 7%3 = 1\n"
          ],
          "name": "stdout"
        }
      ]
    },
    {
      "cell_type": "code",
      "metadata": {
        "colab": {
          "base_uri": "https://localhost:8080/"
        },
        "id": "J6ZThfzkTkhL",
        "outputId": "a938acaf-254d-4bf3-eeca-c1bfa111b16c"
      },
      "source": [
        "print(f'% คือ การหารเอาเศษ เช่น 7%3 = {7%3} \\n แต่ / คือ การหารปกติ เช่น 7/3 = {7/3}' ) # \\n คือ การขึ้นบรรทัดใหม่"
      ],
      "execution_count": 29,
      "outputs": [
        {
          "output_type": "stream",
          "text": [
            "% คือ การหารเอาเศษ เช่น 7%3 = 1 \n",
            " แต่ / คือ การหารปกติ เช่น 7/3 = 2.3333333333333335\n"
          ],
          "name": "stdout"
        }
      ]
    },
    {
      "cell_type": "code",
      "metadata": {
        "id": "xlufPxprTkVr",
        "outputId": "4266336d-aeeb-4bce-ade2-c5654ddf938b",
        "colab": {
          "base_uri": "https://localhost:8080/"
        }
      },
      "source": [
        "print(f'% คือ การหารเอาเศษ เช่น 7%3 = {7%3} \\n แต่ / คือ การหารปกติ เช่น 7/3 = {7/3}'  ) "
      ],
      "execution_count": 30,
      "outputs": [
        {
          "output_type": "stream",
          "text": [
            "% คือ การหารเอาเศษ เช่น 7%3 = 1 \n",
            " แต่ / คือ การหารปกติ เช่น 7/3 = 2.3333333333333335\n"
          ],
          "name": "stdout"
        }
      ]
    },
    {
      "cell_type": "markdown",
      "metadata": {
        "id": "qBt7aWXQXLOO"
      },
      "source": [
        "## โจทย์ เพิ่มอีกบรรทัด แสดงวิธีการหารเอาส่วน"
      ]
    },
    {
      "cell_type": "code",
      "metadata": {
        "colab": {
          "base_uri": "https://localhost:8080/"
        },
        "id": "E7HR93VSTkSU",
        "outputId": "e2a56d60-4199-48e5-f1ec-109afbdaa2e3"
      },
      "source": [
        "print(f'% คือ การหารเอาเศษ เช่น 7%3 = {7%3} \\\\\r\n",
        "    \\n แต่ / คือ การหารปกติ เช่น 7/3 = {7/3} \\\\\r\n",
        "    \\n และ การหารเอาส่วน คือ การใช้ // เช่น 7//3 = {7//3} \\\\\r\n",
        "    \\n หรือ ใช้ int() เพื่อหารเอาส่วน เช่น int(7//3) = {int(7//3)}'  ) \r\n",
        "# การเว้นวรรค \\\\ คือ  ใช้ในการตัด code แต่ คอมจะไม่เห็น"
      ],
      "execution_count": 31,
      "outputs": [
        {
          "output_type": "stream",
          "text": [
            "% คือ การหารเอาเศษ เช่น 7%3 = 1 \\    \n",
            " แต่ / คือ การหารปกติ เช่น 7/3 = 2.3333333333333335 \\    \n",
            " และ การหารเอาส่วน คือ การใช้ // เช่น 7//3 = 2 \\    \n",
            " หรือ ใช้ int() เพื่อหารเอาส่วน เช่น int(7//3) = 2\n"
          ],
          "name": "stdout"
        }
      ]
    },
    {
      "cell_type": "code",
      "metadata": {
        "colab": {
          "base_uri": "https://localhost:8080/"
        },
        "id": "dM3XVkhVTkOF",
        "outputId": "22e4ba89-3f09-414c-e490-f376ebca7b20"
      },
      "source": [
        "z = 7/3\r\n",
        "z"
      ],
      "execution_count": 32,
      "outputs": [
        {
          "output_type": "execute_result",
          "data": {
            "text/plain": [
              "2.3333333333333335"
            ]
          },
          "metadata": {
            "tags": []
          },
          "execution_count": 32
        }
      ]
    },
    {
      "cell_type": "code",
      "metadata": {
        "colab": {
          "base_uri": "https://localhost:8080/"
        },
        "id": "wlmphbWuZNMn",
        "outputId": "b01747e7-cbb6-4f35-c841-18e2dd446bb5"
      },
      "source": [
        "print(z)\r\n",
        "\r\n",
        "print(int(z))"
      ],
      "execution_count": 33,
      "outputs": [
        {
          "output_type": "stream",
          "text": [
            "2.3333333333333335\n",
            "2\n"
          ],
          "name": "stdout"
        }
      ]
    },
    {
      "cell_type": "markdown",
      "metadata": {
        "id": "oMjk-iB4jixN"
      },
      "source": [
        "# Data Structure (โครงสร้างข้อมูล)"
      ]
    },
    {
      "cell_type": "markdown",
      "metadata": {
        "id": "c8rFT-2yTQUE"
      },
      "source": [
        "## List คือ การเอาตัวแปรหลายๆตัวมาเรียงต่อกัน\r\n",
        "\r\n",
        "list สามารถสร้างได้ 2 แบบ ดังนี้"
      ]
    },
    {
      "cell_type": "markdown",
      "metadata": {
        "id": "Ip3CuAwNbMVI"
      },
      "source": [
        "### แบบที่ 1 > square brackets"
      ]
    },
    {
      "cell_type": "code",
      "metadata": {
        "id": "Da0eH79DbW1y",
        "outputId": "dbc58365-ab9d-4e38-c2de-d1c067f43ef6",
        "colab": {
          "base_uri": "https://localhost:8080/"
        }
      },
      "source": [
        "list_a = []\r\n",
        "print(list_a)\r\n",
        "# สร้าง list ว่าง โดยให้อยู่ในชื่อตัวแปร list_a"
      ],
      "execution_count": 34,
      "outputs": [
        {
          "output_type": "stream",
          "text": [
            "[]\n"
          ],
          "name": "stdout"
        }
      ]
    },
    {
      "cell_type": "code",
      "metadata": {
        "colab": {
          "base_uri": "https://localhost:8080/"
        },
        "id": "ZW-jPjbebXT9",
        "outputId": "feab38ba-abe1-4a0c-cc1f-29cafe63e20b"
      },
      "source": [
        "list_b = [1,5,'v']\r\n",
        "print(list_b)\r\n",
        "# สร้าง list เก็บ 1 5 v โดยให้อยู่ในชื่อตัวแปร list_b"
      ],
      "execution_count": 35,
      "outputs": [
        {
          "output_type": "stream",
          "text": [
            "[1, 5, 'v']\n"
          ],
          "name": "stdout"
        }
      ]
    },
    {
      "cell_type": "markdown",
      "metadata": {
        "id": "9FmmKUbqbkmI"
      },
      "source": [
        "### ลำดับที่อยู่ใน list มีความสำคัญ (ลำดับใน list เริ่มจาก 0,1,2)"
      ]
    },
    {
      "cell_type": "code",
      "metadata": {
        "colab": {
          "base_uri": "https://localhost:8080/"
        },
        "id": "PxnnRwAqbXQO",
        "outputId": "806cd456-576d-42c4-ee4c-ee20bed0966d"
      },
      "source": [
        "list_b[1]"
      ],
      "execution_count": 36,
      "outputs": [
        {
          "output_type": "execute_result",
          "data": {
            "text/plain": [
              "5"
            ]
          },
          "metadata": {
            "tags": []
          },
          "execution_count": 36
        }
      ]
    },
    {
      "cell_type": "markdown",
      "metadata": {
        "id": "OOH_4nehcE_Q"
      },
      "source": [
        "### แบบที่ 2 "
      ]
    },
    {
      "cell_type": "code",
      "metadata": {
        "id": "xfaLuSY_bXKe",
        "outputId": "e3b4432e-f77f-4995-9466-10637e893c9d",
        "colab": {
          "base_uri": "https://localhost:8080/"
        }
      },
      "source": [
        "list_c = list()\r\n",
        "print(list_c)"
      ],
      "execution_count": 37,
      "outputs": [
        {
          "output_type": "stream",
          "text": [
            "[]\n"
          ],
          "name": "stdout"
        }
      ]
    },
    {
      "cell_type": "markdown",
      "metadata": {
        "id": "LUjBhYO9cIlu"
      },
      "source": [
        "## append() เพิ่มสมาชิกใน list "
      ]
    },
    {
      "cell_type": "code",
      "metadata": {
        "colab": {
          "base_uri": "https://localhost:8080/"
        },
        "id": "AXNWDvX1cToT",
        "outputId": "35a8e167-0473-478a-9b76-5f6ff280760b"
      },
      "source": [
        "list_b.append('u')\r\n",
        "print(list_b)\r\n",
        "#ทำการเพิ่มสมาชิก คือ u เข้าไปใน list_b โดยใช้คำสั่ง .append"
      ],
      "execution_count": 38,
      "outputs": [
        {
          "output_type": "stream",
          "text": [
            "[1, 5, 'v', 'u']\n"
          ],
          "name": "stdout"
        }
      ]
    },
    {
      "cell_type": "code",
      "metadata": {
        "colab": {
          "base_uri": "https://localhost:8080/",
          "height": 35
        },
        "id": "l6Q665McccsJ",
        "outputId": "0c6e08f8-17ee-47b9-fe4a-caf6d35bec53"
      },
      "source": [
        "list_b.pop() # ดึงสมาชิกสุดท้ายออกจาก list "
      ],
      "execution_count": 39,
      "outputs": [
        {
          "output_type": "execute_result",
          "data": {
            "application/vnd.google.colaboratory.intrinsic+json": {
              "type": "string"
            },
            "text/plain": [
              "'u'"
            ]
          },
          "metadata": {
            "tags": []
          },
          "execution_count": 39
        }
      ]
    },
    {
      "cell_type": "code",
      "metadata": {
        "colab": {
          "base_uri": "https://localhost:8080/"
        },
        "id": "TkJYrOI2ccSr",
        "outputId": "daf99bc5-4747-4414-a81d-3adc9929aabb"
      },
      "source": [
        "list_b"
      ],
      "execution_count": 40,
      "outputs": [
        {
          "output_type": "execute_result",
          "data": {
            "text/plain": [
              "[1, 5, 'v']"
            ]
          },
          "metadata": {
            "tags": []
          },
          "execution_count": 40
        }
      ]
    },
    {
      "cell_type": "code",
      "metadata": {
        "colab": {
          "base_uri": "https://localhost:8080/"
        },
        "id": "TNP6YwLNcxrP",
        "outputId": "55a5d481-5fd2-44e2-c922-ab17fb4ee3de"
      },
      "source": [
        "list_b.append(list_b) # การใส่ list เข้าไปใน list \r\n",
        "list_b"
      ],
      "execution_count": 41,
      "outputs": [
        {
          "output_type": "execute_result",
          "data": {
            "text/plain": [
              "[1, 5, 'v', [...]]"
            ]
          },
          "metadata": {
            "tags": []
          },
          "execution_count": 41
        }
      ]
    },
    {
      "cell_type": "markdown",
      "metadata": {
        "id": "XdpLqYVRdGNC"
      },
      "source": [
        "## String > list of characters"
      ]
    },
    {
      "cell_type": "code",
      "metadata": {
        "colab": {
          "base_uri": "https://localhost:8080/",
          "height": 35
        },
        "id": "tQFKx5OndU4X",
        "outputId": "928a7409-4b28-4ed1-ccb6-78b03d655023"
      },
      "source": [
        "t = 'python is easy'\r\n",
        "t"
      ],
      "execution_count": 42,
      "outputs": [
        {
          "output_type": "execute_result",
          "data": {
            "application/vnd.google.colaboratory.intrinsic+json": {
              "type": "string"
            },
            "text/plain": [
              "'python is easy'"
            ]
          },
          "metadata": {
            "tags": []
          },
          "execution_count": 42
        }
      ]
    },
    {
      "cell_type": "code",
      "metadata": {
        "colab": {
          "base_uri": "https://localhost:8080/"
        },
        "id": "gYs5Sao4dOcE",
        "outputId": "ce1e7d3f-e2eb-4102-d0ff-ebd4ec1186ea"
      },
      "source": [
        "len(list_b) # len คือ คำสั่งตรวจสอบความยาวของ list (จำนวนสมาชิก)"
      ],
      "execution_count": 43,
      "outputs": [
        {
          "output_type": "execute_result",
          "data": {
            "text/plain": [
              "4"
            ]
          },
          "metadata": {
            "tags": []
          },
          "execution_count": 43
        }
      ]
    },
    {
      "cell_type": "code",
      "metadata": {
        "colab": {
          "base_uri": "https://localhost:8080/"
        },
        "id": "flvtmG2fdOv3",
        "outputId": "93a87fcc-fdec-4f58-ffb9-d10905daec84"
      },
      "source": [
        "len(t) # ตรวจสอบความยาวของตัวแปร t ที่เก็บคำว่า python is easy"
      ],
      "execution_count": 44,
      "outputs": [
        {
          "output_type": "execute_result",
          "data": {
            "text/plain": [
              "14"
            ]
          },
          "metadata": {
            "tags": []
          },
          "execution_count": 44
        }
      ]
    },
    {
      "cell_type": "markdown",
      "metadata": {
        "id": "7voAfa3zeATM"
      },
      "source": [
        "## access a member of a list (list and string)\r\n",
        "## โดยการเริ่มนับ จะเริ่มนับจาก 0\r\n",
        "## 0 คือ สมาชิกตัวแรก , -1 คือ สมาชิกตัวสุดท้าย"
      ]
    },
    {
      "cell_type": "code",
      "metadata": {
        "colab": {
          "base_uri": "https://localhost:8080/",
          "height": 35
        },
        "id": "aJqRbZt6eTOm",
        "outputId": "fca2d38b-2615-45a7-938f-df7ab0973f1b"
      },
      "source": [
        "t[1]"
      ],
      "execution_count": 45,
      "outputs": [
        {
          "output_type": "execute_result",
          "data": {
            "application/vnd.google.colaboratory.intrinsic+json": {
              "type": "string"
            },
            "text/plain": [
              "'y'"
            ]
          },
          "metadata": {
            "tags": []
          },
          "execution_count": 45
        }
      ]
    },
    {
      "cell_type": "code",
      "metadata": {
        "colab": {
          "base_uri": "https://localhost:8080/",
          "height": 35
        },
        "id": "HixcpXCYeTtd",
        "outputId": "c3c6e03a-e46c-47e9-bf0c-6b61fb2d0a70"
      },
      "source": [
        "t[-1]"
      ],
      "execution_count": 46,
      "outputs": [
        {
          "output_type": "execute_result",
          "data": {
            "application/vnd.google.colaboratory.intrinsic+json": {
              "type": "string"
            },
            "text/plain": [
              "'y'"
            ]
          },
          "metadata": {
            "tags": []
          },
          "execution_count": 46
        }
      ]
    },
    {
      "cell_type": "code",
      "metadata": {
        "colab": {
          "base_uri": "https://localhost:8080/",
          "height": 35
        },
        "id": "MYk6Ih6feyIQ",
        "outputId": "36ec3a7b-3061-4299-9f5f-aff46de1f8b1"
      },
      "source": [
        "t[-3]"
      ],
      "execution_count": 47,
      "outputs": [
        {
          "output_type": "execute_result",
          "data": {
            "application/vnd.google.colaboratory.intrinsic+json": {
              "type": "string"
            },
            "text/plain": [
              "'a'"
            ]
          },
          "metadata": {
            "tags": []
          },
          "execution_count": 47
        }
      ]
    },
    {
      "cell_type": "markdown",
      "metadata": {
        "id": "hxosTDQ4elvC"
      },
      "source": [
        "### ตัวที่อยู่ใน [..] เราเรียกว่า index (ตัวชี้)"
      ]
    },
    {
      "cell_type": "markdown",
      "metadata": {
        "id": "ecRNMRGufaNc"
      },
      "source": [
        "## List slicing คือ การตัด list \r\n",
        "### โดยใช้คำสั่ง [a:b] -> [a,b)"
      ]
    },
    {
      "cell_type": "code",
      "metadata": {
        "colab": {
          "base_uri": "https://localhost:8080/"
        },
        "id": "n5Y7StH9eTrE",
        "outputId": "d29eb374-3878-474d-86ad-b24a5d9e3c2f"
      },
      "source": [
        "print(t)\r\n",
        "print(t[7:9])\r\n",
        "# เอาตัวที่ 7 คือ i และไม่เอาตัวที่ 9 เพราะฉะนั้นจะได้ s "
      ],
      "execution_count": 48,
      "outputs": [
        {
          "output_type": "stream",
          "text": [
            "python is easy\n",
            "is\n"
          ],
          "name": "stdout"
        }
      ]
    },
    {
      "cell_type": "markdown",
      "metadata": {
        "id": "DDOwDA7lhFZ0"
      },
      "source": [
        "ถ้าเว้นว่างหน้า : หมายความว่า หน้า : คือ เลข 0 เริ่มตั้งแต่ตัวเลข\r\n",
        "\r\n",
        "ถ้าเว้นว่างหลัง : หมายความว่า ไปจนถึงตัวสุดท้าย"
      ]
    },
    {
      "cell_type": "code",
      "metadata": {
        "colab": {
          "base_uri": "https://localhost:8080/"
        },
        "id": "FsWsT5S8eTmN",
        "outputId": "aa2ba182-c994-497b-e820-44fa573771c5"
      },
      "source": [
        "print(t)\r\n",
        "print(t[:6])\r\n",
        "print(t[10:])\r\n",
        "print(t[-4:])\r\n",
        "print(t[:])"
      ],
      "execution_count": 49,
      "outputs": [
        {
          "output_type": "stream",
          "text": [
            "python is easy\n",
            "python\n",
            "easy\n",
            "easy\n",
            "python is easy\n"
          ],
          "name": "stdout"
        }
      ]
    },
    {
      "cell_type": "markdown",
      "metadata": {
        "id": "9WiE7RYdh1rY"
      },
      "source": [
        "## การเอา list มาต่อกันได้ด้วย ตัว + "
      ]
    },
    {
      "cell_type": "code",
      "metadata": {
        "colab": {
          "base_uri": "https://localhost:8080/",
          "height": 35
        },
        "id": "FinWsVyniTTv",
        "outputId": "561dc14a-ec72-445e-d10c-e18682aa87d3"
      },
      "source": [
        "t + '???'"
      ],
      "execution_count": 50,
      "outputs": [
        {
          "output_type": "execute_result",
          "data": {
            "application/vnd.google.colaboratory.intrinsic+json": {
              "type": "string"
            },
            "text/plain": [
              "'python is easy???'"
            ]
          },
          "metadata": {
            "tags": []
          },
          "execution_count": 50
        }
      ]
    },
    {
      "cell_type": "code",
      "metadata": {
        "id": "yVuRKbvJi0o6",
        "outputId": "a4e50757-7a4d-4ec3-a3c4-01bf7ce15391",
        "colab": {
          "base_uri": "https://localhost:8080/",
          "height": 167
        }
      },
      "source": [
        "t + list_b # Error เพราะ ไม่สามารถเอา list ปกติมาต่อกับ string ได้"
      ],
      "execution_count": 51,
      "outputs": [
        {
          "output_type": "error",
          "ename": "TypeError",
          "evalue": "ignored",
          "traceback": [
            "\u001b[0;31m---------------------------------------------------------------------------\u001b[0m",
            "\u001b[0;31mTypeError\u001b[0m                                 Traceback (most recent call last)",
            "\u001b[0;32m<ipython-input-51-595774a47886>\u001b[0m in \u001b[0;36m<module>\u001b[0;34m()\u001b[0m\n\u001b[0;32m----> 1\u001b[0;31m \u001b[0mt\u001b[0m \u001b[0;34m+\u001b[0m \u001b[0mlist_b\u001b[0m\u001b[0;34m\u001b[0m\u001b[0;34m\u001b[0m\u001b[0m\n\u001b[0m",
            "\u001b[0;31mTypeError\u001b[0m: must be str, not list"
          ]
        }
      ]
    },
    {
      "cell_type": "code",
      "metadata": {
        "colab": {
          "base_uri": "https://localhost:8080/"
        },
        "id": "HnHCvBcnijsv",
        "outputId": "21628e77-56c5-4958-9937-2782057f196e"
      },
      "source": [
        "list_b + list_b"
      ],
      "execution_count": 52,
      "outputs": [
        {
          "output_type": "execute_result",
          "data": {
            "text/plain": [
              "[1, 5, 'v', [1, 5, 'v', [...]], 1, 5, 'v', [1, 5, 'v', [...]]]"
            ]
          },
          "metadata": {
            "tags": []
          },
          "execution_count": 52
        }
      ]
    },
    {
      "cell_type": "markdown",
      "metadata": {
        "id": "OByo0PXJi7Pr"
      },
      "source": [
        "## การแบ่ง string ตามสัญญาลักษณ์ที่กำหนด -> split sring "
      ]
    },
    {
      "cell_type": "code",
      "metadata": {
        "colab": {
          "base_uri": "https://localhost:8080/"
        },
        "id": "H-wkYQN0jQIN",
        "outputId": "c6ff0d18-65dd-4fcd-ecb6-493f24e2a7bf"
      },
      "source": [
        "t.split(' ') #การแบ่งด้วยช่องว่าง "
      ],
      "execution_count": 53,
      "outputs": [
        {
          "output_type": "execute_result",
          "data": {
            "text/plain": [
              "['python', 'is', 'easy']"
            ]
          },
          "metadata": {
            "tags": []
          },
          "execution_count": 53
        }
      ]
    },
    {
      "cell_type": "code",
      "metadata": {
        "id": "Y1JPgGCcjQnw"
      },
      "source": [
        "time = '12:30:15'"
      ],
      "execution_count": 54,
      "outputs": []
    },
    {
      "cell_type": "code",
      "metadata": {
        "colab": {
          "base_uri": "https://localhost:8080/"
        },
        "id": "oQZ1li-zjQge",
        "outputId": "91e7180f-51e1-4a11-c76e-3514450ecbf2"
      },
      "source": [
        "time.split(':') #การแบ่งด้วยสัญลักษณ์ : "
      ],
      "execution_count": 55,
      "outputs": [
        {
          "output_type": "execute_result",
          "data": {
            "text/plain": [
              "['12', '30', '15']"
            ]
          },
          "metadata": {
            "tags": []
          },
          "execution_count": 55
        }
      ]
    },
    {
      "cell_type": "code",
      "metadata": {
        "id": "PKkVXMu8j5bo",
        "outputId": "dbf9371a-9848-46bc-dec3-e8f76b9382f7",
        "colab": {
          "base_uri": "https://localhost:8080/"
        }
      },
      "source": [
        "t_sp = t.split(' ')\r\n",
        "print(t_sp)\r\n",
        "\r\n",
        "## วิธีรวมกลับ\r\n",
        "\r\n",
        "print(':'.join(t_sp))"
      ],
      "execution_count": 56,
      "outputs": [
        {
          "output_type": "stream",
          "text": [
            "['python', 'is', 'easy']\n",
            "python:is:easy\n"
          ],
          "name": "stdout"
        }
      ]
    },
    {
      "cell_type": "markdown",
      "metadata": {
        "id": "eoWgkLAajvsW"
      },
      "source": [
        "## HW คำนวณเวลาเป็นวินาทีของเวลาต่อไปนี้โดยใช้คำสั่ง split() ช่วย (print ออกมาให้สวยงาม)\r\n",
        "\r\n",
        "12:30:15\r\n",
        "\r\n",
        "13:41:07\r\n",
        "\r\n",
        "12:53:15\r\n",
        "\r\n",
        "00:59:25\r\n",
        "\r\n",
        "11:11:11\r\n",
        "\r\n",
        "16:06:09"
      ]
    },
    {
      "cell_type": "code",
      "metadata": {
        "id": "hiH87C1zjyET"
      },
      "source": [
        "def sum_second(t) :\r\n",
        "      list_t = t.split(':') #ทำการแบ่งโดยให้ใช้สัญลักษณ์ : \r\n",
        "      hour = (int(list_t[0])*3600)  #ให้ t ที่ทำการแบ่งด้วย : มาอยู่ในรูปของ int แล้วเลือกให้ list แต่ละตัวมาคูณกับวินาที\r\n",
        "      minute = (int(list_t[1])*60)  #1 ชม. = 3600 วินาที , 1 นาที = 60 วินาที , list_t[2] เป็นวินาทีอยู่แล้ว\r\n",
        "      second = (int(list_t[2]))  \r\n",
        "      sum_second = f'{t} คำนวณเวลาได้เป็น {hour+minute+second} วินาที' # เพิ่ม f และใช้ {} เพื่อใส่ code ตามด้วย str 'วินาที'\r\n",
        "      print(sum_second)"
      ],
      "execution_count": 133,
      "outputs": []
    },
    {
      "cell_type": "code",
      "metadata": {
        "id": "3RLaR8ZNm9Jp",
        "outputId": "6810f73f-dbcd-43db-e957-8fb72b1a983c",
        "colab": {
          "base_uri": "https://localhost:8080/"
        }
      },
      "source": [
        "sum_second('12:30:15')\r\n",
        "sum_second('13:41:07')\r\n",
        "sum_second('12:53:15')\r\n",
        "sum_second('00:59:25')\r\n",
        "sum_second('11:11:11')\r\n",
        "sum_second('16:06:09')"
      ],
      "execution_count": 134,
      "outputs": [
        {
          "output_type": "stream",
          "text": [
            "12:30:15 คำนวณเวลาได้เป็น 45015 วินาที\n",
            "13:41:07 คำนวณเวลาได้เป็น 49267 วินาที\n",
            "12:53:15 คำนวณเวลาได้เป็น 46395 วินาที\n",
            "00:59:25 คำนวณเวลาได้เป็น 3565 วินาที\n",
            "11:11:11 คำนวณเวลาได้เป็น 40271 วินาที\n",
            "16:06:09 คำนวณเวลาได้เป็น 57969 วินาที\n"
          ],
          "name": "stdout"
        }
      ]
    },
    {
      "cell_type": "code",
      "metadata": {
        "id": "zRJ2vNPRq3ES"
      },
      "source": [
        ""
      ],
      "execution_count": null,
      "outputs": []
    }
  ]
}