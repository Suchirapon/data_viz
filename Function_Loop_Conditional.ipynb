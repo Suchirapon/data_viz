{
  "nbformat": 4,
  "nbformat_minor": 0,
  "metadata": {
    "colab": {
      "name": "Function_Loop_Conditional.ipynb",
      "provenance": [],
      "authorship_tag": "ABX9TyO0fGrh4U54aTVObCH/iICp",
      "include_colab_link": true
    },
    "kernelspec": {
      "name": "python3",
      "display_name": "Python 3"
    }
  },
  "cells": [
    {
      "cell_type": "markdown",
      "metadata": {
        "id": "view-in-github",
        "colab_type": "text"
      },
      "source": [
        "<a href=\"https://colab.research.google.com/github/Suchirapon/data_viz/blob/main/Function_Loop_Conditional.ipynb\" target=\"_parent\"><img src=\"https://colab.research.google.com/assets/colab-badge.svg\" alt=\"Open In Colab\"/></a>"
      ]
    },
    {
      "cell_type": "code",
      "metadata": {
        "colab": {
          "base_uri": "https://localhost:8080/"
        },
        "id": "lI-J2-84fgMG",
        "outputId": "684e7bed-cba9-40a9-aa6e-bbbaf30dbe31"
      },
      "source": [
        "name = 'สุชิราภรณ์'\r\n",
        "surname = 'สุนทรภักดิ์'\r\n",
        "ID = '613020619-0'\r\n",
        "\r\n",
        "b = f'=ชื่อ {name} นามสกุล {surname} รหัส {ID}'\r\n",
        "print(b)"
      ],
      "execution_count": 1,
      "outputs": [
        {
          "output_type": "stream",
          "text": [
            "=ชื่อ สุชิราภรณ์ นามสกุล สุนทรภักดิ์ รหัส 613020619-0\n"
          ],
          "name": "stdout"
        }
      ]
    },
    {
      "cell_type": "markdown",
      "metadata": {
        "id": "UUDCyQ8OfolW"
      },
      "source": [
        "# Fuction template\r\n",
        "\r\n",
        "ทำหน้าที่รับ input มาประมวลผลออกมาเป็น output\r\n",
        "\r\n",
        "f(x) = y"
      ]
    },
    {
      "cell_type": "markdown",
      "metadata": {
        "id": "L3BNBTZqg86x"
      },
      "source": [
        "## def คือ การกำหนดฟังก์ชัน"
      ]
    },
    {
      "cell_type": "markdown",
      "metadata": {
        "id": "4FS-Ve1OhnGy"
      },
      "source": [
        "``` Python\r\n",
        "      def function_name(_Input_) :\r\n",
        "          do_someting with _Input_ to get _Output_\r\n",
        "          return _Output_ \r\n",
        "```\r\n",
        "back tick (`) ==>  กด Alt + 96\r\n",
        "\r\n",
        "tilde (~) ==> กด shift + ~ ค้างไว้ 1 วิ\r\n",
        "\r\n",
        "curly bracket ({  })\r\n",
        "\r\n",
        "square bracket ([ ])\r\n",
        "\r\n",
        "\r\n"
      ]
    },
    {
      "cell_type": "markdown",
      "metadata": {
        "id": "mOthomzgl545"
      },
      "source": [
        "## Function มีส่วนสำคัญท้งหมด 4 ส่วน\r\n",
        "\r\n",
        "1. บอก python ว่าเราจะเขียนฟังก์ชัน ชื่ออะไร  ```def function_name():``` (ขาดไม่ได้)\r\n",
        "2. กำหนดตัวแปรที่จะเป็น Input ในวงเล็บหลังจากชื่อ function ก็คือ ```Input``` (ขาดได้)\r\n",
        "3. ส่วนประมวลผล ```do_someting with _Input_ to get _Output_``` (ขาดไม่ได้)\r\n",
        "4. ส่วน output จะอยู่ที่ตัว ```return _Output_ ``` (ขาดได้)"
      ]
    },
    {
      "cell_type": "markdown",
      "metadata": {
        "id": "xzdbieh_kKQB"
      },
      "source": [
        "## ตัวอย่างการเขียน normal function"
      ]
    },
    {
      "cell_type": "code",
      "metadata": {
        "id": "r44rdinggnBs"
      },
      "source": [
        "def print_name(name,surname,ID) : #สร้างฟังก์ชัน print_name ตามด้วย Input ของฟังก์ชัน คือ name,surname,ID\r\n",
        "    st = f'ชื่อ {name} นามสกุล {surname} รหัส {ID} ' #สร้างตัวแปร st ขึ้นมา โดยให้ประกอบด้วย text เว้นวรรค ตามด้วยตัวแปร\r\n",
        "    return st #output"
      ],
      "execution_count": 2,
      "outputs": []
    },
    {
      "cell_type": "code",
      "metadata": {
        "colab": {
          "base_uri": "https://localhost:8080/",
          "height": 35
        },
        "id": "Eq_uJ6nvgm9-",
        "outputId": "4d8969e2-220d-4f9d-ef5e-f5c18717cd5d"
      },
      "source": [
        "print_name('สุชิราภรณ์', 'สุนทรภักดิ์', '613020619-0') "
      ],
      "execution_count": 3,
      "outputs": [
        {
          "output_type": "execute_result",
          "data": {
            "application/vnd.google.colaboratory.intrinsic+json": {
              "type": "string"
            },
            "text/plain": [
              "'ชื่อ สุชิราภรณ์ นามสกุล สุนทรภักดิ์ รหัส 613020619-0 '"
            ]
          },
          "metadata": {
            "tags": []
          },
          "execution_count": 3
        }
      ]
    },
    {
      "cell_type": "code",
      "metadata": {
        "colab": {
          "base_uri": "https://localhost:8080/"
        },
        "id": "2uxqWI1Mgm67",
        "outputId": "4c961096-c17d-42e1-e931-ec3a83e43d7d"
      },
      "source": [
        "print(print_name(name='กาญจนา', surname='ประสาคุณ', ID='603021855-2'))\r\n",
        "# กำหนดตัวแปรขึ้นมาก่อนที่จะพิมพ์"
      ],
      "execution_count": 4,
      "outputs": [
        {
          "output_type": "stream",
          "text": [
            "ชื่อ กาญจนา นามสกุล ประสาคุณ รหัส 603021855-2 \n"
          ],
          "name": "stdout"
        }
      ]
    },
    {
      "cell_type": "markdown",
      "metadata": {
        "id": "BFAq2yMcpXjg"
      },
      "source": [
        "เราใช้ เว้นวรรค (indent) เพื่อบอกขอบเขตของโปรแกรม\r\n"
      ]
    },
    {
      "cell_type": "code",
      "metadata": {
        "id": "WT3RHGiNpFaE"
      },
      "source": [
        "def print_name2(name,surname,ID) : \r\n",
        "    st = f'ชื่อ {name} นามสกุล {surname} รหัส {ID} ' \r\n",
        "    print(st) #ไม่ต้องส่งค่า output แล้ว ให้ print เลย"
      ],
      "execution_count": 5,
      "outputs": []
    },
    {
      "cell_type": "markdown",
      "metadata": {
        "id": "_NEp0bGXrQFI"
      },
      "source": [
        "### Function ไม่จำเป็นต้องมี output"
      ]
    },
    {
      "cell_type": "code",
      "metadata": {
        "colab": {
          "base_uri": "https://localhost:8080/"
        },
        "id": "NkG4dO2vpp5O",
        "outputId": "a52f24a4-bea2-4261-cc0b-c15e2cd7899f"
      },
      "source": [
        "print_name2(name='กาญจนา', surname='ประสาคุณ', ID='603021855-2')"
      ],
      "execution_count": 6,
      "outputs": [
        {
          "output_type": "stream",
          "text": [
            "ชื่อ กาญจนา นามสกุล ประสาคุณ รหัส 603021855-2 \n"
          ],
          "name": "stdout"
        }
      ]
    },
    {
      "cell_type": "markdown",
      "metadata": {
        "id": "83ejBSfnqOT1"
      },
      "source": [
        "## Function ไม่จำเป็นต้องมี input"
      ]
    },
    {
      "cell_type": "code",
      "metadata": {
        "id": "ZCw-ewE3qC44"
      },
      "source": [
        "def Pi() :\r\n",
        "      return 3.14159265359\r\n",
        "      # เป็นฟังก์ชันที่ไม่มี input แต่จะ return ค่า Pi ออกมาอย่างดียว"
      ],
      "execution_count": 7,
      "outputs": []
    },
    {
      "cell_type": "code",
      "metadata": {
        "colab": {
          "base_uri": "https://localhost:8080/"
        },
        "id": "6husUKVJqC1G",
        "outputId": "56fc208c-bd90-45ad-ae34-c100982048b8"
      },
      "source": [
        "Pi()*(2**2) \r\n",
        "# หาพื้นที่ของวงกลมที่มีรัศมีเท่ากับ Pi * r^2"
      ],
      "execution_count": 8,
      "outputs": [
        {
          "output_type": "execute_result",
          "data": {
            "text/plain": [
              "12.56637061436"
            ]
          },
          "metadata": {
            "tags": []
          },
          "execution_count": 8
        }
      ]
    },
    {
      "cell_type": "markdown",
      "metadata": {
        "id": "XD4McaIRoEDz"
      },
      "source": [
        "## เราสามารถกำหนดค่า default(ค่าเริ่มต้น) ให้กับฟังก์ชันได้\r\n",
        "\r\n",
        "input ของ function ใน python มีสองแบบ input ที่จำเป็นต้องใส่ กับ input ที่ไม่จำเป็นต้องใส่ (มีค่า default)\r\n",
        "\r\n",
        "เราต้องเรียง input ที่จำเป็นต้องใส่ขึ้นก่อน"
      ]
    },
    {
      "cell_type": "markdown",
      "metadata": {
        "id": "zLdYhlOPxVF1"
      },
      "source": [
        "input "
      ]
    },
    {
      "cell_type": "code",
      "metadata": {
        "id": "HorupoeTsvLi"
      },
      "source": [
        "def print_2lines_default(name,surname,ID,grade = 'F') :\r\n",
        "      st = f'ชื่อ {name} นามสกุล {surname} รหัส {ID} ' \r\n",
        "      print(st)\r\n",
        "      st2 = f'เกรดวิชา Data viz = >>> {grade}'\r\n",
        "      print(st2)\r\n",
        "      #ฟังก์ชันชื่อ print_2lines_default input มี และ มี grade = 'F' ที่เป็นตัวกำหนด"
      ],
      "execution_count": 10,
      "outputs": []
    },
    {
      "cell_type": "code",
      "metadata": {
        "colab": {
          "base_uri": "https://localhost:8080/"
        },
        "id": "7PcMh5VEk9tj",
        "outputId": "9ee5f4af-29ab-432f-ff99-174fd2f5f374"
      },
      "source": [
        "print_2lines_default('ธันยาการต์','พวงมาลัย','613020551-8')"
      ],
      "execution_count": 11,
      "outputs": [
        {
          "output_type": "stream",
          "text": [
            "ชื่อ ธันยาการต์ นามสกุล พวงมาลัย รหัส 613020551-8 \n",
            "เกรดวิชา Data viz = >>> F\n"
          ],
          "name": "stdout"
        }
      ]
    },
    {
      "cell_type": "code",
      "metadata": {
        "colab": {
          "base_uri": "https://localhost:8080/"
        },
        "id": "tKTqhHKllCWI",
        "outputId": "f3a48b34-45d9-4e15-a08c-09ecec09caf0"
      },
      "source": [
        "print_2lines_default('ธันยาการต์','พวงมาลัย','613020551-8','A')"
      ],
      "execution_count": 12,
      "outputs": [
        {
          "output_type": "stream",
          "text": [
            "ชื่อ ธันยาการต์ นามสกุล พวงมาลัย รหัส 613020551-8 \n",
            "เกรดวิชา Data viz = >>> A\n"
          ],
          "name": "stdout"
        }
      ]
    },
    {
      "cell_type": "markdown",
      "metadata": {
        "id": "qxf4lap50bCI"
      },
      "source": [
        "# Loop การวนซ้ำ"
      ]
    },
    {
      "cell_type": "markdown",
      "metadata": {
        "id": "IwzPav9y0fev"
      },
      "source": [
        "for เป้นคำสั่งที่ใช้บอก python ว่าเรากำลังเขียน loop\r\n",
        "\r\n",
        "โดย for จะวนดึงสมาชิกจาก ```listA``` มาทำ process ```do_something```"
      ]
    },
    {
      "cell_type": "markdown",
      "metadata": {
        "id": "3FFy9R-Rlq0F"
      },
      "source": [
        "```python\r\n",
        "    for each_member in listA :\r\n",
        "        do_something\r\n",
        "```"
      ]
    },
    {
      "cell_type": "markdown",
      "metadata": {
        "id": "j2iMgJVN1E0a"
      },
      "source": [
        "### คำสั่ง for เป็นคำสั่งวนซ้ำที่ใช้ควบคุมการทำงานซ้ำๆ ในจำนวนรอบที่แน่นอน"
      ]
    },
    {
      "cell_type": "code",
      "metadata": {
        "colab": {
          "base_uri": "https://localhost:8080/"
        },
        "id": "E40mybqIgm0t",
        "outputId": "10625968-f177-444d-b781-ab2bee514548"
      },
      "source": [
        "for i in [1,2,3] :\r\n",
        "    o = i**2\r\n",
        "    print (f'this member = {i} after process = {o}')"
      ],
      "execution_count": null,
      "outputs": [
        {
          "output_type": "stream",
          "text": [
            "this member = 1 after process = 1\n",
            "this member = 2 after process = 4\n",
            "this member = 3 after process = 9\n"
          ],
          "name": "stdout"
        }
      ]
    },
    {
      "cell_type": "markdown",
      "metadata": {
        "id": "ZC_5CLs6Vbb7"
      },
      "source": [
        "ตัวอย่างการใช้คำสั่ง for ในการวนซ้ำค่าของ i เมื่อ i คือ 'Suchirapon' และคำสั่ง print(f'{i} -> /') เพื่อกำหนดให้ผลลัพธ์แสดงสัญลักษณ์ -> / จากนั้นเพิ่มคำสั่ง print(' ') อีกครั้งเพื่อให้ผลลัพธ์มีการเว้นวรรค"
      ]
    },
    {
      "cell_type": "code",
      "metadata": {
        "id": "ROwsUwZugmwq",
        "colab": {
          "base_uri": "https://localhost:8080/"
        },
        "outputId": "2cd64997-1a89-4997-9422-0df8bee7e47e"
      },
      "source": [
        "for i in 'Suchirapon' :\r\n",
        "  print(f'{i} -> / ') # การ print แบบให้เว้นบรรทัด"
      ],
      "execution_count": null,
      "outputs": [
        {
          "output_type": "stream",
          "text": [
            "S -> / \n",
            "u -> / \n",
            "c -> / \n",
            "h -> / \n",
            "i -> / \n",
            "r -> / \n",
            "a -> / \n",
            "p -> / \n",
            "o -> / \n",
            "n -> / \n"
          ],
          "name": "stdout"
        }
      ]
    },
    {
      "cell_type": "code",
      "metadata": {
        "id": "HaSX02XygmrS",
        "colab": {
          "base_uri": "https://localhost:8080/"
        },
        "outputId": "91da9e12-4787-42c8-dba6-e9744e14129e"
      },
      "source": [
        "for i in 'Suchirapon' :\r\n",
        "  print(f'{i} -> / ' ,end=' ') #สั่งให้ print แบบ ไม่เว้นบรรทัด"
      ],
      "execution_count": null,
      "outputs": [
        {
          "output_type": "stream",
          "text": [
            "S -> /  u -> /  c -> /  h -> /  i -> /  r -> /  a -> /  p -> /  o -> /  n -> /  "
          ],
          "name": "stdout"
        }
      ]
    },
    {
      "cell_type": "markdown",
      "metadata": {
        "id": "f0M9NBxDFatK"
      },
      "source": [
        "__end__ เป็นการแสดงผลในตอนท้ายของฟังก์ชัน ซึ่งมีค่า default เป็น \\n หมายถึงการขึ้นบรรทัดใหม่"
      ]
    },
    {
      "cell_type": "code",
      "metadata": {
        "colab": {
          "base_uri": "https://localhost:8080/"
        },
        "id": "gLvj5XnDmVbI",
        "outputId": "5a3e05bf-cac3-4cae-9583-f88ff7f8e6b3"
      },
      "source": [
        "for i in 'Thanapong':\r\n",
        "    print(f'{i} -> / ' ,end = ',') "
      ],
      "execution_count": 13,
      "outputs": [
        {
          "output_type": "stream",
          "text": [
            "T -> / ,h -> / ,a -> / ,n -> / ,a -> / ,p -> / ,o -> / ,n -> / ,g -> / ,"
          ],
          "name": "stdout"
        }
      ]
    },
    {
      "cell_type": "markdown",
      "metadata": {
        "id": "dgT4ZlFKYLiz"
      },
      "source": [
        "## สร้าง list ตัวเลขอัตโนมัติ range()\r\n",
        "\r\n",
        "__range__ เป็นคำสั่งสำหรับมีไว้ในการลำดับจำนวนตัวเลข"
      ]
    },
    {
      "cell_type": "markdown",
      "metadata": {
        "id": "Wa14aaKDGAl6"
      },
      "source": [
        "``` Python\r\n",
        "      หลักการใช้\r\n",
        "      range(เริ่ม,จบ, การเพิ่มขึ้น) \r\n",
        "          ตัวอย่าง\r\n",
        "          >>> list(range(3))\r\n",
        "                  [0, 1, 2]\r\n",
        "          >>> list(range(-3,9))\r\n",
        "                  [-3, -2, -1, 0, 1, 2, 3, 4, 5, 6, 7, 8]\r\n",
        "```"
      ]
    },
    {
      "cell_type": "code",
      "metadata": {
        "id": "2HbZfB83gmjp",
        "colab": {
          "base_uri": "https://localhost:8080/"
        },
        "outputId": "727d3e2e-4ee8-4822-c3fb-776b5a39a65e"
      },
      "source": [
        "range5_output = range(5)\r\n",
        "print(list(range5_output))"
      ],
      "execution_count": null,
      "outputs": [
        {
          "output_type": "stream",
          "text": [
            "[0, 1, 2, 3, 4]\n"
          ],
          "name": "stdout"
        }
      ]
    },
    {
      "cell_type": "code",
      "metadata": {
        "id": "ST7FMbD5Y-VB",
        "colab": {
          "base_uri": "https://localhost:8080/"
        },
        "outputId": "433b60a0-3757-4e59-c505-ba23320c87e4"
      },
      "source": [
        "for i in range(100) :\r\n",
        "    print('งง',end=' ')"
      ],
      "execution_count": null,
      "outputs": [
        {
          "output_type": "stream",
          "text": [
            "งง งง งง งง งง งง งง งง งง งง งง งง งง งง งง งง งง งง งง งง งง งง งง งง งง งง งง งง งง งง งง งง งง งง งง งง งง งง งง งง งง งง งง งง งง งง งง งง งง งง งง งง งง งง งง งง งง งง งง งง งง งง งง งง งง งง งง งง งง งง งง งง งง งง งง งง งง งง งง งง งง งง งง งง งง งง งง งง งง งง งง งง งง งง งง งง งง งง งง งง "
          ],
          "name": "stdout"
        }
      ]
    },
    {
      "cell_type": "code",
      "metadata": {
        "id": "7AiSGe-HY-Mg",
        "colab": {
          "base_uri": "https://localhost:8080/"
        },
        "outputId": "39587155-bf05-4e95-deee-45e70a97e135"
      },
      "source": [
        "list(range(1,11)) #เริ่มต้นเป็นวงทึบ จบเป็นวงกลมโปร่ง เหมือน list slicing"
      ],
      "execution_count": null,
      "outputs": [
        {
          "output_type": "execute_result",
          "data": {
            "text/plain": [
              "[1, 2, 3, 4, 5, 6, 7, 8, 9, 10]"
            ]
          },
          "metadata": {
            "tags": []
          },
          "execution_count": 17
        }
      ]
    },
    {
      "cell_type": "code",
      "metadata": {
        "id": "UpqLf3hYccNI",
        "colab": {
          "base_uri": "https://localhost:8080/"
        },
        "outputId": "9a303be8-7878-4859-df96-bbaa0ef43b11"
      },
      "source": [
        "list(range(-3,20,4))"
      ],
      "execution_count": null,
      "outputs": [
        {
          "output_type": "execute_result",
          "data": {
            "text/plain": [
              "[-3, 1, 5, 9, 13, 17]"
            ]
          },
          "metadata": {
            "tags": []
          },
          "execution_count": 19
        }
      ]
    },
    {
      "cell_type": "markdown",
      "metadata": {
        "id": "LKPjp1Cqc6Ih"
      },
      "source": [
        "## loop in loop\r\n",
        "สามารถใช้ for loop ซ้อนกันสองรอบได้"
      ]
    },
    {
      "cell_type": "code",
      "metadata": {
        "id": "unL_Et2XccFn",
        "colab": {
          "base_uri": "https://localhost:8080/"
        },
        "outputId": "078cca83-b580-45f1-dbdb-547a231afae8"
      },
      "source": [
        "for name1 in  range(2,5): #(2, 3, 4)\r\n",
        "    print(f'now name1 = {name1}')\r\n",
        "    for name2 in  range(1,13):\r\n",
        "        print(name1,' x ',name2,' = ',name1*name2)\r\n",
        "    print('the inner loop is end')"
      ],
      "execution_count": 14,
      "outputs": [
        {
          "output_type": "stream",
          "text": [
            "now name1 = 2\n",
            "2  x  1  =  2\n",
            "2  x  2  =  4\n",
            "2  x  3  =  6\n",
            "2  x  4  =  8\n",
            "2  x  5  =  10\n",
            "2  x  6  =  12\n",
            "2  x  7  =  14\n",
            "2  x  8  =  16\n",
            "2  x  9  =  18\n",
            "2  x  10  =  20\n",
            "2  x  11  =  22\n",
            "2  x  12  =  24\n",
            "the inner loop is end\n",
            "now name1 = 3\n",
            "3  x  1  =  3\n",
            "3  x  2  =  6\n",
            "3  x  3  =  9\n",
            "3  x  4  =  12\n",
            "3  x  5  =  15\n",
            "3  x  6  =  18\n",
            "3  x  7  =  21\n",
            "3  x  8  =  24\n",
            "3  x  9  =  27\n",
            "3  x  10  =  30\n",
            "3  x  11  =  33\n",
            "3  x  12  =  36\n",
            "the inner loop is end\n",
            "now name1 = 4\n",
            "4  x  1  =  4\n",
            "4  x  2  =  8\n",
            "4  x  3  =  12\n",
            "4  x  4  =  16\n",
            "4  x  5  =  20\n",
            "4  x  6  =  24\n",
            "4  x  7  =  28\n",
            "4  x  8  =  32\n",
            "4  x  9  =  36\n",
            "4  x  10  =  40\n",
            "4  x  11  =  44\n",
            "4  x  12  =  48\n",
            "the inner loop is end\n"
          ],
          "name": "stdout"
        }
      ]
    },
    {
      "cell_type": "markdown",
      "metadata": {
        "id": "EpmJUsEmmd3Y"
      },
      "source": [
        "## loop in function\r\n",
        "การวนลูปในฟังก์ชั่น"
      ]
    },
    {
      "cell_type": "code",
      "metadata": {
        "id": "YCN6xEMkcb-_"
      },
      "source": [
        "def print_feelings(I,friendS,feeling = 'คิดถึง'):\r\n",
        "    for friend in friendS:\r\n",
        "        print(f'{I} {feeling} {friend}')"
      ],
      "execution_count": 134,
      "outputs": []
    },
    {
      "cell_type": "code",
      "metadata": {
        "id": "A3rMGno3cby7"
      },
      "source": [
        "list_friends = ['เรียวตะ','ไดกิ','ชินทาโร่','เซย์จูโร่','อาสึชิ']"
      ],
      "execution_count": 139,
      "outputs": []
    },
    {
      "cell_type": "code",
      "metadata": {
        "colab": {
          "base_uri": "https://localhost:8080/"
        },
        "id": "Yq1win7xmpkm",
        "outputId": "fc0c4841-581a-4507-e231-7f7db9805e7c"
      },
      "source": [
        "print_feelings('เท็ตสึยะ',list_friends)"
      ],
      "execution_count": 140,
      "outputs": [
        {
          "output_type": "stream",
          "text": [
            "เท็ตสึยะ คิดถึง เรียวตะ\n",
            "เท็ตสึยะ คิดถึง ไดกิ\n",
            "เท็ตสึยะ คิดถึง ชินทาโร่\n",
            "เท็ตสึยะ คิดถึง เซย์จูโร่\n",
            "เท็ตสึยะ คิดถึง อาสึชิ\n"
          ],
          "name": "stdout"
        }
      ]
    },
    {
      "cell_type": "code",
      "metadata": {
        "colab": {
          "base_uri": "https://localhost:8080/"
        },
        "id": "lkJyOC_mmr02",
        "outputId": "a0d10039-c5ee-4237-c326-e6130c423705"
      },
      "source": [
        "print_feelings('เท็ตสึยะ',list_friends,feeling='รัก')"
      ],
      "execution_count": 141,
      "outputs": [
        {
          "output_type": "stream",
          "text": [
            "เท็ตสึยะ รัก เรียวตะ\n",
            "เท็ตสึยะ รัก ไดกิ\n",
            "เท็ตสึยะ รัก ชินทาโร่\n",
            "เท็ตสึยะ รัก เซย์จูโร่\n",
            "เท็ตสึยะ รัก อาสึชิ\n"
          ],
          "name": "stdout"
        }
      ]
    },
    {
      "cell_type": "code",
      "metadata": {
        "colab": {
          "base_uri": "https://localhost:8080/"
        },
        "id": "gB1uJX5WmtpI",
        "outputId": "57626b0e-9a87-4beb-fae5-4b84ba164122"
      },
      "source": [
        "print_feelings('เท็ตสึยะ',list_friends,'รัก')"
      ],
      "execution_count": 142,
      "outputs": [
        {
          "output_type": "stream",
          "text": [
            "เท็ตสึยะ รัก เรียวตะ\n",
            "เท็ตสึยะ รัก ไดกิ\n",
            "เท็ตสึยะ รัก ชินทาโร่\n",
            "เท็ตสึยะ รัก เซย์จูโร่\n",
            "เท็ตสึยะ รัก อาสึชิ\n"
          ],
          "name": "stdout"
        }
      ]
    },
    {
      "cell_type": "markdown",
      "metadata": {
        "id": "F11hYSMzmvpr"
      },
      "source": [
        "## looping in dict\r\n",
        "ทำการวนลูปในค่า dict โดยที่เรากำหนดตัว key และvalueขึ้นมา ได้ดังนี้"
      ]
    },
    {
      "cell_type": "code",
      "metadata": {
        "colab": {
          "base_uri": "https://localhost:8080/"
        },
        "id": "jo2gNMOKmyse",
        "outputId": "3d637a31-77bc-4a69-a4ac-f990c7e8a068"
      },
      "source": [
        "name_grade = {'มิโดริมะ' : 'B','คุโรโกะ' : 'C','อาคาชิ' : 'A','คิเสะ' : 'F'}\r\n",
        "name_grade "
      ],
      "execution_count": 143,
      "outputs": [
        {
          "output_type": "execute_result",
          "data": {
            "text/plain": [
              "{'คิเสะ': 'F', 'คุโรโกะ': 'C', 'มิโดริมะ': 'B', 'อาคาชิ': 'A'}"
            ]
          },
          "metadata": {
            "tags": []
          },
          "execution_count": 143
        }
      ]
    },
    {
      "cell_type": "code",
      "metadata": {
        "colab": {
          "base_uri": "https://localhost:8080/",
          "height": 35
        },
        "id": "1vgPnO01mymx",
        "outputId": "e016c6eb-798f-42c0-9b82-c6101bbf5f31"
      },
      "source": [
        "name_grade['อาคาชิ']"
      ],
      "execution_count": 144,
      "outputs": [
        {
          "output_type": "execute_result",
          "data": {
            "application/vnd.google.colaboratory.intrinsic+json": {
              "type": "string"
            },
            "text/plain": [
              "'A'"
            ]
          },
          "metadata": {
            "tags": []
          },
          "execution_count": 144
        }
      ]
    },
    {
      "cell_type": "code",
      "metadata": {
        "colab": {
          "base_uri": "https://localhost:8080/"
        },
        "id": "SeGMxXSRmygK",
        "outputId": "544adfb6-0b1a-498d-e388-03d31098aaac"
      },
      "source": [
        "for i in name_grade.keys():\r\n",
        "    print(i)"
      ],
      "execution_count": 145,
      "outputs": [
        {
          "output_type": "stream",
          "text": [
            "มิโดริมะ\n",
            "คุโรโกะ\n",
            "อาคาชิ\n",
            "คิเสะ\n"
          ],
          "name": "stdout"
        }
      ]
    },
    {
      "cell_type": "code",
      "metadata": {
        "colab": {
          "base_uri": "https://localhost:8080/"
        },
        "id": "hP2eCCiwm36H",
        "outputId": "c63d21d8-9560-42c1-8283-1d8dae22b1b5"
      },
      "source": [
        "name_grade.keys()"
      ],
      "execution_count": 146,
      "outputs": [
        {
          "output_type": "execute_result",
          "data": {
            "text/plain": [
              "dict_keys(['มิโดริมะ', 'คุโรโกะ', 'อาคาชิ', 'คิเสะ'])"
            ]
          },
          "metadata": {
            "tags": []
          },
          "execution_count": 146
        }
      ]
    },
    {
      "cell_type": "code",
      "metadata": {
        "colab": {
          "base_uri": "https://localhost:8080/"
        },
        "id": "NE_ppXq-m6ns",
        "outputId": "5605860f-375f-4346-bcfd-c2b5739cd2a4"
      },
      "source": [
        "for i in name_grade.keys():\r\n",
        "    print(f'{i} ได้เกรด {name_grade[i]}')"
      ],
      "execution_count": 147,
      "outputs": [
        {
          "output_type": "stream",
          "text": [
            "มิโดริมะ ได้เกรด B\n",
            "คุโรโกะ ได้เกรด C\n",
            "อาคาชิ ได้เกรด A\n",
            "คิเสะ ได้เกรด F\n"
          ],
          "name": "stdout"
        }
      ]
    },
    {
      "cell_type": "markdown",
      "metadata": {
        "id": "w6N90RUBkBEf"
      },
      "source": [
        "# Connditional คือ เงื่อนไข/ประโยคเงื่อนไข\r\n",
        "## True / False\r\n",
        "\r\n",
        "การวนลูปโดยมีเงื่อนไขต่างๆ มาเกี่ยวข้อง โดยมี pattern ดังนี้"
      ]
    },
    {
      "cell_type": "markdown",
      "metadata": {
        "id": "KRvH2GHTkeXk"
      },
      "source": [
        "```Python\r\n",
        "if condition1 :\r\n",
        "    do something\r\n",
        "elif condition2 :  #elif คือ else if\r\n",
        "    do another thing\r\n",
        "else:\r\n",
        "    do ...\r\n",
        "```"
      ]
    },
    {
      "cell_type": "code",
      "metadata": {
        "colab": {
          "base_uri": "https://localhost:8080/"
        },
        "id": "twq2116rm-gc",
        "outputId": "1d4a017d-b04b-4636-83a2-35b87b9348d6"
      },
      "source": [
        "print(list_friends)"
      ],
      "execution_count": 148,
      "outputs": [
        {
          "output_type": "stream",
          "text": [
            "['เรียวตะ', 'ไดกิ', 'ชินทาโร่', 'เซย์จูโร่', 'อาสึชิ']\n"
          ],
          "name": "stdout"
        }
      ]
    },
    {
      "cell_type": "code",
      "metadata": {
        "colab": {
          "base_uri": "https://localhost:8080/"
        },
        "id": "e-876D3snBto",
        "outputId": "6ef794b8-a0ad-4d64-e57d-ede949127732"
      },
      "source": [
        "for name1 in list_friends :\r\n",
        "    for name2 in list_friends :\r\n",
        "            print(name1,'รัก',name2)"
      ],
      "execution_count": 149,
      "outputs": [
        {
          "output_type": "stream",
          "text": [
            "เรียวตะ รัก เรียวตะ\n",
            "เรียวตะ รัก ไดกิ\n",
            "เรียวตะ รัก ชินทาโร่\n",
            "เรียวตะ รัก เซย์จูโร่\n",
            "เรียวตะ รัก อาสึชิ\n",
            "ไดกิ รัก เรียวตะ\n",
            "ไดกิ รัก ไดกิ\n",
            "ไดกิ รัก ชินทาโร่\n",
            "ไดกิ รัก เซย์จูโร่\n",
            "ไดกิ รัก อาสึชิ\n",
            "ชินทาโร่ รัก เรียวตะ\n",
            "ชินทาโร่ รัก ไดกิ\n",
            "ชินทาโร่ รัก ชินทาโร่\n",
            "ชินทาโร่ รัก เซย์จูโร่\n",
            "ชินทาโร่ รัก อาสึชิ\n",
            "เซย์จูโร่ รัก เรียวตะ\n",
            "เซย์จูโร่ รัก ไดกิ\n",
            "เซย์จูโร่ รัก ชินทาโร่\n",
            "เซย์จูโร่ รัก เซย์จูโร่\n",
            "เซย์จูโร่ รัก อาสึชิ\n",
            "อาสึชิ รัก เรียวตะ\n",
            "อาสึชิ รัก ไดกิ\n",
            "อาสึชิ รัก ชินทาโร่\n",
            "อาสึชิ รัก เซย์จูโร่\n",
            "อาสึชิ รัก อาสึชิ\n"
          ],
          "name": "stdout"
        }
      ]
    },
    {
      "cell_type": "code",
      "metadata": {
        "colab": {
          "base_uri": "https://localhost:8080/"
        },
        "id": "yWcD4b-LnEJ7",
        "outputId": "16332cd1-d263-4858-c8ab-ab3285017995"
      },
      "source": [
        "for name1 in list_friends:\r\n",
        "    for name2 in list_friends:\r\n",
        "        if name1 != name2: #ไม่ print ชื่อคนเดียวกันซ้ำ\r\n",
        "            print(name1,'รัก',name2)"
      ],
      "execution_count": 150,
      "outputs": [
        {
          "output_type": "stream",
          "text": [
            "เรียวตะ รัก ไดกิ\n",
            "เรียวตะ รัก ชินทาโร่\n",
            "เรียวตะ รัก เซย์จูโร่\n",
            "เรียวตะ รัก อาสึชิ\n",
            "ไดกิ รัก เรียวตะ\n",
            "ไดกิ รัก ชินทาโร่\n",
            "ไดกิ รัก เซย์จูโร่\n",
            "ไดกิ รัก อาสึชิ\n",
            "ชินทาโร่ รัก เรียวตะ\n",
            "ชินทาโร่ รัก ไดกิ\n",
            "ชินทาโร่ รัก เซย์จูโร่\n",
            "ชินทาโร่ รัก อาสึชิ\n",
            "เซย์จูโร่ รัก เรียวตะ\n",
            "เซย์จูโร่ รัก ไดกิ\n",
            "เซย์จูโร่ รัก ชินทาโร่\n",
            "เซย์จูโร่ รัก อาสึชิ\n",
            "อาสึชิ รัก เรียวตะ\n",
            "อาสึชิ รัก ไดกิ\n",
            "อาสึชิ รัก ชินทาโร่\n",
            "อาสึชิ รัก เซย์จูโร่\n"
          ],
          "name": "stdout"
        }
      ]
    },
    {
      "cell_type": "code",
      "metadata": {
        "colab": {
          "base_uri": "https://localhost:8080/"
        },
        "id": "EX7XhXzSnGde",
        "outputId": "318519e5-e7fc-4792-c9aa-8b37b90ceae9"
      },
      "source": [
        "for name1 in list_friends:\r\n",
        "    for name2 in list_friends:\r\n",
        "        if name1 == name2: # print ชื่อคนเดียวกันซ้ำ\r\n",
        "            print(name1,'รัก',name2)"
      ],
      "execution_count": 151,
      "outputs": [
        {
          "output_type": "stream",
          "text": [
            "เรียวตะ รัก เรียวตะ\n",
            "ไดกิ รัก ไดกิ\n",
            "ชินทาโร่ รัก ชินทาโร่\n",
            "เซย์จูโร่ รัก เซย์จูโร่\n",
            "อาสึชิ รัก อาสึชิ\n"
          ],
          "name": "stdout"
        }
      ]
    },
    {
      "cell_type": "code",
      "metadata": {
        "colab": {
          "base_uri": "https://localhost:8080/"
        },
        "id": "ue8H2Ir-nIJb",
        "outputId": "613f0b41-94c9-42bb-d24c-c81f6bb95bbc"
      },
      "source": [
        "for name1 in list_friends:\r\n",
        "    for name2 in list_friends:\r\n",
        "        if name1 == name2: \r\n",
        "            'do nothing'\r\n",
        "        else: # คำสั่ง else เป็นเงื่อนไชในคำสั่ง if นั้นไม่เป็นจริง\r\n",
        "            print(name1,'รัก',name2)"
      ],
      "execution_count": 153,
      "outputs": [
        {
          "output_type": "stream",
          "text": [
            "เรียวตะ รัก ไดกิ\n",
            "เรียวตะ รัก ชินทาโร่\n",
            "เรียวตะ รัก เซย์จูโร่\n",
            "เรียวตะ รัก อาสึชิ\n",
            "ไดกิ รัก เรียวตะ\n",
            "ไดกิ รัก ชินทาโร่\n",
            "ไดกิ รัก เซย์จูโร่\n",
            "ไดกิ รัก อาสึชิ\n",
            "ชินทาโร่ รัก เรียวตะ\n",
            "ชินทาโร่ รัก ไดกิ\n",
            "ชินทาโร่ รัก เซย์จูโร่\n",
            "ชินทาโร่ รัก อาสึชิ\n",
            "เซย์จูโร่ รัก เรียวตะ\n",
            "เซย์จูโร่ รัก ไดกิ\n",
            "เซย์จูโร่ รัก ชินทาโร่\n",
            "เซย์จูโร่ รัก อาสึชิ\n",
            "อาสึชิ รัก เรียวตะ\n",
            "อาสึชิ รัก ไดกิ\n",
            "อาสึชิ รัก ชินทาโร่\n",
            "อาสึชิ รัก เซย์จูโร่\n"
          ],
          "name": "stdout"
        }
      ]
    },
    {
      "cell_type": "markdown",
      "metadata": {
        "id": "t5Y20dpVnKEa"
      },
      "source": [
        "### ==, !=,>=,<=,<,>"
      ]
    },
    {
      "cell_type": "code",
      "metadata": {
        "colab": {
          "base_uri": "https://localhost:8080/"
        },
        "id": "UPBu1-SpnLqe",
        "outputId": "98f8bbad-aaa5-4178-eba5-0f290327b374"
      },
      "source": [
        "'พี่บูม' == 'พี่เจ็ท'"
      ],
      "execution_count": 30,
      "outputs": [
        {
          "output_type": "execute_result",
          "data": {
            "text/plain": [
              "False"
            ]
          },
          "metadata": {
            "tags": []
          },
          "execution_count": 30
        }
      ]
    },
    {
      "cell_type": "code",
      "metadata": {
        "colab": {
          "base_uri": "https://localhost:8080/"
        },
        "id": "CbA-Xe18nNWS",
        "outputId": "df793ba7-9197-4bb9-890c-697da3e9e2bf"
      },
      "source": [
        "'พี่บูม' != 'พี่เจ็ท'"
      ],
      "execution_count": 31,
      "outputs": [
        {
          "output_type": "execute_result",
          "data": {
            "text/plain": [
              "True"
            ]
          },
          "metadata": {
            "tags": []
          },
          "execution_count": 31
        }
      ]
    },
    {
      "cell_type": "markdown",
      "metadata": {
        "id": "8F54Jl4pnP8y"
      },
      "source": [
        "### หากหลังเงื่อนไข True ถูกต้องจะทำการ print ข้อความออกมาว่า Yes"
      ]
    },
    {
      "cell_type": "code",
      "metadata": {
        "colab": {
          "base_uri": "https://localhost:8080/"
        },
        "id": "N3FdUOSJnNSD",
        "outputId": "b64a3f35-bf3d-4dad-e733-6c8f7aa87c3b"
      },
      "source": [
        "if True:\r\n",
        "    print('Yes')"
      ],
      "execution_count": 32,
      "outputs": [
        {
          "output_type": "stream",
          "text": [
            "Yes\n"
          ],
          "name": "stdout"
        }
      ]
    },
    {
      "cell_type": "code",
      "metadata": {
        "id": "3nSwCaVonNO_"
      },
      "source": [
        "if False:\r\n",
        "    print('No')"
      ],
      "execution_count": 35,
      "outputs": []
    },
    {
      "cell_type": "markdown",
      "metadata": {
        "id": "cj4gvSlfnaxd"
      },
      "source": [
        "### หากหลังเงื่อนไข False ไม่ถูกต้องจะไม่ปริ้นข้อความใดๆออกมา\r\n",
        "ซึ่งจะต้องใช้เงื่อนไขนี้ จึงจะได้ปริ้นค่าเงื่อนไขนั้นออกมา ดังนี้"
      ]
    },
    {
      "cell_type": "code",
      "metadata": {
        "colab": {
          "base_uri": "https://localhost:8080/"
        },
        "id": "AyJJjpoknNL1",
        "outputId": "4a643b17-c594-4203-fcd8-afb012809820"
      },
      "source": [
        "if False:\r\n",
        "    print('Yes')\r\n",
        "else:\r\n",
        "    print('No')"
      ],
      "execution_count": 34,
      "outputs": [
        {
          "output_type": "stream",
          "text": [
            "No\n"
          ],
          "name": "stdout"
        }
      ]
    },
    {
      "cell_type": "markdown",
      "metadata": {
        "id": "1w-HzaFKA4Wz"
      },
      "source": [
        "คำสั่ง __if__ สร้างเงื่อนไขให้โปรแกรมทำงานตามที่เราต้องการ เมื่อเงื่อนไขนั้นตรงกับที่เรากำหนด\r\n",
        "\r\n",
        "คำสั่ง __else__ เป็นเงื่อนไขในคำสั่ง if นั้นไม่เป็นจริง หรือมันจะทำงานเมื่อเงื่อนไขก่อนหน้านั้นไม่เป็นจริง\r\n",
        "\r\n",
        "__elif__ เป็นคำสั่งที่ใช้สำหรับสร้างเงื่อนไขแบบหลายทางเลือก ต้องใช้หลังจากคำสั่ง if เสมอและสามารถมี else ได้"
      ]
    },
    {
      "cell_type": "markdown",
      "metadata": {
        "id": "-PipCcJlngqH"
      },
      "source": [
        "## HW\r\n",
        "เขียน function ตัดเกรด โดยที่ input เป็นคะแนน(0-100) , output เป็นเกรด (F-A)\r\n",
        "วนลูปตัดเกรด input = [1,50,65,90,101,-5,49]"
      ]
    },
    {
      "cell_type": "markdown",
      "metadata": {
        "id": "zQooApRwniSr"
      },
      "source": [
        "##### กำหนด\r\n",
        "      ถ้าคะแนนอยู่ระหว่างมากกว่าหรือเท่ากับ  0  แต่น้อยกว่า 50 จะได้เกรด F\r\n",
        "      ถ้าคะแนนอยู่ระหว่างมากกว่าหรือเท่ากับ 50 แต่น้อยกว่า 55 จะได้เกรด D\r\n",
        "      ถ้าคะแนนอยู่ระหว่างมากกว่าหรือเท่ากับ 55 แต่น้อยกว่า 60 จะได้เกรด D+\r\n",
        "      ถ้าคะแนนอยู่ระหว่างมากกว่าหรือเท่ากับ 60 แต่น้อยกว่า 65 จะได้เกรด C\r\n",
        "      ถ้าคะแนนอยู่ระหว่างมากกว่าหรือเท่ากับ 65 แต่น้อยกว่า 70 จะได้เกรด C+\r\n",
        "      ถ้าคะแนนอยู่ระหว่างมากกว่าหรือเท่ากับ 70 แต่น้อยกว่า 75 จะได้เกรด B\r\n",
        "      ถ้าคะแนนอยู่ระหว่างมากกว่าหรือเท่ากับ 75 แต่น้อยกว่า 80 จะได้เกรด B+\r\n",
        "      ถ้าคะแนนอยู่ระหว่างมากกว่าหรือเท่ากับ 80  จะได้เกรด A\r\n",
        "      แต่ว่าค่าคะแนนจะต้องไม่ต่ำกว่า 0 และมากกว่า 100 ไม่งั้นจะเกิด error"
      ]
    },
    {
      "cell_type": "code",
      "metadata": {
        "id": "hMMIGfXAnmcz"
      },
      "source": [
        "def GPA(score) :\r\n",
        "  if (score > 80 and score <= 100) : # ถ้าคะแนนอยู่ระหว่าง มากกว่า 80 และ น้อยกว่าหรือเท่ากับ 100 ให้แสดง A\r\n",
        "    print(f'{score} คะแนน เกรดที่จะได้ คือ A')\r\n",
        "  elif (score >= 75 and score < 80) :\r\n",
        "    print(f'{score} คะแนน เกรดที่จะได้ คือ B+')\r\n",
        "  elif (score >= 70 and score < 75) :\r\n",
        "    print(f'{score} คะแนน เกรดที่จะได้ คือ B')\r\n",
        "  elif (score >= 65 and score < 70) :\r\n",
        "    print(f'{score} คะแนน เกรดที่จะได้ คือ C+')\r\n",
        "  elif (score >= 60 and score < 65) :\r\n",
        "    print(f'{score} คะแนน เกรดที่จะได้ คือ C')\r\n",
        "  elif (score >= 55 and score < 60) :\r\n",
        "    print(f'{score} คะแนน เกรดที่จะได้ คือ D+')\r\n",
        "  elif (score >= 50 and score < 55) :\r\n",
        "    print(f'{score} คะแนน เกรดที่จะได้ คือ D')\r\n",
        "  elif (score >= 0 and score < 50) :\r\n",
        "    print(f'{score} คะแนน เกรดที่จะได้ คือ F')\r\n",
        "  else : \r\n",
        "    print('error')\r\n",
        "# มีหลายเงื่อนไขจึงเอาคำสั่ง elif มาใช้ และคำสั่ง else ในกรณีที่คะแนนต่ำกว่า 0 และมากกว่า 100 ให้แสดง error"
      ],
      "execution_count": 154,
      "outputs": []
    },
    {
      "cell_type": "code",
      "metadata": {
        "colab": {
          "base_uri": "https://localhost:8080/"
        },
        "id": "SHyv9giRzawe",
        "outputId": "50c96ff4-42d6-41dd-8f6b-138bc3c5bd02"
      },
      "source": [
        "list_score = [1,50,65,90,101,-5,49]\r\n",
        "for score in list_score :\r\n",
        "  GPA(score)"
      ],
      "execution_count": 155,
      "outputs": [
        {
          "output_type": "stream",
          "text": [
            "1 คะแนน เกรดที่จะได้ คือ F\n",
            "50 คะแนน เกรดที่จะได้ คือ D\n",
            "65 คะแนน เกรดที่จะได้ คือ C+\n",
            "90 คะแนน เกรดที่จะได้ คือ A\n",
            "error\n",
            "error\n",
            "49 คะแนน เกรดที่จะได้ คือ F\n"
          ],
          "name": "stdout"
        }
      ]
    }
  ]
}