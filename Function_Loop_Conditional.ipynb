{
  "nbformat": 4,
  "nbformat_minor": 0,
  "metadata": {
    "colab": {
      "name": "Function_Loop_Conditional.ipynb",
      "provenance": [],
      "authorship_tag": "ABX9TyPBmeUO2HA9YH+D9nlMHIQ2",
      "include_colab_link": true
    },
    "kernelspec": {
      "name": "python3",
      "display_name": "Python 3"
    }
  },
  "cells": [
    {
      "cell_type": "markdown",
      "metadata": {
        "id": "view-in-github",
        "colab_type": "text"
      },
      "source": [
        "<a href=\"https://colab.research.google.com/github/Suchirapon/data_viz/blob/main/Function_Loop_Conditional.ipynb\" target=\"_parent\"><img src=\"https://colab.research.google.com/assets/colab-badge.svg\" alt=\"Open In Colab\"/></a>"
      ]
    },
    {
      "cell_type": "code",
      "metadata": {
        "colab": {
          "base_uri": "https://localhost:8080/"
        },
        "id": "lI-J2-84fgMG",
        "outputId": "655d25b1-db8b-4307-821d-9ed6db631ac5"
      },
      "source": [
        "name = 'สุชิราภรณ์'\r\n",
        "surname = 'สุนทรภักดิ์'\r\n",
        "ID = '613020619-0'\r\n",
        "\r\n",
        "b = f'=ชื่อ {name} นามสกุล {surname} รหัส {ID}'\r\n",
        "print(b)"
      ],
      "execution_count": 4,
      "outputs": [
        {
          "output_type": "stream",
          "text": [
            "=ชื่อ สุชิราภรณ์ นามสกุล สุนทรภักดิ์ รหัส 613020619-0\n"
          ],
          "name": "stdout"
        }
      ]
    },
    {
      "cell_type": "markdown",
      "metadata": {
        "id": "UUDCyQ8OfolW"
      },
      "source": [
        "# Fuction template\r\n",
        "\r\n",
        "ทำหน้าที่รับ input มาประมวลผลออกมาเป็น output\r\n",
        "\r\n",
        "f(x) = y"
      ]
    },
    {
      "cell_type": "markdown",
      "metadata": {
        "id": "L3BNBTZqg86x"
      },
      "source": [
        "## def คือ การกำหนดฟังก์ชัน"
      ]
    },
    {
      "cell_type": "markdown",
      "metadata": {
        "id": "4FS-Ve1OhnGy"
      },
      "source": [
        "``` Python\r\n",
        "      def function_name(_Input_) :\r\n",
        "          do_someting with _Input_ to get _Output_\r\n",
        "          return _Output_ \r\n",
        "```\r\n",
        "back tick (`) ==>  กด Alt + 96\r\n",
        "\r\n",
        "tilde (~) ==> กด shift + ~ ค้างไว้ 1 วิ\r\n",
        "\r\n",
        "curly bracket ({  })\r\n",
        "\r\n",
        "square bracket ([ ])\r\n",
        "\r\n",
        "\r\n"
      ]
    },
    {
      "cell_type": "markdown",
      "metadata": {
        "id": "mOthomzgl545"
      },
      "source": [
        "## Function มีส่วนสำคัญท้งหมด 4 ส่วน\r\n",
        "\r\n",
        "1. บอก python ว่าเราจะเขียนฟังก์ชัน ชื่ออะไร  ```def function_name():``` (ขาดไม่ได้)\r\n",
        "2. กำหนดตัวแปรที่จะเป็น Input ในวงเล็บหลังจากชื่อ function ก็คือ ```Input``` (ขาดได้)\r\n",
        "3. ส่วนประมวลผล ```do_someting with _Input_ to get _Output_``` (ขาดไม่ได้)\r\n",
        "4. ส่วน output จะอยู่ที่ตัว ```return _Output_ ``` (ขาดได้)"
      ]
    },
    {
      "cell_type": "markdown",
      "metadata": {
        "id": "xzdbieh_kKQB"
      },
      "source": [
        "## ตัวอย่างการเขียน normal function"
      ]
    },
    {
      "cell_type": "code",
      "metadata": {
        "id": "r44rdinggnBs"
      },
      "source": [
        "def print_name(name,surname,ID) : #สร้างฟังก์ชัน print_name ตามด้วย Input ของฟังก์ชัน คือ name,surname,ID\r\n",
        "    st = f'ชื่อ {name} นามสกุล {surname} รหัส {ID} ' #สร้างตัวแปร st ขึ้นมา โดยให้ประกอบด้วย text เว้นวรรค ตามด้วยตัวแปร\r\n",
        "    return st #output"
      ],
      "execution_count": 5,
      "outputs": []
    },
    {
      "cell_type": "code",
      "metadata": {
        "colab": {
          "base_uri": "https://localhost:8080/",
          "height": 35
        },
        "id": "Eq_uJ6nvgm9-",
        "outputId": "f74ede8e-09d1-4815-b748-5b08c4d1d596"
      },
      "source": [
        "print_name('สุชิราภรณ์', 'สุนทรภักดิ์', '613020619-0') "
      ],
      "execution_count": 6,
      "outputs": [
        {
          "output_type": "execute_result",
          "data": {
            "application/vnd.google.colaboratory.intrinsic+json": {
              "type": "string"
            },
            "text/plain": [
              "'ชื่อ สุชิราภรณ์ นามสกุล สุนทรภักดิ์ รหัส 613020619-0 '"
            ]
          },
          "metadata": {
            "tags": []
          },
          "execution_count": 6
        }
      ]
    },
    {
      "cell_type": "code",
      "metadata": {
        "colab": {
          "base_uri": "https://localhost:8080/"
        },
        "id": "2uxqWI1Mgm67",
        "outputId": "d32f98ce-4705-422f-ee53-9ee161fd44be"
      },
      "source": [
        "print(print_name(name='กาญจนา', surname='ประสาคุณ', ID='603021855-2'))\r\n",
        "# กำหนดตัวแปรขึ้นมาก่อนที่จะพิมพ์"
      ],
      "execution_count": 7,
      "outputs": [
        {
          "output_type": "stream",
          "text": [
            "ชื่อ กาญจนา นามสกุล ประสาคุณ รหัส 603021855-2 \n"
          ],
          "name": "stdout"
        }
      ]
    },
    {
      "cell_type": "markdown",
      "metadata": {
        "id": "BFAq2yMcpXjg"
      },
      "source": [
        "เราใช้ เว้นวรรค (indent) เพื่อบอกขอบเขตของโปรแกรม"
      ]
    },
    {
      "cell_type": "code",
      "metadata": {
        "id": "WT3RHGiNpFaE"
      },
      "source": [
        "def print_name2(name,surname,ID) : \r\n",
        "    st = f'ชื่อ {name} นามสกุล {surname} รหัส {ID} ' \r\n",
        "    print(st) #ไม่ต้องส่งค่า output แล้ว ให้ print เลย"
      ],
      "execution_count": 11,
      "outputs": []
    },
    {
      "cell_type": "markdown",
      "metadata": {
        "id": "_NEp0bGXrQFI"
      },
      "source": [
        "### Function ไม่จำเป็นต้องมี output"
      ]
    },
    {
      "cell_type": "code",
      "metadata": {
        "colab": {
          "base_uri": "https://localhost:8080/"
        },
        "id": "NkG4dO2vpp5O",
        "outputId": "f49ad694-d461-42e2-9bcc-5d4d32ba6ce4"
      },
      "source": [
        "print_name2(name='กาญจนา', surname='ประสาคุณ', ID='603021855-2')"
      ],
      "execution_count": 12,
      "outputs": [
        {
          "output_type": "stream",
          "text": [
            "ชื่อ กาญจนา นามสกุล ประสาคุณ รหัส 603021855-2 \n"
          ],
          "name": "stdout"
        }
      ]
    },
    {
      "cell_type": "markdown",
      "metadata": {
        "id": "83ejBSfnqOT1"
      },
      "source": [
        "## Function ไม่จำเป็นต้องมี input"
      ]
    },
    {
      "cell_type": "code",
      "metadata": {
        "id": "ZCw-ewE3qC44"
      },
      "source": [
        "def Pi() :\r\n",
        "      return 3.14159265359\r\n",
        "      # เป็นฟังก์ชันที่ไม่มี input แต่จะ return ค่า Pi ออกมาอย่างดียว"
      ],
      "execution_count": 13,
      "outputs": []
    },
    {
      "cell_type": "code",
      "metadata": {
        "colab": {
          "base_uri": "https://localhost:8080/"
        },
        "id": "6husUKVJqC1G",
        "outputId": "e70302cd-55a6-4807-8969-b5ee626ed7f9"
      },
      "source": [
        "Pi()*(2**2) \r\n",
        "# หาพื้นที่ของวงกลมที่มีรัศมีเท่ากับ Pi * r^2"
      ],
      "execution_count": 15,
      "outputs": [
        {
          "output_type": "execute_result",
          "data": {
            "text/plain": [
              "12.56637061436"
            ]
          },
          "metadata": {
            "tags": []
          },
          "execution_count": 15
        }
      ]
    },
    {
      "cell_type": "markdown",
      "metadata": {
        "id": "XD4McaIRoEDz"
      },
      "source": [
        "## เราสามารถกำหนดค่า default(ค่าเริ่มต้น) ให้กับฟังก์ชันได้"
      ]
    },
    {
      "cell_type": "markdown",
      "metadata": {
        "id": "zLdYhlOPxVF1"
      },
      "source": [
        "input "
      ]
    },
    {
      "cell_type": "code",
      "metadata": {
        "id": "HorupoeTsvLi"
      },
      "source": [
        "def print_2lines_default(name,surname,ID,grade = 'F') :\r\n",
        "      st = f'ชื่อ {name} นามสกุล {surname} รหัส {ID} ' \r\n",
        "      print(st)\r\n",
        "      st2 = f'เกรดวิชา Data viz = >>> {grade}'\r\n",
        "      print(st2)"
      ],
      "execution_count": 19,
      "outputs": []
    },
    {
      "cell_type": "code",
      "metadata": {
        "id": "YDuKGvFzt8jJ"
      },
      "source": [
        ""
      ],
      "execution_count": null,
      "outputs": []
    },
    {
      "cell_type": "code",
      "metadata": {
        "id": "9arlcBT9gm39"
      },
      "source": [
        "#ฟังก์ชันชื่อ.... input มี และ มี grade = 'F' ที่เป็นตัวกำหนดไว้อยู่แล้ว"
      ],
      "execution_count": null,
      "outputs": []
    },
    {
      "cell_type": "markdown",
      "metadata": {
        "id": "qxf4lap50bCI"
      },
      "source": [
        "# Loop การวนซ้ำ"
      ]
    },
    {
      "cell_type": "markdown",
      "metadata": {
        "id": "IwzPav9y0fev"
      },
      "source": [
        "for เป้นคำสั่งที่ใช้บอก python ว่าเรากำลังเขียน loop\r\n",
        "\r\n",
        "โดย for จะวนดึงสมาชิกจาก ```listA``` มาทำ process ```do_something```"
      ]
    },
    {
      "cell_type": "markdown",
      "metadata": {
        "id": "j2iMgJVN1E0a"
      },
      "source": [
        "### คำสั่ง for เป็นคำสั่งวนซ้ำที่ใช้ควบคุมการทำงานซ้ำๆ ในจำนวนรอบที่แน่นอน"
      ]
    },
    {
      "cell_type": "code",
      "metadata": {
        "colab": {
          "base_uri": "https://localhost:8080/"
        },
        "id": "E40mybqIgm0t",
        "outputId": "552203c1-465e-4026-bd34-e7ef315d6cc8"
      },
      "source": [
        "for i in [1,2,3] :\r\n",
        "    o = i**2\r\n",
        "    print (f'this member = {i} after process = {o}')"
      ],
      "execution_count": 20,
      "outputs": [
        {
          "output_type": "stream",
          "text": [
            "this member = 1 after process = 1\n",
            "this member = 2 after process = 4\n",
            "this member = 3 after process = 9\n"
          ],
          "name": "stdout"
        }
      ]
    },
    {
      "cell_type": "code",
      "metadata": {
        "id": "ROwsUwZugmwq"
      },
      "source": [
        ""
      ],
      "execution_count": null,
      "outputs": []
    },
    {
      "cell_type": "code",
      "metadata": {
        "id": "HaSX02XygmrS"
      },
      "source": [
        ""
      ],
      "execution_count": null,
      "outputs": []
    },
    {
      "cell_type": "code",
      "metadata": {
        "id": "2HbZfB83gmjp"
      },
      "source": [
        ""
      ],
      "execution_count": null,
      "outputs": []
    }
  ]
}