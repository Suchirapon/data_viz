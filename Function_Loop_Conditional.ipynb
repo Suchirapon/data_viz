{
  "nbformat": 4,
  "nbformat_minor": 0,
  "metadata": {
    "colab": {
      "name": "Function_Loop_Conditional.ipynb",
      "provenance": [],
      "authorship_tag": "ABX9TyOo0lnxjKUIlnlVO2jd2MSZ",
      "include_colab_link": true
    },
    "kernelspec": {
      "name": "python3",
      "display_name": "Python 3"
    }
  },
  "cells": [
    {
      "cell_type": "markdown",
      "metadata": {
        "id": "view-in-github",
        "colab_type": "text"
      },
      "source": [
        "<a href=\"https://colab.research.google.com/github/Suchirapon/data_viz/blob/main/Function_Loop_Conditional.ipynb\" target=\"_parent\"><img src=\"https://colab.research.google.com/assets/colab-badge.svg\" alt=\"Open In Colab\"/></a>"
      ]
    },
    {
      "cell_type": "code",
      "metadata": {
        "colab": {
          "base_uri": "https://localhost:8080/"
        },
        "id": "lI-J2-84fgMG",
        "outputId": "e94f5b3c-b5b3-4db9-c158-b97712f9569b"
      },
      "source": [
        "name = 'สุชิราภรณ์'\r\n",
        "surname = 'สุนทรภักดิ์'\r\n",
        "ID = '613020619-0'\r\n",
        "\r\n",
        "b = f'=ชื่อ {name} นามสกุล {surname} รหัส {ID}'\r\n",
        "print(b)"
      ],
      "execution_count": 1,
      "outputs": [
        {
          "output_type": "stream",
          "text": [
            "=ชื่อ สุชิราภรณ์ นามสกุล สุนทรภักดิ์ รหัส 613020619-0\n"
          ],
          "name": "stdout"
        }
      ]
    },
    {
      "cell_type": "markdown",
      "metadata": {
        "id": "UUDCyQ8OfolW"
      },
      "source": [
        "# Fuction template\r\n",
        "\r\n",
        "ทำหน้าที่รับ input มาประมวลผลออกมาเป็น output\r\n",
        "\r\n",
        "f(x) = y"
      ]
    },
    {
      "cell_type": "markdown",
      "metadata": {
        "id": "L3BNBTZqg86x"
      },
      "source": [
        "## def คือ การกำหนดฟังก์ชัน"
      ]
    },
    {
      "cell_type": "markdown",
      "metadata": {
        "id": "4FS-Ve1OhnGy"
      },
      "source": [
        "``` Python\r\n",
        "      def function_name(_Input_) :\r\n",
        "          do_someting with _Input_ to get _Output_\r\n",
        "          return _Output_ \r\n",
        "```\r\n",
        "back tick (`) ==>  กด Alt + 96\r\n",
        "\r\n",
        "tilde (~) ==> กด shift + ~ ค้างไว้ 1 วิ\r\n",
        "\r\n",
        "curly bracket ({  })\r\n",
        "\r\n",
        "square bracket ([ ])\r\n",
        "\r\n",
        "\r\n"
      ]
    },
    {
      "cell_type": "markdown",
      "metadata": {
        "id": "mOthomzgl545"
      },
      "source": [
        "## Function มีส่วนสำคัญท้งหมด 4 ส่วน\r\n",
        "\r\n",
        "1. บอก python ว่าเราจะเขียนฟังก์ชัน ชื่ออะไร  ```def function_name():``` (ขาดไม่ได้)\r\n",
        "2. กำหนดตัวแปรที่จะเป็น Input ในวงเล็บหลังจากชื่อ function ก็คือ ```Input``` (ขาดได้)\r\n",
        "3. ส่วนประมวลผล ```do_someting with _Input_ to get _Output_``` (ขาดไม่ได้)\r\n",
        "4. ส่วน output จะอยู่ที่ตัว ```return _Output_ ``` (ขาดได้)"
      ]
    },
    {
      "cell_type": "markdown",
      "metadata": {
        "id": "xzdbieh_kKQB"
      },
      "source": [
        "## ตัวอย่างการเขียน normal function"
      ]
    },
    {
      "cell_type": "code",
      "metadata": {
        "id": "r44rdinggnBs"
      },
      "source": [
        "def print_name(name,surname,ID) : #สร้างฟังก์ชัน print_name ตามด้วย Input ของฟังก์ชัน คือ name,surname,ID\r\n",
        "    st = f'ชื่อ {name} นามสกุล {surname} รหัส {ID} ' #สร้างตัวแปร st ขึ้นมา โดยให้ประกอบด้วย text เว้นวรรค ตามด้วยตัวแปร\r\n",
        "    return st #output"
      ],
      "execution_count": 2,
      "outputs": []
    },
    {
      "cell_type": "code",
      "metadata": {
        "colab": {
          "base_uri": "https://localhost:8080/",
          "height": 35
        },
        "id": "Eq_uJ6nvgm9-",
        "outputId": "d441de56-d9a8-4a4f-e963-9c22acf1ed47"
      },
      "source": [
        "print_name('สุชิราภรณ์', 'สุนทรภักดิ์', '613020619-0') "
      ],
      "execution_count": 3,
      "outputs": [
        {
          "output_type": "execute_result",
          "data": {
            "application/vnd.google.colaboratory.intrinsic+json": {
              "type": "string"
            },
            "text/plain": [
              "'ชื่อ สุชิราภรณ์ นามสกุล สุนทรภักดิ์ รหัส 613020619-0 '"
            ]
          },
          "metadata": {
            "tags": []
          },
          "execution_count": 3
        }
      ]
    },
    {
      "cell_type": "code",
      "metadata": {
        "colab": {
          "base_uri": "https://localhost:8080/"
        },
        "id": "2uxqWI1Mgm67",
        "outputId": "329ab9f6-9e61-425e-ff54-5a14e90e4064"
      },
      "source": [
        "print(print_name(name='กาญจนา', surname='ประสาคุณ', ID='603021855-2'))\r\n",
        "# กำหนดตัวแปรขึ้นมาก่อนที่จะพิมพ์"
      ],
      "execution_count": 4,
      "outputs": [
        {
          "output_type": "stream",
          "text": [
            "ชื่อ กาญจนา นามสกุล ประสาคุณ รหัส 603021855-2 \n"
          ],
          "name": "stdout"
        }
      ]
    },
    {
      "cell_type": "markdown",
      "metadata": {
        "id": "BFAq2yMcpXjg"
      },
      "source": [
        "เราใช้ เว้นวรรค (indent) เพื่อบอกขอบเขตของโปรแกรม"
      ]
    },
    {
      "cell_type": "code",
      "metadata": {
        "id": "WT3RHGiNpFaE"
      },
      "source": [
        "def print_name2(name,surname,ID) : \r\n",
        "    st = f'ชื่อ {name} นามสกุล {surname} รหัส {ID} ' \r\n",
        "    print(st) #ไม่ต้องส่งค่า output แล้ว ให้ print เลย"
      ],
      "execution_count": 5,
      "outputs": []
    },
    {
      "cell_type": "markdown",
      "metadata": {
        "id": "_NEp0bGXrQFI"
      },
      "source": [
        "### Function ไม่จำเป็นต้องมี output"
      ]
    },
    {
      "cell_type": "code",
      "metadata": {
        "colab": {
          "base_uri": "https://localhost:8080/"
        },
        "id": "NkG4dO2vpp5O",
        "outputId": "b2042bcf-88a9-4204-e20d-35364967fb68"
      },
      "source": [
        "print_name2(name='กาญจนา', surname='ประสาคุณ', ID='603021855-2')"
      ],
      "execution_count": 6,
      "outputs": [
        {
          "output_type": "stream",
          "text": [
            "ชื่อ กาญจนา นามสกุล ประสาคุณ รหัส 603021855-2 \n"
          ],
          "name": "stdout"
        }
      ]
    },
    {
      "cell_type": "markdown",
      "metadata": {
        "id": "83ejBSfnqOT1"
      },
      "source": [
        "## Function ไม่จำเป็นต้องมี input"
      ]
    },
    {
      "cell_type": "code",
      "metadata": {
        "id": "ZCw-ewE3qC44"
      },
      "source": [
        "def Pi() :\r\n",
        "      return 3.14159265359\r\n",
        "      # เป็นฟังก์ชันที่ไม่มี input แต่จะ return ค่า Pi ออกมาอย่างดียว"
      ],
      "execution_count": 7,
      "outputs": []
    },
    {
      "cell_type": "code",
      "metadata": {
        "colab": {
          "base_uri": "https://localhost:8080/"
        },
        "id": "6husUKVJqC1G",
        "outputId": "71a755c8-c231-4a0a-fff7-5cb90154d037"
      },
      "source": [
        "Pi()*(2**2) \r\n",
        "# หาพื้นที่ของวงกลมที่มีรัศมีเท่ากับ Pi * r^2"
      ],
      "execution_count": 8,
      "outputs": [
        {
          "output_type": "execute_result",
          "data": {
            "text/plain": [
              "12.56637061436"
            ]
          },
          "metadata": {
            "tags": []
          },
          "execution_count": 8
        }
      ]
    },
    {
      "cell_type": "markdown",
      "metadata": {
        "id": "XD4McaIRoEDz"
      },
      "source": [
        "## เราสามารถกำหนดค่า default(ค่าเริ่มต้น) ให้กับฟังก์ชันได้"
      ]
    },
    {
      "cell_type": "markdown",
      "metadata": {
        "id": "zLdYhlOPxVF1"
      },
      "source": [
        "input "
      ]
    },
    {
      "cell_type": "code",
      "metadata": {
        "id": "HorupoeTsvLi"
      },
      "source": [
        "def print_2lines_default(name,surname,ID,grade = 'F') :\r\n",
        "      st = f'ชื่อ {name} นามสกุล {surname} รหัส {ID} ' \r\n",
        "      print(st)\r\n",
        "      st2 = f'เกรดวิชา Data viz = >>> {grade}'\r\n",
        "      print(st2)"
      ],
      "execution_count": 9,
      "outputs": []
    },
    {
      "cell_type": "code",
      "metadata": {
        "id": "YDuKGvFzt8jJ"
      },
      "source": [
        ""
      ],
      "execution_count": null,
      "outputs": []
    },
    {
      "cell_type": "code",
      "metadata": {
        "id": "9arlcBT9gm39"
      },
      "source": [
        "#ฟังก์ชันชื่อ.... input มี และ มี grade = 'F' ที่เป็นตัวกำหนดไว้อยู่แล้ว"
      ],
      "execution_count": null,
      "outputs": []
    },
    {
      "cell_type": "markdown",
      "metadata": {
        "id": "qxf4lap50bCI"
      },
      "source": [
        "# Loop การวนซ้ำ"
      ]
    },
    {
      "cell_type": "markdown",
      "metadata": {
        "id": "IwzPav9y0fev"
      },
      "source": [
        "for เป้นคำสั่งที่ใช้บอก python ว่าเรากำลังเขียน loop\r\n",
        "\r\n",
        "โดย for จะวนดึงสมาชิกจาก ```listA``` มาทำ process ```do_something```"
      ]
    },
    {
      "cell_type": "markdown",
      "metadata": {
        "id": "j2iMgJVN1E0a"
      },
      "source": [
        "### คำสั่ง for เป็นคำสั่งวนซ้ำที่ใช้ควบคุมการทำงานซ้ำๆ ในจำนวนรอบที่แน่นอน"
      ]
    },
    {
      "cell_type": "code",
      "metadata": {
        "colab": {
          "base_uri": "https://localhost:8080/"
        },
        "id": "E40mybqIgm0t",
        "outputId": "10625968-f177-444d-b781-ab2bee514548"
      },
      "source": [
        "for i in [1,2,3] :\r\n",
        "    o = i**2\r\n",
        "    print (f'this member = {i} after process = {o}')"
      ],
      "execution_count": 10,
      "outputs": [
        {
          "output_type": "stream",
          "text": [
            "this member = 1 after process = 1\n",
            "this member = 2 after process = 4\n",
            "this member = 3 after process = 9\n"
          ],
          "name": "stdout"
        }
      ]
    },
    {
      "cell_type": "markdown",
      "metadata": {
        "id": "ZC_5CLs6Vbb7"
      },
      "source": [
        "ตัวอย่างการใช้คำสั่ง for ในการวนซ้ำค่าของ i เมื่อ i คือ 'Suchirapon' "
      ]
    },
    {
      "cell_type": "code",
      "metadata": {
        "id": "ROwsUwZugmwq",
        "outputId": "2cd64997-1a89-4997-9422-0df8bee7e47e",
        "colab": {
          "base_uri": "https://localhost:8080/"
        }
      },
      "source": [
        "for i in 'Suchirapon' :\r\n",
        "  print(f'{i} -> / ')"
      ],
      "execution_count": 12,
      "outputs": [
        {
          "output_type": "stream",
          "text": [
            "S -> / \n",
            "u -> / \n",
            "c -> / \n",
            "h -> / \n",
            "i -> / \n",
            "r -> / \n",
            "a -> / \n",
            "p -> / \n",
            "o -> / \n",
            "n -> / \n"
          ],
          "name": "stdout"
        }
      ]
    },
    {
      "cell_type": "code",
      "metadata": {
        "id": "HaSX02XygmrS",
        "outputId": "91da9e12-4787-42c8-dba6-e9744e14129e",
        "colab": {
          "base_uri": "https://localhost:8080/"
        }
      },
      "source": [
        "for i in 'Suchirapon' :\r\n",
        "  print(f'{i} -> / ' ,end=' ') #สั่งให้ print แบบ ไม่เว้นบรรทัด"
      ],
      "execution_count": 14,
      "outputs": [
        {
          "output_type": "stream",
          "text": [
            "S -> /  u -> /  c -> /  h -> /  i -> /  r -> /  a -> /  p -> /  o -> /  n -> /  "
          ],
          "name": "stdout"
        }
      ]
    },
    {
      "cell_type": "markdown",
      "metadata": {
        "id": "dgT4ZlFKYLiz"
      },
      "source": [
        "## สร้าง list ตัวเลขอัตโนมัติ range()"
      ]
    },
    {
      "cell_type": "code",
      "metadata": {
        "id": "2HbZfB83gmjp",
        "outputId": "727d3e2e-4ee8-4822-c3fb-776b5a39a65e",
        "colab": {
          "base_uri": "https://localhost:8080/"
        }
      },
      "source": [
        "range5_output = range(5)\r\n",
        "print(list(range5_output))"
      ],
      "execution_count": 15,
      "outputs": [
        {
          "output_type": "stream",
          "text": [
            "[0, 1, 2, 3, 4]\n"
          ],
          "name": "stdout"
        }
      ]
    },
    {
      "cell_type": "code",
      "metadata": {
        "id": "ST7FMbD5Y-VB",
        "outputId": "433b60a0-3757-4e59-c505-ba23320c87e4",
        "colab": {
          "base_uri": "https://localhost:8080/"
        }
      },
      "source": [
        "for i in range(100) :\r\n",
        "    print('งง',end=' ')"
      ],
      "execution_count": 16,
      "outputs": [
        {
          "output_type": "stream",
          "text": [
            "งง งง งง งง งง งง งง งง งง งง งง งง งง งง งง งง งง งง งง งง งง งง งง งง งง งง งง งง งง งง งง งง งง งง งง งง งง งง งง งง งง งง งง งง งง งง งง งง งง งง งง งง งง งง งง งง งง งง งง งง งง งง งง งง งง งง งง งง งง งง งง งง งง งง งง งง งง งง งง งง งง งง งง งง งง งง งง งง งง งง งง งง งง งง งง งง งง งง งง งง "
          ],
          "name": "stdout"
        }
      ]
    },
    {
      "cell_type": "code",
      "metadata": {
        "id": "7AiSGe-HY-Mg",
        "outputId": "39587155-bf05-4e95-deee-45e70a97e135",
        "colab": {
          "base_uri": "https://localhost:8080/"
        }
      },
      "source": [
        "list(range(1,11)) #เริ่มต้นเป็นวงทึบ จบเป็นวงกลมโปร่ง เหมือน list slicing"
      ],
      "execution_count": 17,
      "outputs": [
        {
          "output_type": "execute_result",
          "data": {
            "text/plain": [
              "[1, 2, 3, 4, 5, 6, 7, 8, 9, 10]"
            ]
          },
          "metadata": {
            "tags": []
          },
          "execution_count": 17
        }
      ]
    },
    {
      "cell_type": "code",
      "metadata": {
        "id": "UpqLf3hYccNI",
        "outputId": "9a303be8-7878-4859-df96-bbaa0ef43b11",
        "colab": {
          "base_uri": "https://localhost:8080/"
        }
      },
      "source": [
        "list(range(-3,20,4))"
      ],
      "execution_count": 19,
      "outputs": [
        {
          "output_type": "execute_result",
          "data": {
            "text/plain": [
              "[-3, 1, 5, 9, 13, 17]"
            ]
          },
          "metadata": {
            "tags": []
          },
          "execution_count": 19
        }
      ]
    },
    {
      "cell_type": "markdown",
      "metadata": {
        "id": "LKPjp1Cqc6Ih"
      },
      "source": [
        "## loop in loop\r\n",
        "สามารถใช้ for loop ซ้อนกันสองรอบได้"
      ]
    },
    {
      "cell_type": "code",
      "metadata": {
        "id": "unL_Et2XccFn",
        "outputId": "f01c1646-09d0-4648-f4b9-bda5fbb26c3c",
        "colab": {
          "base_uri": "https://localhost:8080/"
        }
      },
      "source": [
        "for name1 in range(2,5) :\r\n",
        "  for name2 in range(1,13) :\r\n",
        "      print(name1, 'x' , name2, '=' , name1*name2)"
      ],
      "execution_count": 20,
      "outputs": [
        {
          "output_type": "stream",
          "text": [
            "2 x 1 = 2\n",
            "2 x 2 = 4\n",
            "2 x 3 = 6\n",
            "2 x 4 = 8\n",
            "2 x 5 = 10\n",
            "2 x 6 = 12\n",
            "2 x 7 = 14\n",
            "2 x 8 = 16\n",
            "2 x 9 = 18\n",
            "2 x 10 = 20\n",
            "2 x 11 = 22\n",
            "2 x 12 = 24\n",
            "3 x 1 = 3\n",
            "3 x 2 = 6\n",
            "3 x 3 = 9\n",
            "3 x 4 = 12\n",
            "3 x 5 = 15\n",
            "3 x 6 = 18\n",
            "3 x 7 = 21\n",
            "3 x 8 = 24\n",
            "3 x 9 = 27\n",
            "3 x 10 = 30\n",
            "3 x 11 = 33\n",
            "3 x 12 = 36\n",
            "4 x 1 = 4\n",
            "4 x 2 = 8\n",
            "4 x 3 = 12\n",
            "4 x 4 = 16\n",
            "4 x 5 = 20\n",
            "4 x 6 = 24\n",
            "4 x 7 = 28\n",
            "4 x 8 = 32\n",
            "4 x 9 = 36\n",
            "4 x 10 = 40\n",
            "4 x 11 = 44\n",
            "4 x 12 = 48\n"
          ],
          "name": "stdout"
        }
      ]
    },
    {
      "cell_type": "code",
      "metadata": {
        "id": "YCN6xEMkcb-_"
      },
      "source": [
        ""
      ],
      "execution_count": null,
      "outputs": []
    },
    {
      "cell_type": "code",
      "metadata": {
        "id": "A3rMGno3cby7"
      },
      "source": [
        ""
      ],
      "execution_count": null,
      "outputs": []
    },
    {
      "cell_type": "markdown",
      "metadata": {
        "id": "w6N90RUBkBEf"
      },
      "source": [
        "# Connditional คือ เงื่อนไข/ประโยคเงื่อนไข\r\n",
        "## True / False\r\n",
        "\r\n",
        "การวนลูปโดยมีเงื่อนไขต่างๆ มาเกี่ยวข้อง โดยมี pattern ดังนี้"
      ]
    },
    {
      "cell_type": "markdown",
      "metadata": {
        "id": "KRvH2GHTkeXk"
      },
      "source": [
        ""
      ]
    }
  ]
}