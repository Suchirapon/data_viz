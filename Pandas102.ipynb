{
  "nbformat": 4,
  "nbformat_minor": 0,
  "metadata": {
    "colab": {
      "name": "Pandas102.ipynb",
      "provenance": [],
      "authorship_tag": "ABX9TyPMja5UoSDI/eFC/+zfB+qE",
      "include_colab_link": true
    },
    "kernelspec": {
      "name": "python3",
      "display_name": "Python 3"
    }
  },
  "cells": [
    {
      "cell_type": "markdown",
      "metadata": {
        "id": "view-in-github",
        "colab_type": "text"
      },
      "source": [
        "<a href=\"https://colab.research.google.com/github/Suchirapon/data_viz/blob/main/Pandas102.ipynb\" target=\"_parent\"><img src=\"https://colab.research.google.com/assets/colab-badge.svg\" alt=\"Open In Colab\"/></a>"
      ]
    },
    {
      "cell_type": "code",
      "metadata": {
        "id": "YBW4EaOBV1zy"
      },
      "source": [
        "import pandas as pd"
      ],
      "execution_count": 1,
      "outputs": []
    },
    {
      "cell_type": "code",
      "metadata": {
        "colab": {
          "base_uri": "https://localhost:8080/"
        },
        "id": "M7wCy_DVWCfI",
        "outputId": "d843172c-a253-46dd-f472-7c5ed97d48f1"
      },
      "source": [
        "from google.colab import drive #เชื่อมต่อ google.colab กับ drive\r\n",
        "drive.mount('/content/drive')"
      ],
      "execution_count": 2,
      "outputs": [
        {
          "output_type": "stream",
          "text": [
            "Mounted at /content/drive\n"
          ],
          "name": "stdout"
        }
      ]
    },
    {
      "cell_type": "code",
      "metadata": {
        "id": "8GXbwKX3WCaH"
      },
      "source": [
        "import os #ทำงานเกี่ยวกับการจัดการไฟล์ \r\n",
        "path = '/content/drive/My Drive/dataviz_2021_data'"
      ],
      "execution_count": 3,
      "outputs": []
    },
    {
      "cell_type": "code",
      "metadata": {
        "colab": {
          "base_uri": "https://localhost:8080/"
        },
        "id": "udIuVna9WCWz",
        "outputId": "2a815215-8165-42a3-84fa-b2e9315896e3"
      },
      "source": [
        "covid_file_path = os.path.join(path,'pm-18-jan-2021.csv')\r\n",
        "print(covid_file_path)"
      ],
      "execution_count": 7,
      "outputs": [
        {
          "output_type": "stream",
          "text": [
            "/content/drive/My Drive/dataviz_2021_data/pm-18-jan-2021.csv\n"
          ],
          "name": "stdout"
        }
      ]
    },
    {
      "cell_type": "code",
      "metadata": {
        "id": "yr97l-cMWCP0"
      },
      "source": [
        "data_covid = pd.read_csv(covid_file_path)\r\n",
        "data_covid"
      ],
      "execution_count": null,
      "outputs": []
    },
    {
      "cell_type": "markdown",
      "metadata": {
        "id": "RDJhgAzVZplr"
      },
      "source": [
        "## .isnull()?? None??"
      ]
    },
    {
      "cell_type": "code",
      "metadata": {
        "colab": {
          "base_uri": "https://localhost:8080/"
        },
        "id": "HRpUsInpWCMt",
        "outputId": "72ca52a2-a731-4029-bc0f-9e4201699408"
      },
      "source": [
        "data_covid.isnull().any()\r\n",
        "#.any() เอาค่าความจริงภายในแต่ละคอลัมมา or กัน"
      ],
      "execution_count": 12,
      "outputs": [
        {
          "output_type": "execute_result",
          "data": {
            "text/plain": [
              "No.                      False\n",
              "announce_date            False\n",
              "notification_date         True\n",
              "sex                       True\n",
              "age                       True\n",
              "nationality               True\n",
              "province_of_isolation     True\n",
              "province_of_onset         True\n",
              "district_of_onset         True\n",
              "risk                      True\n",
              "dtype: bool"
            ]
          },
          "metadata": {
            "tags": []
          },
          "execution_count": 12
        }
      ]
    },
    {
      "cell_type": "code",
      "metadata": {
        "colab": {
          "base_uri": "https://localhost:8080/"
        },
        "id": "9IlyTG05WCHW",
        "outputId": "0c2ff0e1-6c3d-462a-9a2e-476bb025ae56"
      },
      "source": [
        "data_covid.isnull().all()\r\n",
        "#.all() เอาค่าความจริงภายในแต่ละคอลัมมา and กัน"
      ],
      "execution_count": 13,
      "outputs": [
        {
          "output_type": "execute_result",
          "data": {
            "text/plain": [
              "No.                      False\n",
              "announce_date            False\n",
              "notification_date        False\n",
              "sex                      False\n",
              "age                      False\n",
              "nationality              False\n",
              "province_of_isolation    False\n",
              "province_of_onset        False\n",
              "district_of_onset        False\n",
              "risk                     False\n",
              "dtype: bool"
            ]
          },
          "metadata": {
            "tags": []
          },
          "execution_count": 13
        }
      ]
    },
    {
      "cell_type": "code",
      "metadata": {
        "colab": {
          "base_uri": "https://localhost:8080/",
          "height": 167
        },
        "id": "3UiFX1fQWB_t",
        "outputId": "cce0d9d2-23f5-4479-a168-519546f1bc6b"
      },
      "source": [
        "data_covid.iloc[0,0].isnull()\r\n",
        "#ชี้ค่าในตารางว่าเป็นค่าว่างไม่ได้ เพราะ isnull จะชี้ค่าได้เมื่อตารางเป็น array"
      ],
      "execution_count": 14,
      "outputs": [
        {
          "output_type": "error",
          "ename": "AttributeError",
          "evalue": "ignored",
          "traceback": [
            "\u001b[0;31m---------------------------------------------------------------------------\u001b[0m",
            "\u001b[0;31mAttributeError\u001b[0m                            Traceback (most recent call last)",
            "\u001b[0;32m<ipython-input-14-655f7c695cf3>\u001b[0m in \u001b[0;36m<module>\u001b[0;34m()\u001b[0m\n\u001b[0;32m----> 1\u001b[0;31m \u001b[0mdata_covid\u001b[0m\u001b[0;34m.\u001b[0m\u001b[0miloc\u001b[0m\u001b[0;34m[\u001b[0m\u001b[0;36m0\u001b[0m\u001b[0;34m,\u001b[0m\u001b[0;36m0\u001b[0m\u001b[0;34m]\u001b[0m\u001b[0;34m.\u001b[0m\u001b[0misnull\u001b[0m\u001b[0;34m(\u001b[0m\u001b[0;34m)\u001b[0m\u001b[0;34m\u001b[0m\u001b[0;34m\u001b[0m\u001b[0m\n\u001b[0m",
            "\u001b[0;31mAttributeError\u001b[0m: 'numpy.int64' object has no attribute 'isnull'"
          ]
        }
      ]
    },
    {
      "cell_type": "code",
      "metadata": {
        "id": "Uhdelsj9YZkD"
      },
      "source": [
        "data_covid.iloc['No.'][0].isnull()"
      ],
      "execution_count": null,
      "outputs": []
    },
    {
      "cell_type": "code",
      "metadata": {
        "colab": {
          "base_uri": "https://localhost:8080/"
        },
        "id": "E31tw4_-c1rQ",
        "outputId": "eb62c214-1a0d-4ef8-f31e-39a8cb181a89"
      },
      "source": [
        "data_covid.iloc[:1,0].isnull()\r\n",
        "#ตัดตารางโดย [:1,0] เพื่อให้ isnull มองค่าเป็น array"
      ],
      "execution_count": 17,
      "outputs": [
        {
          "output_type": "execute_result",
          "data": {
            "text/plain": [
              "0    False\n",
              "Name: No., dtype: bool"
            ]
          },
          "metadata": {
            "tags": []
          },
          "execution_count": 17
        }
      ]
    },
    {
      "cell_type": "markdown",
      "metadata": {
        "id": "YKJn9TEqfKli"
      },
      "source": [
        "# HW7 สร้างตารางใหม่ที่ค่าใน __sex__ เป็น missing ทั้งหมด .isnull()\r\n",
        "\r\n",
        "- สรุปว่าทำไม record นั้นๆถึงเป็น missing "
      ]
    },
    {
      "cell_type": "markdown",
      "metadata": {
        "id": "kuDJuJNbgrmO"
      },
      "source": [
        "# ต่อตารางแกน x แกน y \r\n",
        "\r\n",
        "- ต่อแกน y คือ เพิ่ม records (เพิ่มจำนวนข้อมูล)\r\n",
        "- ต่อแกน x คือ เพิ่ม columns (เพิ่มรายละเอียดของข้อมูล)"
      ]
    },
    {
      "cell_type": "markdown",
      "metadata": {
        "id": "b4bBAoiSiJgD"
      },
      "source": [
        "## ต่อแกน Y ด้วยคำสั่ง pd.concat()"
      ]
    },
    {
      "cell_type": "code",
      "metadata": {
        "id": "9iA4qnUVYZi-"
      },
      "source": [
        "dataKK = data_covid[data_covid['province_of_onset']=='ขอนแก่น'] # สร้าง list ขอนแก่น\r\n",
        "dataKK.head()"
      ],
      "execution_count": null,
      "outputs": []
    },
    {
      "cell_type": "code",
      "metadata": {
        "id": "XyvuL0KVYZdh"
      },
      "source": [
        "dataUD = data_covid[data_covid['province_of_onset']=='อุดรธานี'] # สร้าง list อุดรธานี\r\n",
        "dataUD.head()"
      ],
      "execution_count": null,
      "outputs": []
    },
    {
      "cell_type": "code",
      "metadata": {
        "id": "QAMKV_ZKYZaZ"
      },
      "source": [
        "dataMS = data_covid[data_covid['province_of_onset']=='มหาสารคาม'] # สร้าง list มหาสารคาม"
      ],
      "execution_count": null,
      "outputs": []
    },
    {
      "cell_type": "code",
      "metadata": {
        "colab": {
          "base_uri": "https://localhost:8080/",
          "height": 271
        },
        "id": "-Cj6UyKsYZUu",
        "outputId": "e1c151f9-b565-4e48-ab15-0956580b462c"
      },
      "source": [
        "# คำสั่ง pd.concat นำตารางมารวมกัน ต่อกันในแนวแกน Y (ต่อด้านล่าง) \r\n",
        "DataMYisan = pd.concat([dataKK,dataMS,dataUD])\r\n",
        "DataMYisan.head()"
      ],
      "execution_count": 26,
      "outputs": [
        {
          "output_type": "execute_result",
          "data": {
            "text/html": [
              "<div>\n",
              "<style scoped>\n",
              "    .dataframe tbody tr th:only-of-type {\n",
              "        vertical-align: middle;\n",
              "    }\n",
              "\n",
              "    .dataframe tbody tr th {\n",
              "        vertical-align: top;\n",
              "    }\n",
              "\n",
              "    .dataframe thead th {\n",
              "        text-align: right;\n",
              "    }\n",
              "</style>\n",
              "<table border=\"1\" class=\"dataframe\">\n",
              "  <thead>\n",
              "    <tr style=\"text-align: right;\">\n",
              "      <th></th>\n",
              "      <th>No.</th>\n",
              "      <th>announce_date</th>\n",
              "      <th>notification_date</th>\n",
              "      <th>sex</th>\n",
              "      <th>age</th>\n",
              "      <th>nationality</th>\n",
              "      <th>province_of_isolation</th>\n",
              "      <th>province_of_onset</th>\n",
              "      <th>district_of_onset</th>\n",
              "      <th>risk</th>\n",
              "    </tr>\n",
              "  </thead>\n",
              "  <tbody>\n",
              "    <tr>\n",
              "      <th>180</th>\n",
              "      <td>181</td>\n",
              "      <td>3/18/2020</td>\n",
              "      <td>3/15/2020</td>\n",
              "      <td>ชาย</td>\n",
              "      <td>33.0</td>\n",
              "      <td>Thailand</td>\n",
              "      <td>ขอนแก่น</td>\n",
              "      <td>ขอนแก่น</td>\n",
              "      <td>เมือง</td>\n",
              "      <td>สนามมวย</td>\n",
              "    </tr>\n",
              "    <tr>\n",
              "      <th>462</th>\n",
              "      <td>463</td>\n",
              "      <td>3/22/2020</td>\n",
              "      <td>3/21/2020</td>\n",
              "      <td>หญิง</td>\n",
              "      <td>36.0</td>\n",
              "      <td>Thailand</td>\n",
              "      <td>ขอนแก่น</td>\n",
              "      <td>ขอนแก่น</td>\n",
              "      <td>เมือง</td>\n",
              "      <td>สัมผัสใกล้ชิดกับผู้ป่วยยืนยันรายก่อนหน้านี้</td>\n",
              "    </tr>\n",
              "    <tr>\n",
              "      <th>1466</th>\n",
              "      <td>1467</td>\n",
              "      <td>3/30/2020</td>\n",
              "      <td>3/26/2020</td>\n",
              "      <td>ชาย</td>\n",
              "      <td>19.0</td>\n",
              "      <td>Thailand</td>\n",
              "      <td>ขอนแก่น</td>\n",
              "      <td>ขอนแก่น</td>\n",
              "      <td>เมือง</td>\n",
              "      <td>คนไทยเดินทางกลับจากต่างประเทศ</td>\n",
              "    </tr>\n",
              "    <tr>\n",
              "      <th>1970</th>\n",
              "      <td>1971</td>\n",
              "      <td>4/3/2020</td>\n",
              "      <td>3/31/2020</td>\n",
              "      <td>หญิง</td>\n",
              "      <td>70.0</td>\n",
              "      <td>Thailand</td>\n",
              "      <td>ขอนแก่น</td>\n",
              "      <td>ขอนแก่น</td>\n",
              "      <td>เมือง</td>\n",
              "      <td>ไปสถานที่ชุมชน เช่น ตลาดนัด สถานที่ท่องเที่ยว</td>\n",
              "    </tr>\n",
              "    <tr>\n",
              "      <th>2637</th>\n",
              "      <td>2638</td>\n",
              "      <td>4/15/2020</td>\n",
              "      <td>4/14/2020</td>\n",
              "      <td>หญิง</td>\n",
              "      <td>63.0</td>\n",
              "      <td>Thailand</td>\n",
              "      <td>ขอนแก่น</td>\n",
              "      <td>ขอนแก่น</td>\n",
              "      <td>น้ำพอง</td>\n",
              "      <td>สัมผัสผู้เดินทางจากต่างประเทศ</td>\n",
              "    </tr>\n",
              "  </tbody>\n",
              "</table>\n",
              "</div>"
            ],
            "text/plain": [
              "       No.  ...                                           risk\n",
              "180    181  ...                                        สนามมวย\n",
              "462    463  ...    สัมผัสใกล้ชิดกับผู้ป่วยยืนยันรายก่อนหน้านี้\n",
              "1466  1467  ...                  คนไทยเดินทางกลับจากต่างประเทศ\n",
              "1970  1971  ...  ไปสถานที่ชุมชน เช่น ตลาดนัด สถานที่ท่องเที่ยว\n",
              "2637  2638  ...                  สัมผัสผู้เดินทางจากต่างประเทศ\n",
              "\n",
              "[5 rows x 10 columns]"
            ]
          },
          "metadata": {
            "tags": []
          },
          "execution_count": 26
        }
      ]
    },
    {
      "cell_type": "markdown",
      "metadata": {
        "id": "XfqQBLjWkySc"
      },
      "source": [
        "## ต่อแกน X ด้วยคำสั่ง \r\n",
        "\r\n",
        "- จับ 2 ตารางมาต่อกันเลย (merge)\r\n",
        "- เลือกมาเพิ่มเฉพาะบางคอลัม (map)"
      ]
    },
    {
      "cell_type": "code",
      "metadata": {
        "id": "VFHmYewZYZOG"
      },
      "source": [
        "data_province = data_covid[['No.','announce_date','province_of_onset']]\r\n",
        "data_province "
      ],
      "execution_count": null,
      "outputs": []
    },
    {
      "cell_type": "code",
      "metadata": {
        "id": "Rob747OdmMcA"
      },
      "source": [
        "data_human = data_covid[['No.','sex',\t'age'\t,'nationality']]\r\n",
        "data_human"
      ],
      "execution_count": null,
      "outputs": []
    },
    {
      "cell_type": "markdown",
      "metadata": {
        "id": "noCEzFi1n3UB"
      },
      "source": [
        "### แบบง่าย รู้ว่าสองตาราง record ตรงกัน"
      ]
    },
    {
      "cell_type": "code",
      "metadata": {
        "id": "sW5Iof5mmMY0"
      },
      "source": [
        "full_table1 = data_human.merge(data_province ) #เอาตาราง data_human มาต่อกับตาราง data_province \r\n",
        "full_table1"
      ],
      "execution_count": null,
      "outputs": []
    },
    {
      "cell_type": "markdown",
      "metadata": {
        "id": "pDpqwbx-oGIV"
      },
      "source": [
        "### sort"
      ]
    },
    {
      "cell_type": "code",
      "metadata": {
        "id": "yPoxJ53dmMVd"
      },
      "source": [
        "data_human2 = data_human.sort_values('age') # ทำการเรียงตาม อายุ\r\n",
        "data_human2"
      ],
      "execution_count": null,
      "outputs": []
    },
    {
      "cell_type": "code",
      "metadata": {
        "colab": {
          "base_uri": "https://localhost:8080/",
          "height": 202
        },
        "id": "q35kmFWSmMSZ",
        "outputId": "1231d868-d87f-421b-f3a6-faed357248ac"
      },
      "source": [
        "full_table2 = data_human2.merge(data_province ) \r\n",
        "full_table2.head()"
      ],
      "execution_count": 33,
      "outputs": [
        {
          "output_type": "execute_result",
          "data": {
            "text/html": [
              "<div>\n",
              "<style scoped>\n",
              "    .dataframe tbody tr th:only-of-type {\n",
              "        vertical-align: middle;\n",
              "    }\n",
              "\n",
              "    .dataframe tbody tr th {\n",
              "        vertical-align: top;\n",
              "    }\n",
              "\n",
              "    .dataframe thead th {\n",
              "        text-align: right;\n",
              "    }\n",
              "</style>\n",
              "<table border=\"1\" class=\"dataframe\">\n",
              "  <thead>\n",
              "    <tr style=\"text-align: right;\">\n",
              "      <th></th>\n",
              "      <th>No.</th>\n",
              "      <th>sex</th>\n",
              "      <th>age</th>\n",
              "      <th>nationality</th>\n",
              "      <th>announce_date</th>\n",
              "      <th>province_of_onset</th>\n",
              "    </tr>\n",
              "  </thead>\n",
              "  <tbody>\n",
              "    <tr>\n",
              "      <th>0</th>\n",
              "      <td>1988</td>\n",
              "      <td>ชาย</td>\n",
              "      <td>0.10</td>\n",
              "      <td>Thailand</td>\n",
              "      <td>4/4/2020</td>\n",
              "      <td>ระยอง</td>\n",
              "    </tr>\n",
              "    <tr>\n",
              "      <th>1</th>\n",
              "      <td>6478</td>\n",
              "      <td>หญิง</td>\n",
              "      <td>0.11</td>\n",
              "      <td>Thailand</td>\n",
              "      <td>12/30/2020</td>\n",
              "      <td>เพชรบุรี</td>\n",
              "    </tr>\n",
              "    <tr>\n",
              "      <th>2</th>\n",
              "      <td>11498</td>\n",
              "      <td>ชาย</td>\n",
              "      <td>0.11</td>\n",
              "      <td>Burma</td>\n",
              "      <td>1/16/2021</td>\n",
              "      <td>สมุทรสาคร</td>\n",
              "    </tr>\n",
              "    <tr>\n",
              "      <th>3</th>\n",
              "      <td>1676</td>\n",
              "      <td>ชาย</td>\n",
              "      <td>0.30</td>\n",
              "      <td>Japan</td>\n",
              "      <td>4/1/2020</td>\n",
              "      <td>กรุงเทพมหานคร</td>\n",
              "    </tr>\n",
              "    <tr>\n",
              "      <th>4</th>\n",
              "      <td>1076</td>\n",
              "      <td>ชาย</td>\n",
              "      <td>0.40</td>\n",
              "      <td>Thailand</td>\n",
              "      <td>3/27/2020</td>\n",
              "      <td>สุราษฎร์ธานี</td>\n",
              "    </tr>\n",
              "  </tbody>\n",
              "</table>\n",
              "</div>"
            ],
            "text/plain": [
              "     No.   sex   age nationality announce_date province_of_onset\n",
              "0   1988   ชาย  0.10    Thailand      4/4/2020             ระยอง\n",
              "1   6478  หญิง  0.11    Thailand    12/30/2020          เพชรบุรี\n",
              "2  11498   ชาย  0.11       Burma     1/16/2021         สมุทรสาคร\n",
              "3   1676   ชาย  0.30       Japan      4/1/2020     กรุงเทพมหานคร\n",
              "4   1076   ชาย  0.40    Thailand     3/27/2020      สุราษฎร์ธานี"
            ]
          },
          "metadata": {
            "tags": []
          },
          "execution_count": 33
        }
      ]
    },
    {
      "cell_type": "code",
      "metadata": {
        "colab": {
          "base_uri": "https://localhost:8080/",
          "height": 202
        },
        "id": "oSRLkwnymMOw",
        "outputId": "22df929f-8f38-4ddf-b164-87b7116a0ca8"
      },
      "source": [
        "data_human2_renamed = data_human2.rename(columns={'No.' : 'patientNumber'})\r\n",
        "data_human2_renamed.head()"
      ],
      "execution_count": 36,
      "outputs": [
        {
          "output_type": "execute_result",
          "data": {
            "text/html": [
              "<div>\n",
              "<style scoped>\n",
              "    .dataframe tbody tr th:only-of-type {\n",
              "        vertical-align: middle;\n",
              "    }\n",
              "\n",
              "    .dataframe tbody tr th {\n",
              "        vertical-align: top;\n",
              "    }\n",
              "\n",
              "    .dataframe thead th {\n",
              "        text-align: right;\n",
              "    }\n",
              "</style>\n",
              "<table border=\"1\" class=\"dataframe\">\n",
              "  <thead>\n",
              "    <tr style=\"text-align: right;\">\n",
              "      <th></th>\n",
              "      <th>patientNumber</th>\n",
              "      <th>sex</th>\n",
              "      <th>age</th>\n",
              "      <th>nationality</th>\n",
              "    </tr>\n",
              "  </thead>\n",
              "  <tbody>\n",
              "    <tr>\n",
              "      <th>1987</th>\n",
              "      <td>1988</td>\n",
              "      <td>ชาย</td>\n",
              "      <td>0.10</td>\n",
              "      <td>Thailand</td>\n",
              "    </tr>\n",
              "    <tr>\n",
              "      <th>6477</th>\n",
              "      <td>6478</td>\n",
              "      <td>หญิง</td>\n",
              "      <td>0.11</td>\n",
              "      <td>Thailand</td>\n",
              "    </tr>\n",
              "    <tr>\n",
              "      <th>11497</th>\n",
              "      <td>11498</td>\n",
              "      <td>ชาย</td>\n",
              "      <td>0.11</td>\n",
              "      <td>Burma</td>\n",
              "    </tr>\n",
              "    <tr>\n",
              "      <th>1675</th>\n",
              "      <td>1676</td>\n",
              "      <td>ชาย</td>\n",
              "      <td>0.30</td>\n",
              "      <td>Japan</td>\n",
              "    </tr>\n",
              "    <tr>\n",
              "      <th>1075</th>\n",
              "      <td>1076</td>\n",
              "      <td>ชาย</td>\n",
              "      <td>0.40</td>\n",
              "      <td>Thailand</td>\n",
              "    </tr>\n",
              "  </tbody>\n",
              "</table>\n",
              "</div>"
            ],
            "text/plain": [
              "       patientNumber   sex   age nationality\n",
              "1987            1988   ชาย  0.10    Thailand\n",
              "6477            6478  หญิง  0.11    Thailand\n",
              "11497          11498   ชาย  0.11       Burma\n",
              "1675            1676   ชาย  0.30       Japan\n",
              "1075            1076   ชาย  0.40    Thailand"
            ]
          },
          "metadata": {
            "tags": []
          },
          "execution_count": 36
        }
      ]
    },
    {
      "cell_type": "code",
      "metadata": {
        "colab": {
          "base_uri": "https://localhost:8080/",
          "height": 312
        },
        "id": "By2WRUlXq9sl",
        "outputId": "c9923133-6b28-4be1-fbdd-1e52b764eb90"
      },
      "source": [
        "data_human2_renamed.merge(data_province) # ไม่มีชื่อ คอมลัม ที่เหมือนกัน "
      ],
      "execution_count": 37,
      "outputs": [
        {
          "output_type": "error",
          "ename": "MergeError",
          "evalue": "ignored",
          "traceback": [
            "\u001b[0;31m---------------------------------------------------------------------------\u001b[0m",
            "\u001b[0;31mMergeError\u001b[0m                                Traceback (most recent call last)",
            "\u001b[0;32m<ipython-input-37-ee0d027e7ef8>\u001b[0m in \u001b[0;36m<module>\u001b[0;34m()\u001b[0m\n\u001b[0;32m----> 1\u001b[0;31m \u001b[0mdata_human2_renamed\u001b[0m\u001b[0;34m.\u001b[0m\u001b[0mmerge\u001b[0m\u001b[0;34m(\u001b[0m\u001b[0mdata_province\u001b[0m\u001b[0;34m)\u001b[0m\u001b[0;34m\u001b[0m\u001b[0;34m\u001b[0m\u001b[0m\n\u001b[0m",
            "\u001b[0;32m/usr/local/lib/python3.6/dist-packages/pandas/core/frame.py\u001b[0m in \u001b[0;36mmerge\u001b[0;34m(self, right, how, on, left_on, right_on, left_index, right_index, sort, suffixes, copy, indicator, validate)\u001b[0m\n\u001b[1;32m   7961\u001b[0m             \u001b[0mcopy\u001b[0m\u001b[0;34m=\u001b[0m\u001b[0mcopy\u001b[0m\u001b[0;34m,\u001b[0m\u001b[0;34m\u001b[0m\u001b[0;34m\u001b[0m\u001b[0m\n\u001b[1;32m   7962\u001b[0m             \u001b[0mindicator\u001b[0m\u001b[0;34m=\u001b[0m\u001b[0mindicator\u001b[0m\u001b[0;34m,\u001b[0m\u001b[0;34m\u001b[0m\u001b[0;34m\u001b[0m\u001b[0m\n\u001b[0;32m-> 7963\u001b[0;31m             \u001b[0mvalidate\u001b[0m\u001b[0;34m=\u001b[0m\u001b[0mvalidate\u001b[0m\u001b[0;34m,\u001b[0m\u001b[0;34m\u001b[0m\u001b[0;34m\u001b[0m\u001b[0m\n\u001b[0m\u001b[1;32m   7964\u001b[0m         )\n\u001b[1;32m   7965\u001b[0m \u001b[0;34m\u001b[0m\u001b[0m\n",
            "\u001b[0;32m/usr/local/lib/python3.6/dist-packages/pandas/core/reshape/merge.py\u001b[0m in \u001b[0;36mmerge\u001b[0;34m(left, right, how, on, left_on, right_on, left_index, right_index, sort, suffixes, copy, indicator, validate)\u001b[0m\n\u001b[1;32m     85\u001b[0m         \u001b[0mcopy\u001b[0m\u001b[0;34m=\u001b[0m\u001b[0mcopy\u001b[0m\u001b[0;34m,\u001b[0m\u001b[0;34m\u001b[0m\u001b[0;34m\u001b[0m\u001b[0m\n\u001b[1;32m     86\u001b[0m         \u001b[0mindicator\u001b[0m\u001b[0;34m=\u001b[0m\u001b[0mindicator\u001b[0m\u001b[0;34m,\u001b[0m\u001b[0;34m\u001b[0m\u001b[0;34m\u001b[0m\u001b[0m\n\u001b[0;32m---> 87\u001b[0;31m         \u001b[0mvalidate\u001b[0m\u001b[0;34m=\u001b[0m\u001b[0mvalidate\u001b[0m\u001b[0;34m,\u001b[0m\u001b[0;34m\u001b[0m\u001b[0;34m\u001b[0m\u001b[0m\n\u001b[0m\u001b[1;32m     88\u001b[0m     )\n\u001b[1;32m     89\u001b[0m     \u001b[0;32mreturn\u001b[0m \u001b[0mop\u001b[0m\u001b[0;34m.\u001b[0m\u001b[0mget_result\u001b[0m\u001b[0;34m(\u001b[0m\u001b[0;34m)\u001b[0m\u001b[0;34m\u001b[0m\u001b[0;34m\u001b[0m\u001b[0m\n",
            "\u001b[0;32m/usr/local/lib/python3.6/dist-packages/pandas/core/reshape/merge.py\u001b[0m in \u001b[0;36m__init__\u001b[0;34m(self, left, right, how, on, left_on, right_on, axis, left_index, right_index, sort, suffixes, copy, indicator, validate)\u001b[0m\n\u001b[1;32m    643\u001b[0m             \u001b[0mwarnings\u001b[0m\u001b[0;34m.\u001b[0m\u001b[0mwarn\u001b[0m\u001b[0;34m(\u001b[0m\u001b[0mmsg\u001b[0m\u001b[0;34m,\u001b[0m \u001b[0mUserWarning\u001b[0m\u001b[0;34m)\u001b[0m\u001b[0;34m\u001b[0m\u001b[0;34m\u001b[0m\u001b[0m\n\u001b[1;32m    644\u001b[0m \u001b[0;34m\u001b[0m\u001b[0m\n\u001b[0;32m--> 645\u001b[0;31m         \u001b[0mself\u001b[0m\u001b[0;34m.\u001b[0m\u001b[0m_validate_specification\u001b[0m\u001b[0;34m(\u001b[0m\u001b[0;34m)\u001b[0m\u001b[0;34m\u001b[0m\u001b[0;34m\u001b[0m\u001b[0m\n\u001b[0m\u001b[1;32m    646\u001b[0m \u001b[0;34m\u001b[0m\u001b[0m\n\u001b[1;32m    647\u001b[0m         \u001b[0;31m# note this function has side effects\u001b[0m\u001b[0;34m\u001b[0m\u001b[0;34m\u001b[0m\u001b[0;34m\u001b[0m\u001b[0m\n",
            "\u001b[0;32m/usr/local/lib/python3.6/dist-packages/pandas/core/reshape/merge.py\u001b[0m in \u001b[0;36m_validate_specification\u001b[0;34m(self)\u001b[0m\n\u001b[1;32m   1215\u001b[0m                 \u001b[0;32mif\u001b[0m \u001b[0mlen\u001b[0m\u001b[0;34m(\u001b[0m\u001b[0mcommon_cols\u001b[0m\u001b[0;34m)\u001b[0m \u001b[0;34m==\u001b[0m \u001b[0;36m0\u001b[0m\u001b[0;34m:\u001b[0m\u001b[0;34m\u001b[0m\u001b[0;34m\u001b[0m\u001b[0m\n\u001b[1;32m   1216\u001b[0m                     raise MergeError(\n\u001b[0;32m-> 1217\u001b[0;31m                         \u001b[0;34m\"No common columns to perform merge on. \"\u001b[0m\u001b[0;34m\u001b[0m\u001b[0;34m\u001b[0m\u001b[0m\n\u001b[0m\u001b[1;32m   1218\u001b[0m                         \u001b[0;34mf\"Merge options: left_on={self.left_on}, \"\u001b[0m\u001b[0;34m\u001b[0m\u001b[0;34m\u001b[0m\u001b[0m\n\u001b[1;32m   1219\u001b[0m                         \u001b[0;34mf\"right_on={self.right_on}, \"\u001b[0m\u001b[0;34m\u001b[0m\u001b[0;34m\u001b[0m\u001b[0m\n",
            "\u001b[0;31mMergeError\u001b[0m: No common columns to perform merge on. Merge options: left_on=None, right_on=None, left_index=False, right_index=False"
          ]
        }
      ]
    },
    {
      "cell_type": "code",
      "metadata": {
        "colab": {
          "base_uri": "https://localhost:8080/",
          "height": 202
        },
        "id": "Ba2c7uNuq9o7",
        "outputId": "3b355556-7d77-4938-f601-a6a112ea9fa4"
      },
      "source": [
        "full_table3 = data_human2_renamed.merge(data_province,left_on='patientNumber',right_on='No.') \r\n",
        "full_table3.head()\r\n",
        "#จะต้องใส่ว่าคอลัมไหนที่ต้องการจะแมตซ์ โดยชี้ที่ left_on=,right_on="
      ],
      "execution_count": 38,
      "outputs": [
        {
          "output_type": "execute_result",
          "data": {
            "text/html": [
              "<div>\n",
              "<style scoped>\n",
              "    .dataframe tbody tr th:only-of-type {\n",
              "        vertical-align: middle;\n",
              "    }\n",
              "\n",
              "    .dataframe tbody tr th {\n",
              "        vertical-align: top;\n",
              "    }\n",
              "\n",
              "    .dataframe thead th {\n",
              "        text-align: right;\n",
              "    }\n",
              "</style>\n",
              "<table border=\"1\" class=\"dataframe\">\n",
              "  <thead>\n",
              "    <tr style=\"text-align: right;\">\n",
              "      <th></th>\n",
              "      <th>patientNumber</th>\n",
              "      <th>sex</th>\n",
              "      <th>age</th>\n",
              "      <th>nationality</th>\n",
              "      <th>No.</th>\n",
              "      <th>announce_date</th>\n",
              "      <th>province_of_onset</th>\n",
              "    </tr>\n",
              "  </thead>\n",
              "  <tbody>\n",
              "    <tr>\n",
              "      <th>0</th>\n",
              "      <td>1988</td>\n",
              "      <td>ชาย</td>\n",
              "      <td>0.10</td>\n",
              "      <td>Thailand</td>\n",
              "      <td>1988</td>\n",
              "      <td>4/4/2020</td>\n",
              "      <td>ระยอง</td>\n",
              "    </tr>\n",
              "    <tr>\n",
              "      <th>1</th>\n",
              "      <td>6478</td>\n",
              "      <td>หญิง</td>\n",
              "      <td>0.11</td>\n",
              "      <td>Thailand</td>\n",
              "      <td>6478</td>\n",
              "      <td>12/30/2020</td>\n",
              "      <td>เพชรบุรี</td>\n",
              "    </tr>\n",
              "    <tr>\n",
              "      <th>2</th>\n",
              "      <td>11498</td>\n",
              "      <td>ชาย</td>\n",
              "      <td>0.11</td>\n",
              "      <td>Burma</td>\n",
              "      <td>11498</td>\n",
              "      <td>1/16/2021</td>\n",
              "      <td>สมุทรสาคร</td>\n",
              "    </tr>\n",
              "    <tr>\n",
              "      <th>3</th>\n",
              "      <td>1676</td>\n",
              "      <td>ชาย</td>\n",
              "      <td>0.30</td>\n",
              "      <td>Japan</td>\n",
              "      <td>1676</td>\n",
              "      <td>4/1/2020</td>\n",
              "      <td>กรุงเทพมหานคร</td>\n",
              "    </tr>\n",
              "    <tr>\n",
              "      <th>4</th>\n",
              "      <td>1076</td>\n",
              "      <td>ชาย</td>\n",
              "      <td>0.40</td>\n",
              "      <td>Thailand</td>\n",
              "      <td>1076</td>\n",
              "      <td>3/27/2020</td>\n",
              "      <td>สุราษฎร์ธานี</td>\n",
              "    </tr>\n",
              "  </tbody>\n",
              "</table>\n",
              "</div>"
            ],
            "text/plain": [
              "   patientNumber   sex   age nationality    No. announce_date province_of_onset\n",
              "0           1988   ชาย  0.10    Thailand   1988      4/4/2020             ระยอง\n",
              "1           6478  หญิง  0.11    Thailand   6478    12/30/2020          เพชรบุรี\n",
              "2          11498   ชาย  0.11       Burma  11498     1/16/2021         สมุทรสาคร\n",
              "3           1676   ชาย  0.30       Japan   1676      4/1/2020     กรุงเทพมหานคร\n",
              "4           1076   ชาย  0.40    Thailand   1076     3/27/2020      สุราษฎร์ธานี"
            ]
          },
          "metadata": {
            "tags": []
          },
          "execution_count": 38
        }
      ]
    },
    {
      "cell_type": "markdown",
      "metadata": {
        "id": "52shFO9vt-AW"
      },
      "source": [
        "### map() เลือกมาเฉพาะบางคอลัม มาแปะเพิ่มเข้าไป"
      ]
    },
    {
      "cell_type": "code",
      "metadata": {
        "colab": {
          "base_uri": "https://localhost:8080/",
          "height": 415
        },
        "id": "rbdLv07yq9mu",
        "outputId": "3ed343cd-0f42-411c-ab90-6a0da4311198"
      },
      "source": [
        "data_human2_renamed['detail'] = data_human2_renamed['patientNumber'].map(data_covid.set_index('No.')['risk'])\r\n",
        "data_human2_renamed\r\n",
        "#"
      ],
      "execution_count": 42,
      "outputs": [
        {
          "output_type": "execute_result",
          "data": {
            "text/html": [
              "<div>\n",
              "<style scoped>\n",
              "    .dataframe tbody tr th:only-of-type {\n",
              "        vertical-align: middle;\n",
              "    }\n",
              "\n",
              "    .dataframe tbody tr th {\n",
              "        vertical-align: top;\n",
              "    }\n",
              "\n",
              "    .dataframe thead th {\n",
              "        text-align: right;\n",
              "    }\n",
              "</style>\n",
              "<table border=\"1\" class=\"dataframe\">\n",
              "  <thead>\n",
              "    <tr style=\"text-align: right;\">\n",
              "      <th></th>\n",
              "      <th>patientNumber</th>\n",
              "      <th>sex</th>\n",
              "      <th>age</th>\n",
              "      <th>nationality</th>\n",
              "      <th>detail</th>\n",
              "    </tr>\n",
              "  </thead>\n",
              "  <tbody>\n",
              "    <tr>\n",
              "      <th>1987</th>\n",
              "      <td>1988</td>\n",
              "      <td>ชาย</td>\n",
              "      <td>0.10</td>\n",
              "      <td>Thailand</td>\n",
              "      <td>สัมผัสใกล้ชิดกับผู้ป่วยยืนยันรายก่อนหน้านี้</td>\n",
              "    </tr>\n",
              "    <tr>\n",
              "      <th>6477</th>\n",
              "      <td>6478</td>\n",
              "      <td>หญิง</td>\n",
              "      <td>0.11</td>\n",
              "      <td>Thailand</td>\n",
              "      <td>สัมผัสใกล้ชิดกับผู้ป่วยยืนยันรายก่อนหน้านี้</td>\n",
              "    </tr>\n",
              "    <tr>\n",
              "      <th>11497</th>\n",
              "      <td>11498</td>\n",
              "      <td>ชาย</td>\n",
              "      <td>0.11</td>\n",
              "      <td>Burma</td>\n",
              "      <td>Cluster สมุทรสาคร</td>\n",
              "    </tr>\n",
              "    <tr>\n",
              "      <th>1675</th>\n",
              "      <td>1676</td>\n",
              "      <td>ชาย</td>\n",
              "      <td>0.30</td>\n",
              "      <td>Japan</td>\n",
              "      <td>สัมผัสใกล้ชิดกับผู้ป่วยยืนยันรายก่อนหน้านี้</td>\n",
              "    </tr>\n",
              "    <tr>\n",
              "      <th>1075</th>\n",
              "      <td>1076</td>\n",
              "      <td>ชาย</td>\n",
              "      <td>0.40</td>\n",
              "      <td>Thailand</td>\n",
              "      <td>สัมผัสใกล้ชิดกับผู้ป่วยยืนยันรายก่อนหน้านี้</td>\n",
              "    </tr>\n",
              "    <tr>\n",
              "      <th>...</th>\n",
              "      <td>...</td>\n",
              "      <td>...</td>\n",
              "      <td>...</td>\n",
              "      <td>...</td>\n",
              "      <td>...</td>\n",
              "    </tr>\n",
              "    <tr>\n",
              "      <th>12405</th>\n",
              "      <td>12406</td>\n",
              "      <td>NaN</td>\n",
              "      <td>NaN</td>\n",
              "      <td>NaN</td>\n",
              "      <td>Cluster สมุทรสาคร</td>\n",
              "    </tr>\n",
              "    <tr>\n",
              "      <th>12406</th>\n",
              "      <td>12407</td>\n",
              "      <td>NaN</td>\n",
              "      <td>NaN</td>\n",
              "      <td>NaN</td>\n",
              "      <td>Cluster สมุทรสาคร</td>\n",
              "    </tr>\n",
              "    <tr>\n",
              "      <th>12407</th>\n",
              "      <td>12408</td>\n",
              "      <td>NaN</td>\n",
              "      <td>NaN</td>\n",
              "      <td>NaN</td>\n",
              "      <td>Cluster สมุทรสาคร</td>\n",
              "    </tr>\n",
              "    <tr>\n",
              "      <th>12408</th>\n",
              "      <td>12409</td>\n",
              "      <td>NaN</td>\n",
              "      <td>NaN</td>\n",
              "      <td>NaN</td>\n",
              "      <td>Cluster สมุทรสาคร</td>\n",
              "    </tr>\n",
              "    <tr>\n",
              "      <th>12409</th>\n",
              "      <td>12410</td>\n",
              "      <td>NaN</td>\n",
              "      <td>NaN</td>\n",
              "      <td>NaN</td>\n",
              "      <td>Cluster สมุทรสาคร</td>\n",
              "    </tr>\n",
              "  </tbody>\n",
              "</table>\n",
              "<p>12423 rows × 5 columns</p>\n",
              "</div>"
            ],
            "text/plain": [
              "       patientNumber  ...                                       detail\n",
              "1987            1988  ...  สัมผัสใกล้ชิดกับผู้ป่วยยืนยันรายก่อนหน้านี้\n",
              "6477            6478  ...  สัมผัสใกล้ชิดกับผู้ป่วยยืนยันรายก่อนหน้านี้\n",
              "11497          11498  ...                            Cluster สมุทรสาคร\n",
              "1675            1676  ...  สัมผัสใกล้ชิดกับผู้ป่วยยืนยันรายก่อนหน้านี้\n",
              "1075            1076  ...  สัมผัสใกล้ชิดกับผู้ป่วยยืนยันรายก่อนหน้านี้\n",
              "...              ...  ...                                          ...\n",
              "12405          12406  ...                            Cluster สมุทรสาคร\n",
              "12406          12407  ...                            Cluster สมุทรสาคร\n",
              "12407          12408  ...                            Cluster สมุทรสาคร\n",
              "12408          12409  ...                            Cluster สมุทรสาคร\n",
              "12409          12410  ...                            Cluster สมุทรสาคร\n",
              "\n",
              "[12423 rows x 5 columns]"
            ]
          },
          "metadata": {
            "tags": []
          },
          "execution_count": 42
        }
      ]
    },
    {
      "cell_type": "code",
      "metadata": {
        "id": "cG72cWGjq9jE"
      },
      "source": [
        ""
      ],
      "execution_count": null,
      "outputs": []
    },
    {
      "cell_type": "code",
      "metadata": {
        "id": "IzCunm28q9gb"
      },
      "source": [
        ""
      ],
      "execution_count": null,
      "outputs": []
    }
  ]
}